{
 "cells": [
  {
   "cell_type": "markdown",
   "metadata": {},
   "source": [
    "# Clustering Crypto"
   ]
  },
  {
   "cell_type": "code",
   "execution_count": 40,
   "metadata": {},
   "outputs": [],
   "source": [
    "# Initial imports\n",
    "import pandas as pd\n",
    "import hvplot.pandas\n",
    "from path import Path\n",
    "import plotly.express as px\n",
    "from sklearn.preprocessing import StandardScaler, MinMaxScaler\n",
    "from sklearn.decomposition import PCA\n",
    "from sklearn.cluster import KMeans"
   ]
  },
  {
   "cell_type": "markdown",
   "metadata": {},
   "source": [
    "### Deliverable 1: Preprocessing the Data for PCA"
   ]
  },
  {
   "cell_type": "code",
   "execution_count": 41,
   "metadata": {},
   "outputs": [
    {
     "data": {
      "text/html": [
       "<div>\n",
       "<style scoped>\n",
       "    .dataframe tbody tr th:only-of-type {\n",
       "        vertical-align: middle;\n",
       "    }\n",
       "\n",
       "    .dataframe tbody tr th {\n",
       "        vertical-align: top;\n",
       "    }\n",
       "\n",
       "    .dataframe thead th {\n",
       "        text-align: right;\n",
       "    }\n",
       "</style>\n",
       "<table border=\"1\" class=\"dataframe\">\n",
       "  <thead>\n",
       "    <tr style=\"text-align: right;\">\n",
       "      <th></th>\n",
       "      <th>CoinName</th>\n",
       "      <th>Algorithm</th>\n",
       "      <th>IsTrading</th>\n",
       "      <th>ProofType</th>\n",
       "      <th>TotalCoinsMined</th>\n",
       "      <th>TotalCoinSupply</th>\n",
       "      <th>TotalCoinSupply_orig</th>\n",
       "      <th>sort_orig</th>\n",
       "    </tr>\n",
       "    <tr>\n",
       "      <th>ind</th>\n",
       "      <th></th>\n",
       "      <th></th>\n",
       "      <th></th>\n",
       "      <th></th>\n",
       "      <th></th>\n",
       "      <th></th>\n",
       "      <th></th>\n",
       "      <th></th>\n",
       "    </tr>\n",
       "  </thead>\n",
       "  <tbody>\n",
       "    <tr>\n",
       "      <th>42</th>\n",
       "      <td>42 Coin</td>\n",
       "      <td>Scrypt</td>\n",
       "      <td>True</td>\n",
       "      <td>PoW/PoS</td>\n",
       "      <td>4.199995e+01</td>\n",
       "      <td>4.200000e+01</td>\n",
       "      <td>42.00</td>\n",
       "      <td>1</td>\n",
       "    </tr>\n",
       "    <tr>\n",
       "      <th>365</th>\n",
       "      <td>365Coin</td>\n",
       "      <td>X11</td>\n",
       "      <td>True</td>\n",
       "      <td>PoW/PoS</td>\n",
       "      <td>NaN</td>\n",
       "      <td>2.300000e+09</td>\n",
       "      <td>2300000000.00</td>\n",
       "      <td>2</td>\n",
       "    </tr>\n",
       "    <tr>\n",
       "      <th>404</th>\n",
       "      <td>404Coin</td>\n",
       "      <td>Scrypt</td>\n",
       "      <td>True</td>\n",
       "      <td>PoW/PoS</td>\n",
       "      <td>1.055185e+09</td>\n",
       "      <td>5.320000e+08</td>\n",
       "      <td>532000000.00</td>\n",
       "      <td>3</td>\n",
       "    </tr>\n",
       "    <tr>\n",
       "      <th>611</th>\n",
       "      <td>SixEleven</td>\n",
       "      <td>SHA-256</td>\n",
       "      <td>True</td>\n",
       "      <td>PoW</td>\n",
       "      <td>NaN</td>\n",
       "      <td>6.110000e+05</td>\n",
       "      <td>611000.00</td>\n",
       "      <td>4</td>\n",
       "    </tr>\n",
       "    <tr>\n",
       "      <th>808</th>\n",
       "      <td>808</td>\n",
       "      <td>SHA-256</td>\n",
       "      <td>True</td>\n",
       "      <td>PoW/PoS</td>\n",
       "      <td>0.000000e+00</td>\n",
       "      <td>0.000000e+00</td>\n",
       "      <td>0.00</td>\n",
       "      <td>5</td>\n",
       "    </tr>\n",
       "    <tr>\n",
       "      <th>1337</th>\n",
       "      <td>EliteCoin</td>\n",
       "      <td>X13</td>\n",
       "      <td>True</td>\n",
       "      <td>PoW/PoS</td>\n",
       "      <td>2.927942e+10</td>\n",
       "      <td>3.140000e+11</td>\n",
       "      <td>314000000000.00</td>\n",
       "      <td>6</td>\n",
       "    </tr>\n",
       "    <tr>\n",
       "      <th>2015</th>\n",
       "      <td>2015 coin</td>\n",
       "      <td>X11</td>\n",
       "      <td>True</td>\n",
       "      <td>PoW/PoS</td>\n",
       "      <td>NaN</td>\n",
       "      <td>0.000000e+00</td>\n",
       "      <td>0.00</td>\n",
       "      <td>7</td>\n",
       "    </tr>\n",
       "    <tr>\n",
       "      <th>BTC</th>\n",
       "      <td>Bitcoin</td>\n",
       "      <td>SHA-256</td>\n",
       "      <td>True</td>\n",
       "      <td>PoW</td>\n",
       "      <td>1.792718e+07</td>\n",
       "      <td>2.100000e+07</td>\n",
       "      <td>21000000.00</td>\n",
       "      <td>8</td>\n",
       "    </tr>\n",
       "    <tr>\n",
       "      <th>ETH</th>\n",
       "      <td>Ethereum</td>\n",
       "      <td>Ethash</td>\n",
       "      <td>True</td>\n",
       "      <td>PoW</td>\n",
       "      <td>1.076842e+08</td>\n",
       "      <td>0.000000e+00</td>\n",
       "      <td>0.00</td>\n",
       "      <td>9</td>\n",
       "    </tr>\n",
       "    <tr>\n",
       "      <th>LTC</th>\n",
       "      <td>Litecoin</td>\n",
       "      <td>Scrypt</td>\n",
       "      <td>True</td>\n",
       "      <td>PoW</td>\n",
       "      <td>6.303924e+07</td>\n",
       "      <td>8.400000e+07</td>\n",
       "      <td>84000000.00</td>\n",
       "      <td>10</td>\n",
       "    </tr>\n",
       "  </tbody>\n",
       "</table>\n",
       "</div>"
      ],
      "text/plain": [
       "       CoinName Algorithm  IsTrading ProofType  TotalCoinsMined  \\\n",
       "ind                                                               \n",
       "42      42 Coin    Scrypt       True   PoW/PoS     4.199995e+01   \n",
       "365     365Coin       X11       True   PoW/PoS              NaN   \n",
       "404     404Coin    Scrypt       True   PoW/PoS     1.055185e+09   \n",
       "611   SixEleven   SHA-256       True       PoW              NaN   \n",
       "808         808   SHA-256       True   PoW/PoS     0.000000e+00   \n",
       "1337  EliteCoin       X13       True   PoW/PoS     2.927942e+10   \n",
       "2015  2015 coin       X11       True   PoW/PoS              NaN   \n",
       "BTC     Bitcoin   SHA-256       True       PoW     1.792718e+07   \n",
       "ETH    Ethereum    Ethash       True       PoW     1.076842e+08   \n",
       "LTC    Litecoin    Scrypt       True       PoW     6.303924e+07   \n",
       "\n",
       "      TotalCoinSupply TotalCoinSupply_orig  sort_orig  \n",
       "ind                                                    \n",
       "42       4.200000e+01                42.00          1  \n",
       "365      2.300000e+09        2300000000.00          2  \n",
       "404      5.320000e+08         532000000.00          3  \n",
       "611      6.110000e+05            611000.00          4  \n",
       "808      0.000000e+00                 0.00          5  \n",
       "1337     3.140000e+11      314000000000.00          6  \n",
       "2015     0.000000e+00                 0.00          7  \n",
       "BTC      2.100000e+07          21000000.00          8  \n",
       "ETH      0.000000e+00                 0.00          9  \n",
       "LTC      8.400000e+07          84000000.00         10  "
      ]
     },
     "execution_count": 41,
     "metadata": {},
     "output_type": "execute_result"
    }
   ],
   "source": [
    "# Load the crypto_data.csv dataset.\n",
    "file_path =\"../Resources/crypto_data.csv\"\n",
    "\n",
    "crypto_df1 = pd.read_csv(file_path,\n",
    "# Added name to index col in Excel. \n",
    "# Otherwise it added col 1 as \"Unnamed: 0\" \n",
    "# and added additional numeric index col.\n",
    "                         index_col=\"ind\"\n",
    "                        )\n",
    "\n",
    "# Also, col \"TotalCoinSupply\" had non-numeric data.\n",
    "# I fixed in Excel before importing. \n",
    "# Retained col \"TotalCoinSupply_orig\" for ref.\n",
    "# I consider this part of preprocessing.\n",
    "crypto_df1.head(10)\n",
    "\n",
    "# Why the sort order changed after adding new columns, I do not know."
   ]
  },
  {
   "cell_type": "code",
   "execution_count": 42,
   "metadata": {},
   "outputs": [
    {
     "name": "stdout",
     "output_type": "stream",
     "text": [
      "<class 'pandas.core.frame.DataFrame'>\n",
      "Index: 1252 entries, 42 to PUNK\n",
      "Data columns (total 8 columns):\n",
      " #   Column                Non-Null Count  Dtype  \n",
      "---  ------                --------------  -----  \n",
      " 0   CoinName              1252 non-null   object \n",
      " 1   Algorithm             1252 non-null   object \n",
      " 2   IsTrading             1252 non-null   bool   \n",
      " 3   ProofType             1252 non-null   object \n",
      " 4   TotalCoinsMined       744 non-null    float64\n",
      " 5   TotalCoinSupply       1252 non-null   float64\n",
      " 6   TotalCoinSupply_orig  1252 non-null   object \n",
      " 7   sort_orig             1252 non-null   int64  \n",
      "dtypes: bool(1), float64(2), int64(1), object(4)\n",
      "memory usage: 79.5+ KB\n"
     ]
    }
   ],
   "source": [
    "# Current col names and row count.\n",
    "crypto_df1.info()"
   ]
  },
  {
   "cell_type": "code",
   "execution_count": 43,
   "metadata": {},
   "outputs": [
    {
     "data": {
      "text/plain": [
       "array([ True, False])"
      ]
     },
     "execution_count": 43,
     "metadata": {},
     "output_type": "execute_result"
    }
   ],
   "source": [
    "# Verify that the col only has True and False values.\n",
    "crypto_df1['IsTrading'].unique()"
   ]
  },
  {
   "cell_type": "code",
   "execution_count": 44,
   "metadata": {},
   "outputs": [],
   "source": [
    "# Keep all the cryptocurrencies that are being traded.\n",
    "crypto_df2 = crypto_df1[crypto_df1['IsTrading'] == True]"
   ]
  },
  {
   "cell_type": "code",
   "execution_count": 45,
   "metadata": {},
   "outputs": [
    {
     "data": {
      "text/plain": [
       "array([ True])"
      ]
     },
     "execution_count": 45,
     "metadata": {},
     "output_type": "execute_result"
    }
   ],
   "source": [
    "# Verify values are updated.\n",
    "crypto_df2['IsTrading'].unique()"
   ]
  },
  {
   "cell_type": "code",
   "execution_count": 46,
   "metadata": {},
   "outputs": [
    {
     "name": "stdout",
     "output_type": "stream",
     "text": [
      "<class 'pandas.core.frame.DataFrame'>\n",
      "Index: 1144 entries, 42 to XBC\n",
      "Data columns (total 8 columns):\n",
      " #   Column                Non-Null Count  Dtype  \n",
      "---  ------                --------------  -----  \n",
      " 0   CoinName              1144 non-null   object \n",
      " 1   Algorithm             1144 non-null   object \n",
      " 2   IsTrading             1144 non-null   bool   \n",
      " 3   ProofType             1144 non-null   object \n",
      " 4   TotalCoinsMined       685 non-null    float64\n",
      " 5   TotalCoinSupply       1144 non-null   float64\n",
      " 6   TotalCoinSupply_orig  1144 non-null   object \n",
      " 7   sort_orig             1144 non-null   int64  \n",
      "dtypes: bool(1), float64(2), int64(1), object(4)\n",
      "memory usage: 72.6+ KB\n"
     ]
    }
   ],
   "source": [
    "# Current col names and row count.\n",
    "crypto_df2.info()"
   ]
  },
  {
   "cell_type": "code",
   "execution_count": 47,
   "metadata": {},
   "outputs": [],
   "source": [
    "# Keep all the cryptocurrencies that have a working algorithm.\n",
    "# YOUR CODE HERE\n",
    "\n",
    "# ###### This statement isn't explained, and it's not \n",
    "# in the instructions. I don't understand what's expected.\n",
    "# What parameter would we use for \"working algorithm???\"\n",
    "# I'm skipping it."
   ]
  },
  {
   "cell_type": "code",
   "execution_count": 48,
   "metadata": {
    "scrolled": true
   },
   "outputs": [],
   "source": [
    "# Remove the \"IsTrading\" column. \n",
    "crypto_df3 = crypto_df2.drop(columns=[\"IsTrading\", \n",
    "                                      \"TotalCoinSupply_orig\", \n",
    "                                      \"sort_orig\"], \n",
    "                             axis=1)"
   ]
  },
  {
   "cell_type": "code",
   "execution_count": 49,
   "metadata": {},
   "outputs": [
    {
     "name": "stdout",
     "output_type": "stream",
     "text": [
      "<class 'pandas.core.frame.DataFrame'>\n",
      "Index: 1144 entries, 42 to XBC\n",
      "Data columns (total 5 columns):\n",
      " #   Column           Non-Null Count  Dtype  \n",
      "---  ------           --------------  -----  \n",
      " 0   CoinName         1144 non-null   object \n",
      " 1   Algorithm        1144 non-null   object \n",
      " 2   ProofType        1144 non-null   object \n",
      " 3   TotalCoinsMined  685 non-null    float64\n",
      " 4   TotalCoinSupply  1144 non-null   float64\n",
      "dtypes: float64(2), object(3)\n",
      "memory usage: 53.6+ KB\n"
     ]
    }
   ],
   "source": [
    "# Current col names and row count.\n",
    "crypto_df3.info()"
   ]
  },
  {
   "cell_type": "code",
   "execution_count": 50,
   "metadata": {},
   "outputs": [],
   "source": [
    "# Remove rows that have at least 1 null value.\n",
    "crypto_df4 = crypto_df3.dropna()"
   ]
  },
  {
   "cell_type": "code",
   "execution_count": 51,
   "metadata": {},
   "outputs": [
    {
     "name": "stdout",
     "output_type": "stream",
     "text": [
      "<class 'pandas.core.frame.DataFrame'>\n",
      "Index: 685 entries, 42 to XBC\n",
      "Data columns (total 5 columns):\n",
      " #   Column           Non-Null Count  Dtype  \n",
      "---  ------           --------------  -----  \n",
      " 0   CoinName         685 non-null    object \n",
      " 1   Algorithm        685 non-null    object \n",
      " 2   ProofType        685 non-null    object \n",
      " 3   TotalCoinsMined  685 non-null    float64\n",
      " 4   TotalCoinSupply  685 non-null    float64\n",
      "dtypes: float64(2), object(3)\n",
      "memory usage: 32.1+ KB\n"
     ]
    }
   ],
   "source": [
    "# Current col names and row count.\n",
    "crypto_df4.info()"
   ]
  },
  {
   "cell_type": "code",
   "execution_count": 52,
   "metadata": {},
   "outputs": [],
   "source": [
    "# Keep the rows where coins are mined.\n",
    "crypto_df5 = crypto_df4[crypto_df4['TotalCoinsMined'] > 0]"
   ]
  },
  {
   "cell_type": "code",
   "execution_count": 53,
   "metadata": {},
   "outputs": [
    {
     "name": "stdout",
     "output_type": "stream",
     "text": [
      "<class 'pandas.core.frame.DataFrame'>\n",
      "Index: 532 entries, 42 to XBC\n",
      "Data columns (total 5 columns):\n",
      " #   Column           Non-Null Count  Dtype  \n",
      "---  ------           --------------  -----  \n",
      " 0   CoinName         532 non-null    object \n",
      " 1   Algorithm        532 non-null    object \n",
      " 2   ProofType        532 non-null    object \n",
      " 3   TotalCoinsMined  532 non-null    float64\n",
      " 4   TotalCoinSupply  532 non-null    float64\n",
      "dtypes: float64(2), object(3)\n",
      "memory usage: 24.9+ KB\n"
     ]
    }
   ],
   "source": [
    "# Current col names and row count.\n",
    "crypto_df5.info()"
   ]
  },
  {
   "cell_type": "code",
   "execution_count": 54,
   "metadata": {},
   "outputs": [
    {
     "data": {
      "text/html": [
       "<div>\n",
       "<style scoped>\n",
       "    .dataframe tbody tr th:only-of-type {\n",
       "        vertical-align: middle;\n",
       "    }\n",
       "\n",
       "    .dataframe tbody tr th {\n",
       "        vertical-align: top;\n",
       "    }\n",
       "\n",
       "    .dataframe thead th {\n",
       "        text-align: right;\n",
       "    }\n",
       "</style>\n",
       "<table border=\"1\" class=\"dataframe\">\n",
       "  <thead>\n",
       "    <tr style=\"text-align: right;\">\n",
       "      <th></th>\n",
       "      <th>TotalCoinsMined</th>\n",
       "      <th>TotalCoinSupply</th>\n",
       "    </tr>\n",
       "  </thead>\n",
       "  <tbody>\n",
       "    <tr>\n",
       "      <th>count</th>\n",
       "      <td>5.320000e+02</td>\n",
       "      <td>5.320000e+02</td>\n",
       "    </tr>\n",
       "    <tr>\n",
       "      <th>mean</th>\n",
       "      <td>5.340235e+09</td>\n",
       "      <td>1.034317e+10</td>\n",
       "    </tr>\n",
       "    <tr>\n",
       "      <th>std</th>\n",
       "      <td>4.564525e+10</td>\n",
       "      <td>6.773109e+10</td>\n",
       "    </tr>\n",
       "    <tr>\n",
       "      <th>min</th>\n",
       "      <td>4.199995e+01</td>\n",
       "      <td>0.000000e+00</td>\n",
       "    </tr>\n",
       "    <tr>\n",
       "      <th>25%</th>\n",
       "      <td>8.359849e+06</td>\n",
       "      <td>2.100000e+07</td>\n",
       "    </tr>\n",
       "    <tr>\n",
       "      <th>50%</th>\n",
       "      <td>2.474397e+07</td>\n",
       "      <td>7.841760e+07</td>\n",
       "    </tr>\n",
       "    <tr>\n",
       "      <th>75%</th>\n",
       "      <td>1.867250e+08</td>\n",
       "      <td>5.000000e+08</td>\n",
       "    </tr>\n",
       "    <tr>\n",
       "      <th>max</th>\n",
       "      <td>9.900000e+11</td>\n",
       "      <td>1.000000e+12</td>\n",
       "    </tr>\n",
       "  </tbody>\n",
       "</table>\n",
       "</div>"
      ],
      "text/plain": [
       "       TotalCoinsMined  TotalCoinSupply\n",
       "count     5.320000e+02     5.320000e+02\n",
       "mean      5.340235e+09     1.034317e+10\n",
       "std       4.564525e+10     6.773109e+10\n",
       "min       4.199995e+01     0.000000e+00\n",
       "25%       8.359849e+06     2.100000e+07\n",
       "50%       2.474397e+07     7.841760e+07\n",
       "75%       1.867250e+08     5.000000e+08\n",
       "max       9.900000e+11     1.000000e+12"
      ]
     },
     "execution_count": 54,
     "metadata": {},
     "output_type": "execute_result"
    }
   ],
   "source": [
    "# Verify no zero values.\n",
    "crypto_df5.describe()"
   ]
  },
  {
   "cell_type": "code",
   "execution_count": 55,
   "metadata": {},
   "outputs": [],
   "source": [
    "# Create a new DataFrame that holds only the cryptocurrencies names.\n",
    "crypto_df_coinname = crypto_df5[['CoinName']].copy()"
   ]
  },
  {
   "cell_type": "code",
   "execution_count": 56,
   "metadata": {},
   "outputs": [
    {
     "data": {
      "text/html": [
       "<div>\n",
       "<style scoped>\n",
       "    .dataframe tbody tr th:only-of-type {\n",
       "        vertical-align: middle;\n",
       "    }\n",
       "\n",
       "    .dataframe tbody tr th {\n",
       "        vertical-align: top;\n",
       "    }\n",
       "\n",
       "    .dataframe thead th {\n",
       "        text-align: right;\n",
       "    }\n",
       "</style>\n",
       "<table border=\"1\" class=\"dataframe\">\n",
       "  <thead>\n",
       "    <tr style=\"text-align: right;\">\n",
       "      <th></th>\n",
       "      <th>CoinName</th>\n",
       "    </tr>\n",
       "    <tr>\n",
       "      <th>ind</th>\n",
       "      <th></th>\n",
       "    </tr>\n",
       "  </thead>\n",
       "  <tbody>\n",
       "    <tr>\n",
       "      <th>42</th>\n",
       "      <td>42 Coin</td>\n",
       "    </tr>\n",
       "    <tr>\n",
       "      <th>404</th>\n",
       "      <td>404Coin</td>\n",
       "    </tr>\n",
       "    <tr>\n",
       "      <th>1337</th>\n",
       "      <td>EliteCoin</td>\n",
       "    </tr>\n",
       "    <tr>\n",
       "      <th>BTC</th>\n",
       "      <td>Bitcoin</td>\n",
       "    </tr>\n",
       "    <tr>\n",
       "      <th>ETH</th>\n",
       "      <td>Ethereum</td>\n",
       "    </tr>\n",
       "  </tbody>\n",
       "</table>\n",
       "</div>"
      ],
      "text/plain": [
       "       CoinName\n",
       "ind            \n",
       "42      42 Coin\n",
       "404     404Coin\n",
       "1337  EliteCoin\n",
       "BTC     Bitcoin\n",
       "ETH    Ethereum"
      ]
     },
     "execution_count": 56,
     "metadata": {},
     "output_type": "execute_result"
    }
   ],
   "source": [
    "# Verify df contains only required cols.\n",
    "crypto_df_coinname.head()"
   ]
  },
  {
   "cell_type": "code",
   "execution_count": 57,
   "metadata": {},
   "outputs": [],
   "source": [
    "# Drop the 'CoinName' column since it's not going to be used on the clustering algorithm.\n",
    "crypto_df6 = crypto_df5.drop(columns=[\"CoinName\"], axis=1)"
   ]
  },
  {
   "cell_type": "code",
   "execution_count": 58,
   "metadata": {},
   "outputs": [
    {
     "name": "stdout",
     "output_type": "stream",
     "text": [
      "<class 'pandas.core.frame.DataFrame'>\n",
      "Index: 532 entries, 42 to XBC\n",
      "Data columns (total 4 columns):\n",
      " #   Column           Non-Null Count  Dtype  \n",
      "---  ------           --------------  -----  \n",
      " 0   Algorithm        532 non-null    object \n",
      " 1   ProofType        532 non-null    object \n",
      " 2   TotalCoinsMined  532 non-null    float64\n",
      " 3   TotalCoinSupply  532 non-null    float64\n",
      "dtypes: float64(2), object(2)\n",
      "memory usage: 20.8+ KB\n"
     ]
    }
   ],
   "source": [
    "# Current col names and row count.\n",
    "crypto_df6.info()"
   ]
  },
  {
   "cell_type": "code",
   "execution_count": 59,
   "metadata": {},
   "outputs": [
    {
     "data": {
      "text/html": [
       "<div>\n",
       "<style scoped>\n",
       "    .dataframe tbody tr th:only-of-type {\n",
       "        vertical-align: middle;\n",
       "    }\n",
       "\n",
       "    .dataframe tbody tr th {\n",
       "        vertical-align: top;\n",
       "    }\n",
       "\n",
       "    .dataframe thead th {\n",
       "        text-align: right;\n",
       "    }\n",
       "</style>\n",
       "<table border=\"1\" class=\"dataframe\">\n",
       "  <thead>\n",
       "    <tr style=\"text-align: right;\">\n",
       "      <th></th>\n",
       "      <th>Algorithm</th>\n",
       "      <th>ProofType</th>\n",
       "      <th>TotalCoinsMined</th>\n",
       "      <th>TotalCoinSupply</th>\n",
       "    </tr>\n",
       "    <tr>\n",
       "      <th>ind</th>\n",
       "      <th></th>\n",
       "      <th></th>\n",
       "      <th></th>\n",
       "      <th></th>\n",
       "    </tr>\n",
       "  </thead>\n",
       "  <tbody>\n",
       "    <tr>\n",
       "      <th>42</th>\n",
       "      <td>Scrypt</td>\n",
       "      <td>PoW/PoS</td>\n",
       "      <td>4.199995e+01</td>\n",
       "      <td>4.200000e+01</td>\n",
       "    </tr>\n",
       "    <tr>\n",
       "      <th>404</th>\n",
       "      <td>Scrypt</td>\n",
       "      <td>PoW/PoS</td>\n",
       "      <td>1.055185e+09</td>\n",
       "      <td>5.320000e+08</td>\n",
       "    </tr>\n",
       "    <tr>\n",
       "      <th>1337</th>\n",
       "      <td>X13</td>\n",
       "      <td>PoW/PoS</td>\n",
       "      <td>2.927942e+10</td>\n",
       "      <td>3.140000e+11</td>\n",
       "    </tr>\n",
       "    <tr>\n",
       "      <th>BTC</th>\n",
       "      <td>SHA-256</td>\n",
       "      <td>PoW</td>\n",
       "      <td>1.792718e+07</td>\n",
       "      <td>2.100000e+07</td>\n",
       "    </tr>\n",
       "    <tr>\n",
       "      <th>ETH</th>\n",
       "      <td>Ethash</td>\n",
       "      <td>PoW</td>\n",
       "      <td>1.076842e+08</td>\n",
       "      <td>0.000000e+00</td>\n",
       "    </tr>\n",
       "    <tr>\n",
       "      <th>LTC</th>\n",
       "      <td>Scrypt</td>\n",
       "      <td>PoW</td>\n",
       "      <td>6.303924e+07</td>\n",
       "      <td>8.400000e+07</td>\n",
       "    </tr>\n",
       "    <tr>\n",
       "      <th>DASH</th>\n",
       "      <td>X11</td>\n",
       "      <td>PoW/PoS</td>\n",
       "      <td>9.031294e+06</td>\n",
       "      <td>2.200000e+07</td>\n",
       "    </tr>\n",
       "    <tr>\n",
       "      <th>XMR</th>\n",
       "      <td>CryptoNight-V7</td>\n",
       "      <td>PoW</td>\n",
       "      <td>1.720114e+07</td>\n",
       "      <td>0.000000e+00</td>\n",
       "    </tr>\n",
       "    <tr>\n",
       "      <th>ETC</th>\n",
       "      <td>Ethash</td>\n",
       "      <td>PoW</td>\n",
       "      <td>1.133597e+08</td>\n",
       "      <td>2.100000e+08</td>\n",
       "    </tr>\n",
       "    <tr>\n",
       "      <th>ZEC</th>\n",
       "      <td>Equihash</td>\n",
       "      <td>PoW</td>\n",
       "      <td>7.383056e+06</td>\n",
       "      <td>2.100000e+07</td>\n",
       "    </tr>\n",
       "  </tbody>\n",
       "</table>\n",
       "</div>"
      ],
      "text/plain": [
       "           Algorithm ProofType  TotalCoinsMined  TotalCoinSupply\n",
       "ind                                                             \n",
       "42            Scrypt   PoW/PoS     4.199995e+01     4.200000e+01\n",
       "404           Scrypt   PoW/PoS     1.055185e+09     5.320000e+08\n",
       "1337             X13   PoW/PoS     2.927942e+10     3.140000e+11\n",
       "BTC          SHA-256       PoW     1.792718e+07     2.100000e+07\n",
       "ETH           Ethash       PoW     1.076842e+08     0.000000e+00\n",
       "LTC           Scrypt       PoW     6.303924e+07     8.400000e+07\n",
       "DASH             X11   PoW/PoS     9.031294e+06     2.200000e+07\n",
       "XMR   CryptoNight-V7       PoW     1.720114e+07     0.000000e+00\n",
       "ETC           Ethash       PoW     1.133597e+08     2.100000e+08\n",
       "ZEC         Equihash       PoW     7.383056e+06     2.100000e+07"
      ]
     },
     "execution_count": 59,
     "metadata": {},
     "output_type": "execute_result"
    }
   ],
   "source": [
    "# Compare to instructions for Deliverable 1.\n",
    "crypto_df6.head(10)"
   ]
  },
  {
   "cell_type": "code",
   "execution_count": 60,
   "metadata": {},
   "outputs": [],
   "source": [
    "# Use get_dummies() to create variables for text features.\n",
    "X1 = pd.get_dummies(crypto_df6, columns=[\n",
    "    \"Algorithm\",\n",
    "    \"ProofType\"\n",
    "])"
   ]
  },
  {
   "cell_type": "code",
   "execution_count": 61,
   "metadata": {},
   "outputs": [
    {
     "name": "stdout",
     "output_type": "stream",
     "text": [
      "<class 'pandas.core.frame.DataFrame'>\n",
      "Index: 532 entries, 42 to XBC\n",
      "Data columns (total 98 columns):\n",
      " #   Column                            Non-Null Count  Dtype  \n",
      "---  ------                            --------------  -----  \n",
      " 0   TotalCoinsMined                   532 non-null    float64\n",
      " 1   TotalCoinSupply                   532 non-null    float64\n",
      " 2   Algorithm_1GB AES Pattern Search  532 non-null    uint8  \n",
      " 3   Algorithm_536                     532 non-null    uint8  \n",
      " 4   Algorithm_Argon2d                 532 non-null    uint8  \n",
      " 5   Algorithm_BLAKE256                532 non-null    uint8  \n",
      " 6   Algorithm_Blake                   532 non-null    uint8  \n",
      " 7   Algorithm_Blake2S                 532 non-null    uint8  \n",
      " 8   Algorithm_Blake2b                 532 non-null    uint8  \n",
      " 9   Algorithm_C11                     532 non-null    uint8  \n",
      " 10  Algorithm_Cloverhash              532 non-null    uint8  \n",
      " 11  Algorithm_Counterparty            532 non-null    uint8  \n",
      " 12  Algorithm_CryptoNight             532 non-null    uint8  \n",
      " 13  Algorithm_CryptoNight Heavy       532 non-null    uint8  \n",
      " 14  Algorithm_CryptoNight-V7          532 non-null    uint8  \n",
      " 15  Algorithm_Cryptonight-GPU         532 non-null    uint8  \n",
      " 16  Algorithm_DPoS                    532 non-null    uint8  \n",
      " 17  Algorithm_Dagger                  532 non-null    uint8  \n",
      " 18  Algorithm_Dagger-Hashimoto        532 non-null    uint8  \n",
      " 19  Algorithm_ECC 256K1               532 non-null    uint8  \n",
      " 20  Algorithm_Equihash                532 non-null    uint8  \n",
      " 21  Algorithm_Equihash+Scrypt         532 non-null    uint8  \n",
      " 22  Algorithm_Ethash                  532 non-null    uint8  \n",
      " 23  Algorithm_Exosis                  532 non-null    uint8  \n",
      " 24  Algorithm_Green Protocol          532 non-null    uint8  \n",
      " 25  Algorithm_Groestl                 532 non-null    uint8  \n",
      " 26  Algorithm_HMQ1725                 532 non-null    uint8  \n",
      " 27  Algorithm_HybridScryptHash256     532 non-null    uint8  \n",
      " 28  Algorithm_IMesh                   532 non-null    uint8  \n",
      " 29  Algorithm_Jump Consistent Hash    532 non-null    uint8  \n",
      " 30  Algorithm_Keccak                  532 non-null    uint8  \n",
      " 31  Algorithm_Leased POS              532 non-null    uint8  \n",
      " 32  Algorithm_Lyra2RE                 532 non-null    uint8  \n",
      " 33  Algorithm_Lyra2REv2               532 non-null    uint8  \n",
      " 34  Algorithm_Lyra2Z                  532 non-null    uint8  \n",
      " 35  Algorithm_M7 POW                  532 non-null    uint8  \n",
      " 36  Algorithm_Multiple                532 non-null    uint8  \n",
      " 37  Algorithm_NIST5                   532 non-null    uint8  \n",
      " 38  Algorithm_NeoScrypt               532 non-null    uint8  \n",
      " 39  Algorithm_Ouroboros               532 non-null    uint8  \n",
      " 40  Algorithm_PHI1612                 532 non-null    uint8  \n",
      " 41  Algorithm_POS 2.0                 532 non-null    uint8  \n",
      " 42  Algorithm_POS 3.0                 532 non-null    uint8  \n",
      " 43  Algorithm_PoS                     532 non-null    uint8  \n",
      " 44  Algorithm_Proof-of-Authority      532 non-null    uint8  \n",
      " 45  Algorithm_Proof-of-BibleHash      532 non-null    uint8  \n",
      " 46  Algorithm_QUAIT                   532 non-null    uint8  \n",
      " 47  Algorithm_QuBit                   532 non-null    uint8  \n",
      " 48  Algorithm_Quark                   532 non-null    uint8  \n",
      " 49  Algorithm_SHA-256                 532 non-null    uint8  \n",
      " 50  Algorithm_SHA-256 + Hive          532 non-null    uint8  \n",
      " 51  Algorithm_SHA-256D                532 non-null    uint8  \n",
      " 52  Algorithm_SHA-512                 532 non-null    uint8  \n",
      " 53  Algorithm_SHA3                    532 non-null    uint8  \n",
      " 54  Algorithm_Scrypt                  532 non-null    uint8  \n",
      " 55  Algorithm_Semux BFT consensus     532 non-null    uint8  \n",
      " 56  Algorithm_Shabal256               532 non-null    uint8  \n",
      " 57  Algorithm_Skein                   532 non-null    uint8  \n",
      " 58  Algorithm_SkunkHash               532 non-null    uint8  \n",
      " 59  Algorithm_SkunkHash v2 Raptor     532 non-null    uint8  \n",
      " 60  Algorithm_Stanford Folding        532 non-null    uint8  \n",
      " 61  Algorithm_TRC10                   532 non-null    uint8  \n",
      " 62  Algorithm_Time Travel             532 non-null    uint8  \n",
      " 63  Algorithm_Tribus                  532 non-null    uint8  \n",
      " 64  Algorithm_VBFT                    532 non-null    uint8  \n",
      " 65  Algorithm_VeChainThor Authority   532 non-null    uint8  \n",
      " 66  Algorithm_X11                     532 non-null    uint8  \n",
      " 67  Algorithm_X11GOST                 532 non-null    uint8  \n",
      " 68  Algorithm_X13                     532 non-null    uint8  \n",
      " 69  Algorithm_X14                     532 non-null    uint8  \n",
      " 70  Algorithm_X15                     532 non-null    uint8  \n",
      " 71  Algorithm_X16R                    532 non-null    uint8  \n",
      " 72  Algorithm_XEVAN                   532 non-null    uint8  \n",
      " 73  ProofType_DPOS                    532 non-null    uint8  \n",
      " 74  ProofType_DPoS                    532 non-null    uint8  \n",
      " 75  ProofType_HPoW                    532 non-null    uint8  \n",
      " 76  ProofType_LPoS                    532 non-null    uint8  \n",
      " 77  ProofType_POBh                    532 non-null    uint8  \n",
      " 78  ProofType_PoA                     532 non-null    uint8  \n",
      " 79  ProofType_PoC                     532 non-null    uint8  \n",
      " 80  ProofType_PoS                     532 non-null    uint8  \n",
      " 81  ProofType_PoS/LPoS                532 non-null    uint8  \n",
      " 82  ProofType_PoS/PoW                 532 non-null    uint8  \n",
      " 83  ProofType_PoS/PoW/PoT             532 non-null    uint8  \n",
      " 84  ProofType_PoST                    532 non-null    uint8  \n",
      " 85  ProofType_PoW                     532 non-null    uint8  \n",
      " 86  ProofType_PoW + Hive              532 non-null    uint8  \n",
      " 87  ProofType_PoW and PoS             532 non-null    uint8  \n",
      " 88  ProofType_PoW/PoS                 532 non-null    uint8  \n",
      " 89  ProofType_PoW/PoS                 532 non-null    uint8  \n",
      " 90  ProofType_PoW/PoW                 532 non-null    uint8  \n",
      " 91  ProofType_PoW/nPoS                532 non-null    uint8  \n",
      " 92  ProofType_Pos                     532 non-null    uint8  \n",
      " 93  ProofType_Proof of Authority      532 non-null    uint8  \n",
      " 94  ProofType_Proof of Trust          532 non-null    uint8  \n",
      " 95  ProofType_TPoS                    532 non-null    uint8  \n",
      " 96  ProofType_Zero-Knowledge Proof    532 non-null    uint8  \n",
      " 97  ProofType_dPoW/PoW                532 non-null    uint8  \n",
      "dtypes: float64(2), uint8(96)\n",
      "memory usage: 62.3+ KB\n"
     ]
    }
   ],
   "source": [
    "# Current col names and row count.\n",
    "X1.info()"
   ]
  },
  {
   "cell_type": "code",
   "execution_count": 62,
   "metadata": {},
   "outputs": [],
   "source": [
    "# Standardize the data with StandardScaler().\n",
    "X2 = StandardScaler().fit_transform(X1)"
   ]
  },
  {
   "cell_type": "code",
   "execution_count": 63,
   "metadata": {},
   "outputs": [
    {
     "data": {
      "text/plain": [
       "(532, 98)"
      ]
     },
     "execution_count": 63,
     "metadata": {},
     "output_type": "execute_result"
    }
   ],
   "source": [
    "X2.shape"
   ]
  },
  {
   "cell_type": "markdown",
   "metadata": {},
   "source": [
    "### Deliverable 2: Reducing Data Dimensions Using PCA"
   ]
  },
  {
   "cell_type": "code",
   "execution_count": 64,
   "metadata": {},
   "outputs": [],
   "source": [
    "# Using PCA to reduce dimension to three principal components.\n",
    "pca = PCA(n_components=3)\n",
    "X3 = pca.fit_transform(X2)"
   ]
  },
  {
   "cell_type": "code",
   "execution_count": 65,
   "metadata": {},
   "outputs": [
    {
     "data": {
      "text/plain": [
       "array([[-0.33099627,  1.01050516, -0.52118525],\n",
       "       [-0.31432791,  1.01080367, -0.52146029],\n",
       "       [ 2.30872071,  1.70988676, -0.53351465],\n",
       "       ...,\n",
       "       [ 0.32781462, -2.2576194 ,  0.38977669],\n",
       "       [-0.15168085, -2.11984549,  0.4300205 ],\n",
       "       [-0.28708374,  0.8110956 , -0.28865468]])"
      ]
     },
     "execution_count": 65,
     "metadata": {},
     "output_type": "execute_result"
    }
   ],
   "source": [
    "X3"
   ]
  },
  {
   "cell_type": "code",
   "execution_count": 66,
   "metadata": {},
   "outputs": [
    {
     "data": {
      "text/html": [
       "<div>\n",
       "<style scoped>\n",
       "    .dataframe tbody tr th:only-of-type {\n",
       "        vertical-align: middle;\n",
       "    }\n",
       "\n",
       "    .dataframe tbody tr th {\n",
       "        vertical-align: top;\n",
       "    }\n",
       "\n",
       "    .dataframe thead th {\n",
       "        text-align: right;\n",
       "    }\n",
       "</style>\n",
       "<table border=\"1\" class=\"dataframe\">\n",
       "  <thead>\n",
       "    <tr style=\"text-align: right;\">\n",
       "      <th></th>\n",
       "      <th>PC1</th>\n",
       "      <th>PC2</th>\n",
       "      <th>PC3</th>\n",
       "    </tr>\n",
       "    <tr>\n",
       "      <th>ind</th>\n",
       "      <th></th>\n",
       "      <th></th>\n",
       "      <th></th>\n",
       "    </tr>\n",
       "  </thead>\n",
       "  <tbody>\n",
       "    <tr>\n",
       "      <th>42</th>\n",
       "      <td>-0.330996</td>\n",
       "      <td>1.010505</td>\n",
       "      <td>-0.521185</td>\n",
       "    </tr>\n",
       "    <tr>\n",
       "      <th>404</th>\n",
       "      <td>-0.314328</td>\n",
       "      <td>1.010804</td>\n",
       "      <td>-0.521460</td>\n",
       "    </tr>\n",
       "    <tr>\n",
       "      <th>1337</th>\n",
       "      <td>2.308721</td>\n",
       "      <td>1.709887</td>\n",
       "      <td>-0.533515</td>\n",
       "    </tr>\n",
       "    <tr>\n",
       "      <th>BTC</th>\n",
       "      <td>-0.144442</td>\n",
       "      <td>-1.343681</td>\n",
       "      <td>0.150950</td>\n",
       "    </tr>\n",
       "    <tr>\n",
       "      <th>ETH</th>\n",
       "      <td>-0.155638</td>\n",
       "      <td>-2.043498</td>\n",
       "      <td>0.304137</td>\n",
       "    </tr>\n",
       "    <tr>\n",
       "      <th>LTC</th>\n",
       "      <td>-0.162014</td>\n",
       "      <td>-1.138035</td>\n",
       "      <td>-0.016486</td>\n",
       "    </tr>\n",
       "    <tr>\n",
       "      <th>DASH</th>\n",
       "      <td>-0.395952</td>\n",
       "      <td>1.246703</td>\n",
       "      <td>-0.452033</td>\n",
       "    </tr>\n",
       "    <tr>\n",
       "      <th>XMR</th>\n",
       "      <td>-0.161112</td>\n",
       "      <td>-2.182366</td>\n",
       "      <td>0.442156</td>\n",
       "    </tr>\n",
       "    <tr>\n",
       "      <th>ETC</th>\n",
       "      <td>-0.154079</td>\n",
       "      <td>-2.043574</td>\n",
       "      <td>0.304128</td>\n",
       "    </tr>\n",
       "    <tr>\n",
       "      <th>ZEC</th>\n",
       "      <td>-0.151680</td>\n",
       "      <td>-2.119845</td>\n",
       "      <td>0.430020</td>\n",
       "    </tr>\n",
       "  </tbody>\n",
       "</table>\n",
       "</div>"
      ],
      "text/plain": [
       "           PC1       PC2       PC3\n",
       "ind                               \n",
       "42   -0.330996  1.010505 -0.521185\n",
       "404  -0.314328  1.010804 -0.521460\n",
       "1337  2.308721  1.709887 -0.533515\n",
       "BTC  -0.144442 -1.343681  0.150950\n",
       "ETH  -0.155638 -2.043498  0.304137\n",
       "LTC  -0.162014 -1.138035 -0.016486\n",
       "DASH -0.395952  1.246703 -0.452033\n",
       "XMR  -0.161112 -2.182366  0.442156\n",
       "ETC  -0.154079 -2.043574  0.304128\n",
       "ZEC  -0.151680 -2.119845  0.430020"
      ]
     },
     "execution_count": 66,
     "metadata": {},
     "output_type": "execute_result"
    }
   ],
   "source": [
    "# Create a DataFrame with the three principal components.\n",
    "# Transform PCA data to a df\n",
    "pcs_df = pd.DataFrame(\n",
    "    # (Different from instructions. I don't use spaces in col names unless forced to.\n",
    "    data = X3, columns = [\"PC1\", \"PC2\", \"PC3\"],\n",
    "    index=crypto_df6.index\n",
    ")\n",
    "pcs_df.head(10)"
   ]
  },
  {
   "cell_type": "markdown",
   "metadata": {},
   "source": [
    "### Deliverable 3: Clustering Crytocurrencies Using K-Means\n",
    "\n",
    "#### Finding the Best Value for `k` Using the Elbow Curve"
   ]
  },
  {
   "cell_type": "code",
   "execution_count": 67,
   "metadata": {},
   "outputs": [],
   "source": [
    "# Create an elbow curve to find the best value for K.\n",
    "inertia = []\n",
    "k = list(range(1, 5))"
   ]
  },
  {
   "cell_type": "markdown",
   "metadata": {},
   "source": [
    "Running K-Means with `k=4`"
   ]
  },
  {
   "cell_type": "code",
   "execution_count": 68,
   "metadata": {},
   "outputs": [
    {
     "name": "stderr",
     "output_type": "stream",
     "text": [
      "C:\\Users\\LaStella\\anaconda3\\envs\\mlenv\\lib\\site-packages\\sklearn\\cluster\\_kmeans.py:1037: UserWarning:\n",
      "\n",
      "KMeans is known to have a memory leak on Windows with MKL, when there are less chunks than available threads. You can avoid it by setting the environment variable OMP_NUM_THREADS=3.\n",
      "\n"
     ]
    },
    {
     "data": {},
     "metadata": {},
     "output_type": "display_data"
    },
    {
     "data": {
      "application/vnd.holoviews_exec.v0+json": "",
      "text/html": [
       "<div id='1213'>\n",
       "  <div class=\"bk-root\" id=\"bbe5c093-afa7-4c04-b4c4-63b1e45f631f\" data-root-id=\"1213\"></div>\n",
       "</div>\n",
       "<script type=\"application/javascript\">(function(root) {\n",
       "  function embed_document(root) {\n",
       "    var docs_json = {\"5536c4a0-744b-4e4b-ae79-33351b3a7c0c\":{\"defs\":[{\"extends\":null,\"module\":null,\"name\":\"ReactiveHTML1\",\"overrides\":[],\"properties\":[]},{\"extends\":null,\"module\":null,\"name\":\"FlexBox1\",\"overrides\":[],\"properties\":[{\"default\":\"flex-start\",\"kind\":null,\"name\":\"align_content\"},{\"default\":\"flex-start\",\"kind\":null,\"name\":\"align_items\"},{\"default\":\"row\",\"kind\":null,\"name\":\"flex_direction\"},{\"default\":\"wrap\",\"kind\":null,\"name\":\"flex_wrap\"},{\"default\":\"flex-start\",\"kind\":null,\"name\":\"justify_content\"}]},{\"extends\":null,\"module\":null,\"name\":\"GridStack1\",\"overrides\":[],\"properties\":[{\"default\":\"warn\",\"kind\":null,\"name\":\"mode\"},{\"default\":null,\"kind\":null,\"name\":\"ncols\"},{\"default\":null,\"kind\":null,\"name\":\"nrows\"},{\"default\":true,\"kind\":null,\"name\":\"allow_resize\"},{\"default\":true,\"kind\":null,\"name\":\"allow_drag\"},{\"default\":[],\"kind\":null,\"name\":\"state\"}]},{\"extends\":null,\"module\":null,\"name\":\"click1\",\"overrides\":[],\"properties\":[{\"default\":\"\",\"kind\":null,\"name\":\"terminal_output\"},{\"default\":\"\",\"kind\":null,\"name\":\"debug_name\"},{\"default\":0,\"kind\":null,\"name\":\"clears\"}]},{\"extends\":null,\"module\":null,\"name\":\"NotificationAreaBase1\",\"overrides\":[],\"properties\":[{\"default\":\"bottom-right\",\"kind\":null,\"name\":\"position\"},{\"default\":0,\"kind\":null,\"name\":\"_clear\"}]},{\"extends\":null,\"module\":null,\"name\":\"NotificationArea1\",\"overrides\":[],\"properties\":[{\"default\":[],\"kind\":null,\"name\":\"notifications\"},{\"default\":\"bottom-right\",\"kind\":null,\"name\":\"position\"},{\"default\":0,\"kind\":null,\"name\":\"_clear\"},{\"default\":[{\"background\":\"#ffc107\",\"icon\":{\"className\":\"fas fa-exclamation-triangle\",\"color\":\"white\",\"tagName\":\"i\"},\"type\":\"warning\"},{\"background\":\"#007bff\",\"icon\":{\"className\":\"fas fa-info-circle\",\"color\":\"white\",\"tagName\":\"i\"},\"type\":\"info\"}],\"kind\":null,\"name\":\"types\"}]},{\"extends\":null,\"module\":null,\"name\":\"Notification\",\"overrides\":[],\"properties\":[{\"default\":null,\"kind\":null,\"name\":\"background\"},{\"default\":3000,\"kind\":null,\"name\":\"duration\"},{\"default\":null,\"kind\":null,\"name\":\"icon\"},{\"default\":\"\",\"kind\":null,\"name\":\"message\"},{\"default\":null,\"kind\":null,\"name\":\"notification_type\"},{\"default\":false,\"kind\":null,\"name\":\"_destroyed\"}]},{\"extends\":null,\"module\":null,\"name\":\"TemplateActions1\",\"overrides\":[],\"properties\":[{\"default\":0,\"kind\":null,\"name\":\"open_modal\"},{\"default\":0,\"kind\":null,\"name\":\"close_modal\"}]},{\"extends\":null,\"module\":null,\"name\":\"MaterialTemplateActions1\",\"overrides\":[],\"properties\":[{\"default\":0,\"kind\":null,\"name\":\"open_modal\"},{\"default\":0,\"kind\":null,\"name\":\"close_modal\"}]}],\"roots\":{\"references\":[{\"attributes\":{\"axis\":{\"id\":\"1227\"},\"coordinates\":null,\"grid_line_color\":null,\"group\":null,\"ticker\":null},\"id\":\"1230\",\"type\":\"Grid\"},{\"attributes\":{\"axis\":{\"id\":\"1231\"},\"coordinates\":null,\"dimension\":1,\"grid_line_color\":null,\"group\":null,\"ticker\":null},\"id\":\"1234\",\"type\":\"Grid\"},{\"attributes\":{},\"id\":\"1232\",\"type\":\"BasicTicker\"},{\"attributes\":{\"end\":4.0,\"reset_end\":4.0,\"reset_start\":1.0,\"start\":1.0,\"tags\":[[[\"k\",\"k\",null]]]},\"id\":\"1215\",\"type\":\"Range1d\"},{\"attributes\":{},\"id\":\"1260\",\"type\":\"AllLabels\"},{\"attributes\":{\"source\":{\"id\":\"1248\"}},\"id\":\"1255\",\"type\":\"CDSView\"},{\"attributes\":{\"axis_label\":\"inertia\",\"coordinates\":null,\"formatter\":{\"id\":\"1264\"},\"group\":null,\"major_label_policy\":{\"id\":\"1265\"},\"ticker\":{\"id\":\"1232\"}},\"id\":\"1231\",\"type\":\"LinearAxis\"},{\"attributes\":{\"callback\":null,\"renderers\":[{\"id\":\"1254\"}],\"tags\":[\"hv_created\"],\"tooltips\":[[\"k\",\"@{k}\"],[\"inertia\",\"@{inertia}\"]]},\"id\":\"1217\",\"type\":\"HoverTool\"},{\"attributes\":{\"end\":3953.2117966461137,\"reset_end\":3953.2117966461137,\"reset_start\":189.6853740038688,\"start\":189.6853740038688,\"tags\":[[[\"inertia\",\"inertia\",null]]]},\"id\":\"1216\",\"type\":\"Range1d\"},{\"attributes\":{\"line_color\":\"#30a2da\",\"line_width\":2,\"x\":{\"field\":\"k\"},\"y\":{\"field\":\"inertia\"}},\"id\":\"1256\",\"type\":\"Line\"},{\"attributes\":{\"line_alpha\":0.2,\"line_color\":\"#30a2da\",\"line_width\":2,\"x\":{\"field\":\"k\"},\"y\":{\"field\":\"inertia\"}},\"id\":\"1253\",\"type\":\"Line\"},{\"attributes\":{},\"id\":\"1265\",\"type\":\"AllLabels\"},{\"attributes\":{\"below\":[{\"id\":\"1227\"}],\"center\":[{\"id\":\"1230\"},{\"id\":\"1234\"}],\"height\":300,\"left\":[{\"id\":\"1231\"}],\"margin\":[5,5,5,5],\"min_border_bottom\":10,\"min_border_left\":10,\"min_border_right\":10,\"min_border_top\":10,\"renderers\":[{\"id\":\"1254\"}],\"sizing_mode\":\"fixed\",\"title\":{\"id\":\"1219\"},\"toolbar\":{\"id\":\"1241\"},\"width\":700,\"x_range\":{\"id\":\"1215\"},\"x_scale\":{\"id\":\"1223\"},\"y_range\":{\"id\":\"1216\"},\"y_scale\":{\"id\":\"1225\"}},\"id\":\"1218\",\"subtype\":\"Figure\",\"type\":\"Plot\"},{\"attributes\":{\"coordinates\":null,\"data_source\":{\"id\":\"1248\"},\"glyph\":{\"id\":\"1251\"},\"group\":null,\"hover_glyph\":null,\"muted_glyph\":{\"id\":\"1253\"},\"nonselection_glyph\":{\"id\":\"1252\"},\"selection_glyph\":{\"id\":\"1256\"},\"view\":{\"id\":\"1255\"}},\"id\":\"1254\",\"type\":\"GlyphRenderer\"},{\"attributes\":{},\"id\":\"1223\",\"type\":\"LinearScale\"},{\"attributes\":{\"tools\":[{\"id\":\"1217\"},{\"id\":\"1235\"},{\"id\":\"1236\"},{\"id\":\"1237\"},{\"id\":\"1238\"},{\"id\":\"1239\"}]},\"id\":\"1241\",\"type\":\"Toolbar\"},{\"attributes\":{\"ticks\":[1,2,3,4]},\"id\":\"1257\",\"type\":\"FixedTicker\"},{\"attributes\":{},\"id\":\"1259\",\"type\":\"BasicTickFormatter\"},{\"attributes\":{\"bottom_units\":\"screen\",\"coordinates\":null,\"fill_alpha\":0.5,\"fill_color\":\"lightgrey\",\"group\":null,\"left_units\":\"screen\",\"level\":\"overlay\",\"line_alpha\":1.0,\"line_color\":\"black\",\"line_dash\":[4,4],\"line_width\":2,\"right_units\":\"screen\",\"syncable\":false,\"top_units\":\"screen\"},\"id\":\"1240\",\"type\":\"BoxAnnotation\"},{\"attributes\":{},\"id\":\"1235\",\"type\":\"SaveTool\"},{\"attributes\":{},\"id\":\"1236\",\"type\":\"PanTool\"},{\"attributes\":{},\"id\":\"1272\",\"type\":\"UnionRenderers\"},{\"attributes\":{},\"id\":\"1239\",\"type\":\"ResetTool\"},{\"attributes\":{\"line_alpha\":0.1,\"line_color\":\"#30a2da\",\"line_width\":2,\"x\":{\"field\":\"k\"},\"y\":{\"field\":\"inertia\"}},\"id\":\"1252\",\"type\":\"Line\"},{\"attributes\":{},\"id\":\"1237\",\"type\":\"WheelZoomTool\"},{\"attributes\":{\"margin\":[5,5,5,5],\"name\":\"HSpacer01118\",\"sizing_mode\":\"stretch_width\"},\"id\":\"1275\",\"type\":\"Spacer\"},{\"attributes\":{\"overlay\":{\"id\":\"1240\"}},\"id\":\"1238\",\"type\":\"BoxZoomTool\"},{\"attributes\":{\"children\":[{\"id\":\"1214\"},{\"id\":\"1218\"},{\"id\":\"1275\"}],\"margin\":[0,0,0,0],\"name\":\"Row01113\",\"tags\":[\"embedded\"]},\"id\":\"1213\",\"type\":\"Row\"},{\"attributes\":{},\"id\":\"1249\",\"type\":\"Selection\"},{\"attributes\":{\"margin\":[5,5,5,5],\"name\":\"HSpacer01117\",\"sizing_mode\":\"stretch_width\"},\"id\":\"1214\",\"type\":\"Spacer\"},{\"attributes\":{\"axis_label\":\"k\",\"coordinates\":null,\"formatter\":{\"id\":\"1259\"},\"group\":null,\"major_label_policy\":{\"id\":\"1260\"},\"ticker\":{\"id\":\"1257\"}},\"id\":\"1227\",\"type\":\"LinearAxis\"},{\"attributes\":{\"coordinates\":null,\"group\":null,\"text\":\"Elbow Curve\",\"text_color\":\"black\",\"text_font_size\":\"12pt\"},\"id\":\"1219\",\"type\":\"Title\"},{\"attributes\":{\"data\":{\"inertia\":{\"__ndarray__\":\"3hgBUCtvrECYX0O9eFKjQFgA2TyeLZdAvsKTTwB1f0A=\",\"dtype\":\"float64\",\"order\":\"little\",\"shape\":[4]},\"k\":[1,2,3,4]},\"selected\":{\"id\":\"1249\"},\"selection_policy\":{\"id\":\"1272\"}},\"id\":\"1248\",\"type\":\"ColumnDataSource\"},{\"attributes\":{},\"id\":\"1264\",\"type\":\"BasicTickFormatter\"},{\"attributes\":{\"line_color\":\"#30a2da\",\"line_width\":2,\"x\":{\"field\":\"k\"},\"y\":{\"field\":\"inertia\"}},\"id\":\"1251\",\"type\":\"Line\"},{\"attributes\":{},\"id\":\"1225\",\"type\":\"LinearScale\"}],\"root_ids\":[\"1213\"]},\"title\":\"Bokeh Application\",\"version\":\"2.4.3\"}};\n",
       "    var render_items = [{\"docid\":\"5536c4a0-744b-4e4b-ae79-33351b3a7c0c\",\"root_ids\":[\"1213\"],\"roots\":{\"1213\":\"bbe5c093-afa7-4c04-b4c4-63b1e45f631f\"}}];\n",
       "    root.Bokeh.embed.embed_items_notebook(docs_json, render_items);\n",
       "  }\n",
       "  if (root.Bokeh !== undefined && root.Bokeh.Panel !== undefined) {\n",
       "    embed_document(root);\n",
       "  } else {\n",
       "    var attempts = 0;\n",
       "    var timer = setInterval(function(root) {\n",
       "      if (root.Bokeh !== undefined && root.Bokeh.Panel !== undefined) {\n",
       "        clearInterval(timer);\n",
       "        embed_document(root);\n",
       "      } else if (document.readyState == \"complete\") {\n",
       "        attempts++;\n",
       "        if (attempts > 200) {\n",
       "          clearInterval(timer);\n",
       "          console.log(\"Bokeh: ERROR: Unable to run BokehJS code because BokehJS library is missing\");\n",
       "        }\n",
       "      }\n",
       "    }, 25, root)\n",
       "  }\n",
       "})(window);</script>"
      ],
      "text/plain": [
       ":Curve   [k]   (inertia)"
      ]
     },
     "execution_count": 68,
     "metadata": {
      "application/vnd.holoviews_exec.v0+json": {
       "id": "1213"
      }
     },
     "output_type": "execute_result"
    }
   ],
   "source": [
    "# Initialize the K-Means model.\n",
    "# YOUR CODE HERE\n",
    "for i in k:\n",
    "    km = KMeans(n_clusters=i, random_state=0)\n",
    "    \n",
    "# Fit the model\n",
    "# YOUR CODE HERE\n",
    "    km.fit(pcs_df)\n",
    "    inertia.append(km.inertia_)\n",
    "    \n",
    "# Predict clusters\n",
    "# YOUR CODE HERE\n",
    "elbow_data = {\"k\": k, \"inertia\": inertia}\n",
    "df_elbow = pd.DataFrame(elbow_data)\n",
    "df_elbow.hvplot.line(x=\"k\", y=\"inertia\", \n",
    "                     title=\"Elbow Curve\", \n",
    "                     xticks=k)"
   ]
  },
  {
   "cell_type": "code",
   "execution_count": 69,
   "metadata": {},
   "outputs": [
    {
     "data": {
      "text/html": [
       "<div>\n",
       "<style scoped>\n",
       "    .dataframe tbody tr th:only-of-type {\n",
       "        vertical-align: middle;\n",
       "    }\n",
       "\n",
       "    .dataframe tbody tr th {\n",
       "        vertical-align: top;\n",
       "    }\n",
       "\n",
       "    .dataframe thead th {\n",
       "        text-align: right;\n",
       "    }\n",
       "</style>\n",
       "<table border=\"1\" class=\"dataframe\">\n",
       "  <thead>\n",
       "    <tr style=\"text-align: right;\">\n",
       "      <th></th>\n",
       "      <th>PC1</th>\n",
       "      <th>PC2</th>\n",
       "      <th>PC3</th>\n",
       "      <th>Class</th>\n",
       "    </tr>\n",
       "    <tr>\n",
       "      <th>ind</th>\n",
       "      <th></th>\n",
       "      <th></th>\n",
       "      <th></th>\n",
       "      <th></th>\n",
       "    </tr>\n",
       "  </thead>\n",
       "  <tbody>\n",
       "    <tr>\n",
       "      <th>42</th>\n",
       "      <td>-0.330996</td>\n",
       "      <td>1.010505</td>\n",
       "      <td>-0.521185</td>\n",
       "      <td>0</td>\n",
       "    </tr>\n",
       "    <tr>\n",
       "      <th>404</th>\n",
       "      <td>-0.314328</td>\n",
       "      <td>1.010804</td>\n",
       "      <td>-0.521460</td>\n",
       "      <td>0</td>\n",
       "    </tr>\n",
       "    <tr>\n",
       "      <th>1337</th>\n",
       "      <td>2.308721</td>\n",
       "      <td>1.709887</td>\n",
       "      <td>-0.533515</td>\n",
       "      <td>0</td>\n",
       "    </tr>\n",
       "    <tr>\n",
       "      <th>BTC</th>\n",
       "      <td>-0.144442</td>\n",
       "      <td>-1.343681</td>\n",
       "      <td>0.150950</td>\n",
       "      <td>3</td>\n",
       "    </tr>\n",
       "    <tr>\n",
       "      <th>ETH</th>\n",
       "      <td>-0.155638</td>\n",
       "      <td>-2.043498</td>\n",
       "      <td>0.304137</td>\n",
       "      <td>3</td>\n",
       "    </tr>\n",
       "    <tr>\n",
       "      <th>...</th>\n",
       "      <td>...</td>\n",
       "      <td>...</td>\n",
       "      <td>...</td>\n",
       "      <td>...</td>\n",
       "    </tr>\n",
       "    <tr>\n",
       "      <th>ZEPH</th>\n",
       "      <td>2.468549</td>\n",
       "      <td>0.647778</td>\n",
       "      <td>-0.086526</td>\n",
       "      <td>0</td>\n",
       "    </tr>\n",
       "    <tr>\n",
       "      <th>GAP</th>\n",
       "      <td>-0.329040</td>\n",
       "      <td>1.010419</td>\n",
       "      <td>-0.521198</td>\n",
       "      <td>0</td>\n",
       "    </tr>\n",
       "    <tr>\n",
       "      <th>BDX</th>\n",
       "      <td>0.327815</td>\n",
       "      <td>-2.257619</td>\n",
       "      <td>0.389777</td>\n",
       "      <td>3</td>\n",
       "    </tr>\n",
       "    <tr>\n",
       "      <th>ZEN</th>\n",
       "      <td>-0.151681</td>\n",
       "      <td>-2.119845</td>\n",
       "      <td>0.430020</td>\n",
       "      <td>3</td>\n",
       "    </tr>\n",
       "    <tr>\n",
       "      <th>XBC</th>\n",
       "      <td>-0.287084</td>\n",
       "      <td>0.811096</td>\n",
       "      <td>-0.288655</td>\n",
       "      <td>0</td>\n",
       "    </tr>\n",
       "  </tbody>\n",
       "</table>\n",
       "<p>532 rows × 4 columns</p>\n",
       "</div>"
      ],
      "text/plain": [
       "           PC1       PC2       PC3  Class\n",
       "ind                                      \n",
       "42   -0.330996  1.010505 -0.521185      0\n",
       "404  -0.314328  1.010804 -0.521460      0\n",
       "1337  2.308721  1.709887 -0.533515      0\n",
       "BTC  -0.144442 -1.343681  0.150950      3\n",
       "ETH  -0.155638 -2.043498  0.304137      3\n",
       "...        ...       ...       ...    ...\n",
       "ZEPH  2.468549  0.647778 -0.086526      0\n",
       "GAP  -0.329040  1.010419 -0.521198      0\n",
       "BDX   0.327815 -2.257619  0.389777      3\n",
       "ZEN  -0.151681 -2.119845  0.430020      3\n",
       "XBC  -0.287084  0.811096 -0.288655      0\n",
       "\n",
       "[532 rows x 4 columns]"
      ]
     },
     "execution_count": 69,
     "metadata": {},
     "output_type": "execute_result"
    }
   ],
   "source": [
    "# Initialize the K-Means model.\n",
    "# YOUR CODE HERE\n",
    "# Fit the model\n",
    "# YOUR CODE HERE\n",
    "# Predict clusters\n",
    "# YOUR CODE HERE\n",
    "\n",
    "def get_clusters(k, data):\n",
    "    # Create a copy of the DataFrame\n",
    "    data = data.copy()\n",
    "\n",
    "    # Initialize the K-Means model\n",
    "    model = KMeans(n_clusters=k, random_state=0)\n",
    "\n",
    "    # Fit the model\n",
    "    model.fit(data)\n",
    "\n",
    "    # Predict clusters\n",
    "    predictions = model.predict(data)\n",
    "\n",
    "    # Create return DataFrame with predicted clusters\n",
    "    data[\"Class\"] = model.labels_\n",
    "\n",
    "    return data\n",
    "\n",
    "k1 = get_clusters(4, pcs_df)\n",
    "k1\n"
   ]
  },
  {
   "cell_type": "code",
   "execution_count": 70,
   "metadata": {
    "scrolled": true
   },
   "outputs": [
    {
     "name": "stdout",
     "output_type": "stream",
     "text": [
      "(1596, 9)\n"
     ]
    },
    {
     "data": {
      "text/html": [
       "<div>\n",
       "<style scoped>\n",
       "    .dataframe tbody tr th:only-of-type {\n",
       "        vertical-align: middle;\n",
       "    }\n",
       "\n",
       "    .dataframe tbody tr th {\n",
       "        vertical-align: top;\n",
       "    }\n",
       "\n",
       "    .dataframe thead th {\n",
       "        text-align: right;\n",
       "    }\n",
       "</style>\n",
       "<table border=\"1\" class=\"dataframe\">\n",
       "  <thead>\n",
       "    <tr style=\"text-align: right;\">\n",
       "      <th></th>\n",
       "      <th>Algorithm</th>\n",
       "      <th>ProofType</th>\n",
       "      <th>TotalCoinsMined</th>\n",
       "      <th>TotalCoinSupply</th>\n",
       "      <th>PC1</th>\n",
       "      <th>PC2</th>\n",
       "      <th>PC3</th>\n",
       "      <th>CoinName</th>\n",
       "      <th>Class</th>\n",
       "    </tr>\n",
       "    <tr>\n",
       "      <th>ind</th>\n",
       "      <th></th>\n",
       "      <th></th>\n",
       "      <th></th>\n",
       "      <th></th>\n",
       "      <th></th>\n",
       "      <th></th>\n",
       "      <th></th>\n",
       "      <th></th>\n",
       "      <th></th>\n",
       "    </tr>\n",
       "  </thead>\n",
       "  <tbody>\n",
       "    <tr>\n",
       "      <th>1337</th>\n",
       "      <td>X13</td>\n",
       "      <td>PoW/PoS</td>\n",
       "      <td>2.927942e+10</td>\n",
       "      <td>3.140000e+11</td>\n",
       "      <td>NaN</td>\n",
       "      <td>NaN</td>\n",
       "      <td>NaN</td>\n",
       "      <td>EliteCoin</td>\n",
       "      <td>NaN</td>\n",
       "    </tr>\n",
       "    <tr>\n",
       "      <th>1337</th>\n",
       "      <td>NaN</td>\n",
       "      <td>NaN</td>\n",
       "      <td>NaN</td>\n",
       "      <td>NaN</td>\n",
       "      <td>2.308721</td>\n",
       "      <td>1.709887</td>\n",
       "      <td>-0.533515</td>\n",
       "      <td>EliteCoin</td>\n",
       "      <td>NaN</td>\n",
       "    </tr>\n",
       "    <tr>\n",
       "      <th>1CR</th>\n",
       "      <td>Scrypt</td>\n",
       "      <td>PoW</td>\n",
       "      <td>8.821300e+04</td>\n",
       "      <td>9.200000e+10</td>\n",
       "      <td>NaN</td>\n",
       "      <td>NaN</td>\n",
       "      <td>NaN</td>\n",
       "      <td>1Credit</td>\n",
       "      <td>NaN</td>\n",
       "    </tr>\n",
       "    <tr>\n",
       "      <th>1CR</th>\n",
       "      <td>NaN</td>\n",
       "      <td>NaN</td>\n",
       "      <td>NaN</td>\n",
       "      <td>NaN</td>\n",
       "      <td>0.489387</td>\n",
       "      <td>-1.172365</td>\n",
       "      <td>-0.019836</td>\n",
       "      <td>1Credit</td>\n",
       "      <td>NaN</td>\n",
       "    </tr>\n",
       "    <tr>\n",
       "      <th>404</th>\n",
       "      <td>Scrypt</td>\n",
       "      <td>PoW/PoS</td>\n",
       "      <td>1.055185e+09</td>\n",
       "      <td>5.320000e+08</td>\n",
       "      <td>NaN</td>\n",
       "      <td>NaN</td>\n",
       "      <td>NaN</td>\n",
       "      <td>404Coin</td>\n",
       "      <td>NaN</td>\n",
       "    </tr>\n",
       "    <tr>\n",
       "      <th>404</th>\n",
       "      <td>NaN</td>\n",
       "      <td>NaN</td>\n",
       "      <td>NaN</td>\n",
       "      <td>NaN</td>\n",
       "      <td>-0.314328</td>\n",
       "      <td>1.010804</td>\n",
       "      <td>-0.521460</td>\n",
       "      <td>404Coin</td>\n",
       "      <td>NaN</td>\n",
       "    </tr>\n",
       "    <tr>\n",
       "      <th>42</th>\n",
       "      <td>Scrypt</td>\n",
       "      <td>PoW/PoS</td>\n",
       "      <td>4.199995e+01</td>\n",
       "      <td>4.200000e+01</td>\n",
       "      <td>NaN</td>\n",
       "      <td>NaN</td>\n",
       "      <td>NaN</td>\n",
       "      <td>42 Coin</td>\n",
       "      <td>NaN</td>\n",
       "    </tr>\n",
       "    <tr>\n",
       "      <th>42</th>\n",
       "      <td>NaN</td>\n",
       "      <td>NaN</td>\n",
       "      <td>NaN</td>\n",
       "      <td>NaN</td>\n",
       "      <td>-0.330996</td>\n",
       "      <td>1.010505</td>\n",
       "      <td>-0.521185</td>\n",
       "      <td>42 Coin</td>\n",
       "      <td>NaN</td>\n",
       "    </tr>\n",
       "    <tr>\n",
       "      <th>8BIT</th>\n",
       "      <td>Scrypt</td>\n",
       "      <td>PoW/PoS</td>\n",
       "      <td>1.467841e+06</td>\n",
       "      <td>0.000000e+00</td>\n",
       "      <td>NaN</td>\n",
       "      <td>NaN</td>\n",
       "      <td>NaN</td>\n",
       "      <td>8BIT Coin</td>\n",
       "      <td>NaN</td>\n",
       "    </tr>\n",
       "    <tr>\n",
       "      <th>8BIT</th>\n",
       "      <td>NaN</td>\n",
       "      <td>NaN</td>\n",
       "      <td>NaN</td>\n",
       "      <td>NaN</td>\n",
       "      <td>-0.330978</td>\n",
       "      <td>1.010506</td>\n",
       "      <td>-0.521186</td>\n",
       "      <td>8BIT Coin</td>\n",
       "      <td>NaN</td>\n",
       "    </tr>\n",
       "  </tbody>\n",
       "</table>\n",
       "</div>"
      ],
      "text/plain": [
       "     Algorithm ProofType  TotalCoinsMined  TotalCoinSupply       PC1  \\\n",
       "ind                                                                    \n",
       "1337       X13   PoW/PoS     2.927942e+10     3.140000e+11       NaN   \n",
       "1337       NaN       NaN              NaN              NaN  2.308721   \n",
       "1CR     Scrypt       PoW     8.821300e+04     9.200000e+10       NaN   \n",
       "1CR        NaN       NaN              NaN              NaN  0.489387   \n",
       "404     Scrypt   PoW/PoS     1.055185e+09     5.320000e+08       NaN   \n",
       "404        NaN       NaN              NaN              NaN -0.314328   \n",
       "42      Scrypt   PoW/PoS     4.199995e+01     4.200000e+01       NaN   \n",
       "42         NaN       NaN              NaN              NaN -0.330996   \n",
       "8BIT    Scrypt   PoW/PoS     1.467841e+06     0.000000e+00       NaN   \n",
       "8BIT       NaN       NaN              NaN              NaN -0.330978   \n",
       "\n",
       "           PC2       PC3   CoinName  Class  \n",
       "ind                                         \n",
       "1337       NaN       NaN  EliteCoin    NaN  \n",
       "1337  1.709887 -0.533515  EliteCoin    NaN  \n",
       "1CR        NaN       NaN    1Credit    NaN  \n",
       "1CR  -1.172365 -0.019836    1Credit    NaN  \n",
       "404        NaN       NaN    404Coin    NaN  \n",
       "404   1.010804 -0.521460    404Coin    NaN  \n",
       "42         NaN       NaN    42 Coin    NaN  \n",
       "42    1.010505 -0.521185    42 Coin    NaN  \n",
       "8BIT       NaN       NaN  8BIT Coin    NaN  \n",
       "8BIT  1.010506 -0.521186  8BIT Coin    NaN  "
      ]
     },
     "execution_count": 70,
     "metadata": {},
     "output_type": "execute_result"
    }
   ],
   "source": [
    "# Create a new DataFrame including predicted clusters \n",
    "# and cryptocurrencies features.\n",
    "# Concatentate the crypto_df and pcs_df DataFrames on the same columns.\n",
    "# YOUR CODE HERE\n",
    "clustered_df1 = pd.concat([crypto_df6, pcs_df])\n",
    "\n",
    "#  Add a new column, \"CoinName\" to the clustered_df DataFrame \n",
    "# that holds the names of the cryptocurrencies. \n",
    "# YOUR CODE HERE\n",
    "clustered_df2 = clustered_df1.join(crypto_df_coinname)\n",
    "                                   \n",
    "#  Add a new column, \"Class\" to the clustered_df DataFrame \n",
    "#  that holds the predictions.\n",
    "# YOUR CODE HERE\n",
    "clustered_df3 = pd.concat([clustered_df2, k1])\n",
    "\n",
    "\n",
    "# Print the shape of the clustered_df\n",
    "print(clustered_df3.shape)\n",
    "clustered_df3.head(10)"
   ]
  },
  {
   "cell_type": "markdown",
   "metadata": {},
   "source": [
    "### Deliverable 4: Visualizing Cryptocurrencies Results\n",
    "\n",
    "#### 3D-Scatter with Clusters"
   ]
  },
  {
   "cell_type": "code",
   "execution_count": 71,
   "metadata": {},
   "outputs": [
    {
     "data": {
      "application/vnd.plotly.v1+json": {
       "config": {
        "plotlyServerURL": "https://plot.ly"
       },
       "data": [
        {
         "customdata": [
          [
           null
          ],
          [
           null
          ],
          [
           null
          ],
          [
           null
          ],
          [
           null
          ],
          [
           null
          ],
          [
           null
          ],
          [
           null
          ],
          [
           null
          ],
          [
           null
          ],
          [
           null
          ],
          [
           null
          ],
          [
           null
          ],
          [
           null
          ],
          [
           null
          ],
          [
           null
          ],
          [
           null
          ],
          [
           null
          ],
          [
           null
          ],
          [
           null
          ],
          [
           null
          ],
          [
           null
          ],
          [
           null
          ],
          [
           null
          ],
          [
           null
          ],
          [
           null
          ],
          [
           null
          ],
          [
           null
          ],
          [
           null
          ],
          [
           null
          ],
          [
           null
          ],
          [
           null
          ],
          [
           null
          ],
          [
           null
          ],
          [
           null
          ],
          [
           null
          ],
          [
           null
          ],
          [
           null
          ],
          [
           null
          ],
          [
           null
          ],
          [
           null
          ],
          [
           null
          ],
          [
           null
          ],
          [
           null
          ],
          [
           null
          ],
          [
           null
          ],
          [
           null
          ],
          [
           null
          ],
          [
           null
          ],
          [
           null
          ],
          [
           null
          ],
          [
           null
          ],
          [
           null
          ],
          [
           null
          ],
          [
           null
          ],
          [
           null
          ],
          [
           null
          ],
          [
           null
          ],
          [
           null
          ],
          [
           null
          ],
          [
           null
          ],
          [
           null
          ],
          [
           null
          ],
          [
           null
          ],
          [
           null
          ],
          [
           null
          ],
          [
           null
          ],
          [
           null
          ],
          [
           null
          ],
          [
           null
          ],
          [
           null
          ],
          [
           null
          ],
          [
           null
          ],
          [
           null
          ],
          [
           null
          ],
          [
           null
          ],
          [
           null
          ],
          [
           null
          ],
          [
           null
          ],
          [
           null
          ],
          [
           null
          ],
          [
           null
          ],
          [
           null
          ],
          [
           null
          ],
          [
           null
          ],
          [
           null
          ],
          [
           null
          ],
          [
           null
          ],
          [
           null
          ],
          [
           null
          ],
          [
           null
          ],
          [
           null
          ],
          [
           null
          ],
          [
           null
          ],
          [
           null
          ],
          [
           null
          ],
          [
           null
          ],
          [
           null
          ],
          [
           null
          ],
          [
           null
          ],
          [
           null
          ],
          [
           null
          ],
          [
           null
          ],
          [
           null
          ],
          [
           null
          ],
          [
           null
          ],
          [
           null
          ],
          [
           null
          ],
          [
           null
          ],
          [
           null
          ],
          [
           null
          ],
          [
           null
          ],
          [
           null
          ],
          [
           null
          ],
          [
           null
          ],
          [
           null
          ],
          [
           null
          ],
          [
           null
          ],
          [
           null
          ],
          [
           null
          ],
          [
           null
          ],
          [
           null
          ],
          [
           null
          ],
          [
           null
          ],
          [
           null
          ],
          [
           null
          ],
          [
           null
          ],
          [
           null
          ],
          [
           null
          ],
          [
           null
          ],
          [
           null
          ],
          [
           null
          ],
          [
           null
          ],
          [
           null
          ],
          [
           null
          ],
          [
           null
          ],
          [
           null
          ],
          [
           null
          ],
          [
           null
          ],
          [
           null
          ],
          [
           null
          ],
          [
           null
          ],
          [
           null
          ],
          [
           null
          ],
          [
           null
          ],
          [
           null
          ],
          [
           null
          ],
          [
           null
          ],
          [
           null
          ],
          [
           null
          ],
          [
           null
          ],
          [
           null
          ],
          [
           null
          ],
          [
           null
          ],
          [
           null
          ],
          [
           null
          ],
          [
           null
          ],
          [
           null
          ],
          [
           null
          ],
          [
           null
          ],
          [
           null
          ],
          [
           null
          ],
          [
           null
          ],
          [
           null
          ],
          [
           null
          ],
          [
           null
          ],
          [
           null
          ],
          [
           null
          ],
          [
           null
          ],
          [
           null
          ],
          [
           null
          ],
          [
           null
          ],
          [
           null
          ],
          [
           null
          ],
          [
           null
          ],
          [
           null
          ],
          [
           null
          ],
          [
           null
          ],
          [
           null
          ],
          [
           null
          ],
          [
           null
          ],
          [
           null
          ],
          [
           null
          ],
          [
           null
          ],
          [
           null
          ],
          [
           null
          ],
          [
           null
          ],
          [
           null
          ],
          [
           null
          ],
          [
           null
          ],
          [
           null
          ],
          [
           null
          ],
          [
           null
          ],
          [
           null
          ],
          [
           null
          ],
          [
           null
          ],
          [
           null
          ],
          [
           null
          ],
          [
           null
          ],
          [
           null
          ],
          [
           null
          ],
          [
           null
          ],
          [
           null
          ],
          [
           null
          ],
          [
           null
          ],
          [
           null
          ],
          [
           null
          ],
          [
           null
          ],
          [
           null
          ],
          [
           null
          ],
          [
           null
          ],
          [
           null
          ],
          [
           null
          ],
          [
           null
          ],
          [
           null
          ],
          [
           null
          ],
          [
           null
          ],
          [
           null
          ],
          [
           null
          ],
          [
           null
          ],
          [
           null
          ],
          [
           null
          ],
          [
           null
          ],
          [
           null
          ],
          [
           null
          ],
          [
           null
          ],
          [
           null
          ],
          [
           null
          ],
          [
           null
          ],
          [
           null
          ],
          [
           null
          ],
          [
           null
          ],
          [
           null
          ],
          [
           null
          ],
          [
           null
          ],
          [
           null
          ],
          [
           null
          ],
          [
           null
          ],
          [
           null
          ],
          [
           null
          ],
          [
           null
          ],
          [
           null
          ],
          [
           null
          ],
          [
           null
          ],
          [
           null
          ],
          [
           null
          ],
          [
           null
          ],
          [
           null
          ],
          [
           null
          ],
          [
           null
          ],
          [
           null
          ],
          [
           null
          ],
          [
           null
          ],
          [
           null
          ],
          [
           null
          ],
          [
           null
          ],
          [
           null
          ],
          [
           null
          ],
          [
           null
          ],
          [
           null
          ],
          [
           null
          ],
          [
           null
          ],
          [
           null
          ],
          [
           null
          ],
          [
           null
          ],
          [
           null
          ],
          [
           null
          ],
          [
           null
          ],
          [
           null
          ],
          [
           null
          ],
          [
           null
          ],
          [
           null
          ],
          [
           null
          ],
          [
           null
          ],
          [
           null
          ],
          [
           null
          ],
          [
           null
          ],
          [
           null
          ],
          [
           null
          ],
          [
           null
          ],
          [
           null
          ],
          [
           null
          ],
          [
           null
          ],
          [
           null
          ],
          [
           null
          ],
          [
           null
          ],
          [
           null
          ],
          [
           null
          ]
         ],
         "hovertemplate": "<b>%{hovertext}</b><br><br>Class=%{marker.color}<br>PC1=%{x}<br>PC2=%{y}<br>PC3=%{z}<br>Algorithm=%{customdata[0]}<extra></extra>",
         "hovertext": [
          null,
          null,
          null,
          null,
          null,
          null,
          null,
          null,
          null,
          null,
          null,
          null,
          null,
          null,
          null,
          null,
          null,
          null,
          null,
          null,
          null,
          null,
          null,
          null,
          null,
          null,
          null,
          null,
          null,
          null,
          null,
          null,
          null,
          null,
          null,
          null,
          null,
          null,
          null,
          null,
          null,
          null,
          null,
          null,
          null,
          null,
          null,
          null,
          null,
          null,
          null,
          null,
          null,
          null,
          null,
          null,
          null,
          null,
          null,
          null,
          null,
          null,
          null,
          null,
          null,
          null,
          null,
          null,
          null,
          null,
          null,
          null,
          null,
          null,
          null,
          null,
          null,
          null,
          null,
          null,
          null,
          null,
          null,
          null,
          null,
          null,
          null,
          null,
          null,
          null,
          null,
          null,
          null,
          null,
          null,
          null,
          null,
          null,
          null,
          null,
          null,
          null,
          null,
          null,
          null,
          null,
          null,
          null,
          null,
          null,
          null,
          null,
          null,
          null,
          null,
          null,
          null,
          null,
          null,
          null,
          null,
          null,
          null,
          null,
          null,
          null,
          null,
          null,
          null,
          null,
          null,
          null,
          null,
          null,
          null,
          null,
          null,
          null,
          null,
          null,
          null,
          null,
          null,
          null,
          null,
          null,
          null,
          null,
          null,
          null,
          null,
          null,
          null,
          null,
          null,
          null,
          null,
          null,
          null,
          null,
          null,
          null,
          null,
          null,
          null,
          null,
          null,
          null,
          null,
          null,
          null,
          null,
          null,
          null,
          null,
          null,
          null,
          null,
          null,
          null,
          null,
          null,
          null,
          null,
          null,
          null,
          null,
          null,
          null,
          null,
          null,
          null,
          null,
          null,
          null,
          null,
          null,
          null,
          null,
          null,
          null,
          null,
          null,
          null,
          null,
          null,
          null,
          null,
          null,
          null,
          null,
          null,
          null,
          null,
          null,
          null,
          null,
          null,
          null,
          null,
          null,
          null,
          null,
          null,
          null,
          null,
          null,
          null,
          null,
          null,
          null,
          null,
          null,
          null,
          null,
          null,
          null,
          null,
          null,
          null,
          null,
          null,
          null,
          null,
          null,
          null,
          null,
          null,
          null,
          null,
          null,
          null,
          null,
          null,
          null,
          null,
          null,
          null,
          null,
          null,
          null,
          null,
          null,
          null,
          null,
          null,
          null,
          null,
          null,
          null,
          null,
          null,
          null,
          null,
          null,
          null,
          null,
          null,
          null,
          null,
          null,
          null,
          null,
          null,
          null,
          null,
          null,
          null
         ],
         "legendgroup": "0.0",
         "marker": {
          "color": [
           0,
           0,
           0,
           0,
           0,
           0,
           0,
           0,
           0,
           0,
           0,
           0,
           0,
           0,
           0,
           0,
           0,
           0,
           0,
           0,
           0,
           0,
           0,
           0,
           0,
           0,
           0,
           0,
           0,
           0,
           0,
           0,
           0,
           0,
           0,
           0,
           0,
           0,
           0,
           0,
           0,
           0,
           0,
           0,
           0,
           0,
           0,
           0,
           0,
           0,
           0,
           0,
           0,
           0,
           0,
           0,
           0,
           0,
           0,
           0,
           0,
           0,
           0,
           0,
           0,
           0,
           0,
           0,
           0,
           0,
           0,
           0,
           0,
           0,
           0,
           0,
           0,
           0,
           0,
           0,
           0,
           0,
           0,
           0,
           0,
           0,
           0,
           0,
           0,
           0,
           0,
           0,
           0,
           0,
           0,
           0,
           0,
           0,
           0,
           0,
           0,
           0,
           0,
           0,
           0,
           0,
           0,
           0,
           0,
           0,
           0,
           0,
           0,
           0,
           0,
           0,
           0,
           0,
           0,
           0,
           0,
           0,
           0,
           0,
           0,
           0,
           0,
           0,
           0,
           0,
           0,
           0,
           0,
           0,
           0,
           0,
           0,
           0,
           0,
           0,
           0,
           0,
           0,
           0,
           0,
           0,
           0,
           0,
           0,
           0,
           0,
           0,
           0,
           0,
           0,
           0,
           0,
           0,
           0,
           0,
           0,
           0,
           0,
           0,
           0,
           0,
           0,
           0,
           0,
           0,
           0,
           0,
           0,
           0,
           0,
           0,
           0,
           0,
           0,
           0,
           0,
           0,
           0,
           0,
           0,
           0,
           0,
           0,
           0,
           0,
           0,
           0,
           0,
           0,
           0,
           0,
           0,
           0,
           0,
           0,
           0,
           0,
           0,
           0,
           0,
           0,
           0,
           0,
           0,
           0,
           0,
           0,
           0,
           0,
           0,
           0,
           0,
           0,
           0,
           0,
           0,
           0,
           0,
           0,
           0,
           0,
           0,
           0,
           0,
           0,
           0,
           0,
           0,
           0,
           0,
           0,
           0,
           0,
           0,
           0,
           0,
           0,
           0,
           0,
           0,
           0,
           0,
           0,
           0,
           0,
           0,
           0,
           0,
           0,
           0,
           0,
           0,
           0,
           0,
           0,
           0,
           0,
           0,
           0,
           0,
           0,
           0,
           0,
           0,
           0,
           0,
           0,
           0,
           0,
           0,
           0,
           0,
           0,
           0,
           0,
           0,
           0,
           0,
           0,
           0,
           0,
           0,
           0
          ],
          "coloraxis": "coloraxis",
          "symbol": "diamond"
         },
         "mode": "markers",
         "name": "0.0",
         "scene": "scene",
         "showlegend": true,
         "type": "scatter3d",
         "x": [
          -0.33099627309971347,
          -0.3143279114402013,
          2.308720708362958,
          -0.39595174610553585,
          -0.30900742310790974,
          -0.31225408169222735,
          -0.26828679315695997,
          -0.23665607913678122,
          -0.33065569694169994,
          -0.32323180857200723,
          -0.3294925268002937,
          -0.3309922059749786,
          -0.3309764812985873,
          0.6394684909633368,
          -0.3696013200556626,
          -0.3590670409281611,
          -0.2507147577617034,
          -0.32905405603583704,
          -0.3318039112668776,
          -0.39584641997982345,
          -0.43011942091490096,
          -0.026894535145183564,
          -0.27554098955670175,
          -0.2867798955263468,
          -0.2761667178488118,
          -0.276789058151668,
          -0.3543169175584035,
          -0.32529528381859085,
          -0.32939720190992394,
          0.027220823643036695,
          -0.35169471673574837,
          -0.39621817742221505,
          -0.2484164600669589,
          -0.3348318206805567,
          -0.3961297497643927,
          -0.3062153343800506,
          -0.3296729039117851,
          -0.27670614704550467,
          -0.396094240212414,
          -0.24888478432283326,
          -0.27656987530636223,
          -0.3220926447328,
          -0.07976802194743128,
          -0.3247013767682834,
          -0.31146540606470025,
          -0.3690227821907036,
          -0.28676022954826497,
          -0.2768644024101279,
          -0.2814107022231229,
          -0.33097833785191383,
          -0.27681658750154686,
          -0.3521395578189559,
          -0.33071256608092664,
          -0.39619970242473396,
          -0.45101479083416873,
          -0.4045833746272206,
          -0.33685316457171155,
          -0.2851609430391971,
          -0.2763379291970826,
          -0.3048044793692724,
          -0.23909961564623267,
          -0.08471995268252032,
          -0.3122249895054064,
          -0.07347055035847781,
          -0.31228875331928635,
          -0.237501510161795,
          -0.3305883131692573,
          -0.28502937180634963,
          -0.3933664393930879,
          0.8671051891026463,
          -0.31208863053312547,
          -0.09163891453835535,
          -0.3587501505684624,
          -0.3940418789582002,
          -0.31083102111621336,
          -0.30849729357541833,
          -0.358885320238935,
          -0.39493395220026073,
          -0.33789190602018604,
          -0.306870246094633,
          -0.33062640755061984,
          -0.3290648106716628,
          -0.2315902376510396,
          -0.339624617785253,
          -0.39567325427671823,
          -0.3298302440183396,
          -0.3122696502759657,
          -0.39618887715757256,
          -0.33081572293647227,
          -0.33097256973344313,
          -0.28502002188205805,
          -0.23137750314142772,
          0.028391093699195052,
          -0.3577067473223517,
          -0.33058664525565334,
          -0.3823410732989009,
          -0.3570354101084943,
          -0.23302210242328683,
          -0.41649753383845706,
          -0.35678302974741993,
          -0.2862618592556112,
          3.713931078649404,
          -0.39578120314479254,
          0.8555928558931712,
          -0.3961437733094642,
          -0.358170711596684,
          -0.3305139978665833,
          -0.3306683397012381,
          -0.3587501505684624,
          -0.3957183166865599,
          -0.3121322991287607,
          -0.3305147607477055,
          -0.39848657542433963,
          -0.3306622067338239,
          -0.3262462898556001,
          -0.39617276772647003,
          -0.32987218072248153,
          0.35678474658679643,
          -0.33086159761960826,
          -0.33093223066529853,
          -0.3607784866489054,
          -0.3514085325899459,
          -0.32715579017752655,
          -0.31224605899944896,
          -0.396082679131922,
          -0.33070991440923875,
          -0.3308368849147791,
          -0.28666645316512596,
          -0.2588347619130544,
          -0.23278984923238924,
          -0.31168164151830235,
          -0.28640762906227185,
          -0.39534783019087594,
          -0.4263469612859596,
          -0.39408588640777764,
          -0.35699589662200426,
          -0.39524569388514325,
          -0.35139322166674497,
          -0.39118388395900583,
          -0.33078016299638513,
          -0.3307793169884618,
          -0.32389487917941073,
          0.2648529233362165,
          -0.39572456441648174,
          -0.2692954733880132,
          -0.3587844035372307,
          -0.3299902788238937,
          0.8959508008565922,
          -0.2669760188586379,
          -0.33666967710608303,
          0.5754380301243518,
          -0.3604216809375227,
          -0.3589230600702869,
          -0.41803744297241946,
          -0.27650151827671715,
          0.1342911317929911,
          -0.2765723593474124,
          -0.3418295160265922,
          -0.41754222410060493,
          -0.3959971539170864,
          -0.2867408532059777,
          4.388445679420481,
          -0.35865049651574754,
          -0.3304151512037635,
          -0.3309151524548759,
          -0.36710077895670024,
          0.6495152454511058,
          -0.3959378843900618,
          -0.34931318454261023,
          -0.33087070239221217,
          -0.3344730401669499,
          0.438528978110671,
          -0.310591597812516,
          -0.34517954659592853,
          -0.41435140656082153,
          -0.33082100514037677,
          -0.40312297176085177,
          -0.3324691085398588,
          -0.330691407256748,
          -0.09469036797206937,
          -0.3947297159534137,
          3.7187899304075085,
          0.19933402678580087,
          -0.27324158317159813,
          -0.3281501978169848,
          -0.3162812120620261,
          -0.3606643421612746,
          0.08378330670316853,
          -0.32982910155093653,
          -0.39531143523399387,
          -0.3598284177640814,
          -0.3173886051182973,
          -0.33093728958357854,
          -0.35211147653801145,
          -0.3381739231353054,
          -0.280634967489912,
          -0.27598794630612283,
          -0.3264804996854193,
          -0.22458006079760484,
          -0.3739420211087171,
          -0.3960143273409292,
          -0.2935977144614586,
          -0.28590014205949604,
          -0.3115009277522204,
          -0.3600203625160074,
          -0.330964654913589,
          -0.3309463523414163,
          -0.28027856060104767,
          -0.3258014613471819,
          -0.3582447405180049,
          -0.3306626820688641,
          3.9036192492375887,
          -0.4017907201979124,
          -0.35843348803514063,
          -0.33090050344462313,
          -0.27749668139304745,
          -0.23438529059992524,
          -0.28643495691782045,
          -0.13398702350617478,
          -0.28668698011556637,
          -0.35162671260437334,
          -0.33013634013243637,
          -0.19453904561934124,
          2.247179361473078,
          -0.3563683099705567,
          -0.2671042577574856,
          1.013630559753262,
          -0.37414060262881965,
          -0.36077789304602914,
          -0.40480842376068393,
          -0.16731126178992808,
          -0.37830504062181103,
          -0.3594967724637167,
          -0.3238349579134511,
          -0.35168862975409676,
          -0.39548743157054767,
          -0.2839308280314101,
          -0.35753246189354626,
          -0.34105880281350476,
          -0.3515497590128628,
          -0.1903291958072509,
          -0.41744822152581784,
          -0.2496869852896723,
          0.581539272594965,
          -0.1420202956297742,
          -0.4041026666197058,
          -0.33066670091595707,
          -0.4045590515197336,
          -0.36089493149009166,
          0.5764011057470844,
          -0.3521658092602665,
          -0.33014920480134424,
          -0.2880500180229437,
          -0.30631301628337865,
          -0.3930497539735482,
          -0.3957148136305685,
          3.7310366415630543,
          0.10452550513866066,
          -0.39325410165381053,
          -0.32953399523493043,
          -0.3303598794890346,
          -0.26831938786817217,
          -0.33087858693295996,
          -0.38733859987219454,
          -0.24451186938917024,
          -0.09186609143972192,
          -0.3830836154770002,
          -0.3301566837949707,
          -0.3232176764404794,
          -0.39228183895030555,
          -0.3285948366049007,
          -0.3590258925218214,
          -0.3741927028345626,
          -0.31076842930965226,
          3.7143231458274752,
          -0.09388040119777431,
          -0.32578834487431496,
          -0.3539424200983151,
          -0.27697168738527594,
          3.7241923971675703,
          3.725436788128807,
          -0.24920742699085613,
          -0.4289897044752818,
          -0.35896174764963235,
          -0.38806639978607804,
          2.4685492805684843,
          -0.3290400050074849,
          -0.28708374292126143
         ],
         "y": [
          1.0105051587504186,
          1.0108036720882432,
          1.7098867586907849,
          1.2467030289666938,
          1.2980522628091131,
          0.8048487553309847,
          0.6054480940583354,
          1.9793774895732477,
          1.0105074436644796,
          1.010804472170641,
          1.010563126897028,
          1.0105049922180982,
          1.01050527504715,
          0.44864376967652636,
          0.9648122316987945,
          1.484694651410401,
          0.30138998429117975,
          1.0105024270958216,
          1.0480883938931127,
          1.2467070891977565,
          1.8176118285292877,
          0.8211263120444368,
          0.8047137746086989,
          0.8110974927433664,
          1.8133013802450546,
          1.8132773895645613,
          0.5055407526919122,
          1.0104533183393207,
          1.010503426238618,
          1.024314118081251,
          1.0473216205432794,
          1.2467069847426497,
          0.1163634353196017,
          1.6112888279564062,
          1.246703927326576,
          1.0104257429353924,
          1.0104915047903655,
          0.2402161179908506,
          1.2467082062817225,
          0.11641005054953066,
          1.8132858388737048,
          1.0102016987015296,
          0.8731808696524989,
          1.7822278101994184,
          0.8048494104809023,
          0.9648373663233407,
          0.8111087142495198,
          1.8132667248615528,
          0.8109915902767896,
          1.010505850165875,
          1.8132698614594303,
          1.0472915385592079,
          1.0105031616928148,
          1.246707697584513,
          1.7477399520811665,
          1.908827573562972,
          1.227510706488808,
          0.8111056966364277,
          1.813262445833137,
          0.8045034709278378,
          1.9794926273101061,
          0.8524063574638422,
          0.8048498768096289,
          1.2419790808224338,
          0.80485485567312,
          1.539018523833999,
          1.0104937244156091,
          0.8110324853999823,
          1.2465685895202607,
          0.7915671905594527,
          0.8048434929595912,
          0.4449389511407144,
          1.4846939335147296,
          1.2467423782693752,
          0.8047738067873135,
          0.804668292577378,
          1.5342810810722267,
          1.246666601633333,
          1.624426856471046,
          1.010141821755145,
          1.0104907469734494,
          1.0105149462589107,
          1.613788721805308,
          1.0473620388967015,
          1.2466956573428623,
          1.0104919063378208,
          0.8048488018627951,
          1.2467061748274508,
          1.0104985383979905,
          1.010506072521854,
          0.8111757977501708,
          0.2554402496614069,
          1.9233980739027652,
          1.4846992346960628,
          1.0105209495767358,
          1.2462719048777782,
          1.4847471015975655,
          1.6138612453082586,
          1.9056244637606694,
          1.484588045204023,
          1.9193481851705727,
          1.578758549382966,
          1.246704429752349,
          1.8563800489374296,
          1.246707361706242,
          1.4846968697685106,
          1.0104988267441464,
          1.010490639462006,
          1.4846939335147296,
          1.2466874533534316,
          0.8048547433179929,
          1.010502379983104,
          0.8711164789728523,
          1.0104999295040962,
          1.0102674931059081,
          1.2467055024575888,
          1.0104553686026423,
          0.8148898343678382,
          1.0105019434666265,
          1.0105054832795763,
          1.523712330195989,
          0.6122192277911113,
          1.0103298624480952,
          0.8048497112861037,
          1.2467061596187161,
          1.0105032639124651,
          1.0104971190474759,
          0.8110767614492448,
          0.375832704333376,
          1.6138624222299762,
          1.0106030338723149,
          0.8111000435645188,
          1.2466758677974543,
          1.889997307694369,
          1.2467180477665007,
          1.4847031690761352,
          1.2466798050637162,
          1.4847317956068338,
          1.246577709423834,
          1.0104997720269833,
          1.010495026992703,
          1.0101322241221333,
          0.5775067089262351,
          1.2467001462538458,
          0.8104885909964886,
          1.484686146219905,
          1.0104760368257102,
          1.9650629933891703,
          0.6053773149635753,
          1.6244309676366115,
          1.7678947559836589,
          1.534273590675896,
          1.5342602256168643,
          1.9922769944793148,
          1.813269073360585,
          0.996107223369291,
          1.8132735218990885,
          1.641246318847098,
          1.9922960847385724,
          1.246709357423387,
          0.8110982050228452,
          3.0061117830582473,
          1.484670872925318,
          1.0104963565709464,
          1.0105055698218397,
          1.2980821571487828,
          1.5918303870205224,
          1.2467003298875872,
          0.5054774053835216,
          1.0104998248739148,
          0.7031256844553196,
          1.0240025104986852,
          0.8048624010413806,
          1.5340916039463122,
          1.81077370187987,
          1.0104983347735972,
          1.7230620555248788,
          1.767436995123834,
          1.0105073477026567,
          0.606327984468709,
          1.2466712413277814,
          1.578703346197698,
          1.5364575385207113,
          1.81327833733479,
          1.0104790681960285,
          1.3348620050371556,
          1.523713496931028,
          0.9941601903897819,
          1.0104531491439512,
          1.2467096051540685,
          1.523681052368657,
          1.0104477040857514,
          1.0105048457921215,
          1.0472919743810545,
          1.6244214817967635,
          -0.09441997540489333,
          0.3045781515423055,
          1.0105292064955935,
          1.6136709457108127,
          1.0170537278975051,
          1.246698676452437,
          1.834934642394305,
          0.8110616806594331,
          1.6622430700345399,
          1.534263193663997,
          1.0105044375695642,
          1.010503849743394,
          0.8110352333572768,
          1.723672868910809,
          1.4846694419021111,
          1.010498617805841,
          1.5226104286419366,
          1.7231134126705372,
          1.4846673393465484,
          0.688708184870311,
          1.0092552212238979,
          1.8157577021229536,
          0.811104439359637,
          1.0115034850315554,
          0.8110830837128062,
          1.9216177923730857,
          1.0104839867208255,
          1.7800674977258315,
          0.3059199481461438,
          1.5234716922893972,
          0.6054369250763582,
          1.536620827134893,
          0.8881187413082469,
          1.523708472955366,
          1.7231230891717895,
          0.8047972878806514,
          0.902519273908726,
          1.5237067707531886,
          1.0101345340351175,
          1.047286287392409,
          1.2467028206474913,
          0.8110496465462109,
          1.4846180037826262,
          0.8905381407712996,
          1.047262539813142,
          1.0042873824624516,
          0.9690095372054773,
          1.6355321241507288,
          2.2293232804926517,
          1.055404388156552,
          1.7231187054737809,
          1.010504283068011,
          1.723123723004209,
          1.5237088954482765,
          0.9971123367414074,
          1.0472907205950215,
          1.0104834907989642,
          1.834863958904524,
          1.920195828655304,
          1.2465575167283234,
          1.2467069890107103,
          1.578852102697146,
          1.0046600929521703,
          1.2468212479469616,
          1.0104321908747342,
          1.0104946044605474,
          0.6054413407187808,
          1.010509695477539,
          1.2467259418000909,
          1.007048841626451,
          0.8132358783120727,
          1.2465666241439401,
          1.0105278239104776,
          1.0105463420520917,
          1.2467242168853987,
          1.0104942621177648,
          1.4846904174606312,
          0.7080822830786683,
          0.8048523509038347,
          1.578751081949561,
          0.8120714784430767,
          1.0105119137320062,
          0.5055187172838489,
          1.8132702717630682,
          1.5792349502443994,
          1.579282920439842,
          0.6055449834653838,
          3.9923219582336857,
          1.4846931267869814,
          1.217488442815786,
          0.6477780820736712,
          1.010418899408314,
          0.8110955964015054
         ],
         "z": [
          -0.5211852520055079,
          -0.5214602947624921,
          -0.5335146460290117,
          -0.4520333011807211,
          -0.32455283338941887,
          -0.3537638003100874,
          -0.12123540308728455,
          -0.5397502955819892,
          -0.5211902582391437,
          -0.5213391511749831,
          -0.5212150577098277,
          -0.5211852806127094,
          -0.5211855402794469,
          -0.5509811912019488,
          -0.34169099635352324,
          -0.19277913499785418,
          -0.28128103617343075,
          -0.5212112658642084,
          -0.21990620210943204,
          -0.45203538884597433,
          -0.6949385252811144,
          -0.29381198189885427,
          -0.3542421252504867,
          -0.28865912066139643,
          -0.5149429056726144,
          -0.5149305702884186,
          -0.22827220061614956,
          -0.5212545614535463,
          -0.521206752888211,
          -0.528285459876095,
          -0.21951194718765502,
          -0.45203030865711374,
          0.0215232921794814,
          -0.148330509229731,
          -0.4520310212526084,
          -0.5215099973028473,
          -0.5212010801630235,
          -0.3852435557126041,
          -0.45203219318957183,
          0.021522172518560524,
          -0.5149349147035135,
          -0.5212577075121513,
          -0.8395771634596041,
          -0.29722575778538823,
          -0.3537746475632058,
          -0.3417029191518966,
          -0.2886611935519574,
          -0.5149278286168023,
          -0.2887152148421762,
          -0.521185607503759,
          -0.514928984400317,
          -0.21950104954920133,
          -0.5211887948964866,
          -0.45203067495337984,
          -0.741266529272684,
          -0.7622681821142124,
          -0.16215177786018453,
          -0.2886824906521551,
          -0.5149343109494289,
          -0.35380972412148176,
          -0.5397355347839642,
          -0.3689597824534335,
          -0.3537643769452503,
          -0.4556656672642675,
          -0.3537643093494003,
          -0.5052197179981773,
          -0.5211889692031467,
          -0.2886725062643108,
          -0.4520468881283439,
          -0.3012336417280235,
          -0.3537652072976411,
          -0.5404274701024763,
          -0.19278333561024297,
          -0.45206564336869987,
          -0.3537711267271711,
          -0.35378593990622514,
          -0.5028044119054924,
          -0.4520413041466754,
          -0.2104059116754622,
          -0.5214554071269865,
          -0.5211879714155495,
          -0.5212131331567139,
          -0.2824047903994541,
          -0.2196828450712529,
          -0.4520359085133467,
          -0.5211990017604458,
          -0.353763595748751,
          -0.45203057745163994,
          -0.521186646205269,
          -0.5211857218334226,
          -0.2886956861439435,
          -0.3916282155814284,
          -0.6903930040062499,
          -0.19279839962619846,
          -0.5211933712282666,
          -0.45214933184935485,
          -0.19281524296853825,
          -0.28239695398768994,
          -0.6413365541501449,
          -0.1927930953800778,
          -0.6854559426308795,
          -0.12159714100645783,
          -0.45203584932255814,
          -0.5372870509138935,
          -0.4520313826877493,
          -0.19279169995911874,
          -0.5211908021235568,
          -0.521187383000207,
          -0.19278333561024297,
          -0.45203397510310933,
          -0.3537664222037628,
          -0.5211913632898676,
          -0.15137824051651005,
          -0.5211889608833504,
          -0.521211717673077,
          -0.45203068871010516,
          -0.5211925532932659,
          -0.29803457600783084,
          -0.5211865691087645,
          -0.5211861764743274,
          -0.20024824734275024,
          -0.2731319855759467,
          -0.5212093625866236,
          -0.35376406335057303,
          -0.45203202143672905,
          -0.5211888474551734,
          -0.5211861296663904,
          -0.28865733102588903,
          -0.2791285725336819,
          -0.2824003066215495,
          -0.5214640636229876,
          -0.28866460129382665,
          -0.45203715758278845,
          -0.5662239316182897,
          -0.4520611302941098,
          -0.19280871437438996,
          -0.45203918202273863,
          -0.1928896282915684,
          -0.45207808181260123,
          -0.52118732897207,
          -0.5211865772315185,
          -0.5212219854896377,
          -0.12400232199070547,
          -0.4520359317268311,
          -0.2887993158652715,
          -0.192781616453539,
          -0.521194269371656,
          -0.552873993978295,
          -0.12124187082746854,
          -0.2104232199010473,
          -0.635548470766134,
          -0.5027822815957177,
          -0.5028005431760685,
          -0.5881777066864277,
          -0.5149331489160598,
          -0.5252065471417304,
          -0.5149328996214968,
          -0.0956543420106607,
          -0.5881875224014261,
          -0.45203370068515175,
          -0.28865976699692425,
          3.6464584869397245,
          -0.1927809834969172,
          -0.5211917510883635,
          -0.5211864230026372,
          -0.3237664026735616,
          -0.08536039006187242,
          -0.45203305581833475,
          -0.22833016239550402,
          -0.5211861043139383,
          -0.011461297390785165,
          -0.5338374089577539,
          -0.35378863854875986,
          -0.5029606080236196,
          -0.3803882253876561,
          -0.5211865415068999,
          -0.43279055405810263,
          -0.12954554156377826,
          -0.5211897564238606,
          -0.12374134483173371,
          -0.4520448321908574,
          -0.12165443950776651,
          -0.51075752945029,
          -0.5149790398318648,
          -0.5212198191357816,
          -0.27025448587184364,
          -0.2002499896814946,
          -0.5242054334029684,
          -0.5211927830260128,
          -0.45204308011525096,
          -0.20025615620942017,
          -0.5213613484066294,
          -0.521186005028023,
          -0.2195015021242482,
          -0.2104012060200136,
          0.031976144878721906,
          -0.29753274262961454,
          -0.5212506256551607,
          -0.2824813250640131,
          -0.3687772875266474,
          -0.4520317486913992,
          -0.43360488228043736,
          -0.28866534246393516,
          -0.06595127859283989,
          -0.5027860751938621,
          -0.5211855666438131,
          -0.5211857213724467,
          -0.2887376549795226,
          -0.257149563017269,
          -0.19278627976108192,
          -0.5211887434157769,
          -0.022124693557940237,
          -0.4328169605672083,
          -0.1927833707874026,
          -0.07616093387753575,
          -0.5217128647778001,
          -0.1437273838152633,
          -0.2886649361711021,
          -0.524029130611557,
          -0.28865806841482117,
          -0.6849307425266467,
          -0.5211935587785782,
          -0.307211282281015,
          -0.3605497268932854,
          -0.20026960669515195,
          -0.12124971279109945,
          -0.15683528793385565,
          -0.3087008272062833,
          -0.20024763497060705,
          -0.4327774155512101,
          -0.2892728791121505,
          -0.2439903997168842,
          -0.2002648101984358,
          -0.5212231731868406,
          -0.21950634657319315,
          -0.4520395916983535,
          -0.28869022903840164,
          -0.19278770700498468,
          -0.4162258060233092,
          -0.21950441809060672,
          -0.522100995191021,
          -0.5463556833901059,
          -0.20107541600806877,
          -0.22194683773398044,
          -0.2236678961572013,
          -0.4327863229185727,
          -0.5211895999652428,
          -0.43278091399012847,
          -0.20024610885131605,
          -0.5313898225491511,
          -0.21950056042724683,
          -0.5211933037884502,
          -0.43366907285258266,
          -0.6853191909929028,
          -0.45204942031082523,
          -0.4520371652266719,
          -0.12184516962437304,
          -0.5261769085626249,
          -0.45208905959764895,
          -0.5211934311680569,
          -0.5211922220605889,
          -0.1212338728333234,
          -0.5211875846630457,
          -0.45215429904670157,
          -0.5218072148204385,
          -0.35811462667678956,
          -0.4521866254418645,
          -0.5212003331337164,
          -0.5212978220925271,
          -0.45208669399949086,
          -0.5212162071161253,
          -0.19277901439201295,
          -0.3021729330473961,
          -0.353784613463239,
          -0.12160127983925864,
          -0.2914431085357531,
          -0.5212572712670148,
          -0.2282737568129769,
          -0.5149269379183545,
          -0.12181353309585864,
          -0.12183819812321747,
          -0.12151085180061666,
          5.485538883051625,
          -0.19278032386301075,
          -0.22826154189143288,
          -0.08652580230770796,
          -0.5211980213807761,
          -0.2886546771823319
         ]
        },
        {
         "customdata": [
          [
           null
          ],
          [
           null
          ],
          [
           null
          ],
          [
           null
          ],
          [
           null
          ],
          [
           null
          ],
          [
           null
          ],
          [
           null
          ],
          [
           null
          ],
          [
           null
          ],
          [
           null
          ],
          [
           null
          ],
          [
           null
          ],
          [
           null
          ],
          [
           null
          ],
          [
           null
          ],
          [
           null
          ],
          [
           null
          ],
          [
           null
          ],
          [
           null
          ],
          [
           null
          ],
          [
           null
          ],
          [
           null
          ],
          [
           null
          ],
          [
           null
          ],
          [
           null
          ],
          [
           null
          ],
          [
           null
          ],
          [
           null
          ],
          [
           null
          ],
          [
           null
          ],
          [
           null
          ],
          [
           null
          ],
          [
           null
          ],
          [
           null
          ],
          [
           null
          ],
          [
           null
          ],
          [
           null
          ],
          [
           null
          ],
          [
           null
          ],
          [
           null
          ],
          [
           null
          ],
          [
           null
          ],
          [
           null
          ],
          [
           null
          ],
          [
           null
          ],
          [
           null
          ],
          [
           null
          ],
          [
           null
          ],
          [
           null
          ],
          [
           null
          ],
          [
           null
          ],
          [
           null
          ],
          [
           null
          ],
          [
           null
          ],
          [
           null
          ],
          [
           null
          ],
          [
           null
          ],
          [
           null
          ],
          [
           null
          ],
          [
           null
          ],
          [
           null
          ],
          [
           null
          ],
          [
           null
          ],
          [
           null
          ],
          [
           null
          ],
          [
           null
          ],
          [
           null
          ],
          [
           null
          ],
          [
           null
          ],
          [
           null
          ],
          [
           null
          ],
          [
           null
          ],
          [
           null
          ],
          [
           null
          ],
          [
           null
          ],
          [
           null
          ],
          [
           null
          ],
          [
           null
          ],
          [
           null
          ],
          [
           null
          ],
          [
           null
          ],
          [
           null
          ],
          [
           null
          ],
          [
           null
          ],
          [
           null
          ],
          [
           null
          ],
          [
           null
          ],
          [
           null
          ],
          [
           null
          ],
          [
           null
          ],
          [
           null
          ],
          [
           null
          ],
          [
           null
          ],
          [
           null
          ],
          [
           null
          ],
          [
           null
          ],
          [
           null
          ],
          [
           null
          ],
          [
           null
          ],
          [
           null
          ],
          [
           null
          ],
          [
           null
          ],
          [
           null
          ],
          [
           null
          ],
          [
           null
          ],
          [
           null
          ],
          [
           null
          ],
          [
           null
          ],
          [
           null
          ],
          [
           null
          ],
          [
           null
          ],
          [
           null
          ],
          [
           null
          ],
          [
           null
          ],
          [
           null
          ],
          [
           null
          ],
          [
           null
          ],
          [
           null
          ],
          [
           null
          ],
          [
           null
          ],
          [
           null
          ],
          [
           null
          ],
          [
           null
          ],
          [
           null
          ],
          [
           null
          ],
          [
           null
          ],
          [
           null
          ],
          [
           null
          ],
          [
           null
          ],
          [
           null
          ],
          [
           null
          ],
          [
           null
          ],
          [
           null
          ],
          [
           null
          ],
          [
           null
          ],
          [
           null
          ],
          [
           null
          ],
          [
           null
          ],
          [
           null
          ],
          [
           null
          ],
          [
           null
          ],
          [
           null
          ],
          [
           null
          ],
          [
           null
          ],
          [
           null
          ],
          [
           null
          ],
          [
           null
          ],
          [
           null
          ],
          [
           null
          ],
          [
           null
          ],
          [
           null
          ],
          [
           null
          ],
          [
           null
          ],
          [
           null
          ],
          [
           null
          ],
          [
           null
          ],
          [
           null
          ],
          [
           null
          ],
          [
           null
          ],
          [
           null
          ],
          [
           null
          ],
          [
           null
          ],
          [
           null
          ],
          [
           null
          ],
          [
           null
          ],
          [
           null
          ],
          [
           null
          ],
          [
           null
          ],
          [
           null
          ],
          [
           null
          ],
          [
           null
          ],
          [
           null
          ],
          [
           null
          ],
          [
           null
          ],
          [
           null
          ],
          [
           null
          ],
          [
           null
          ],
          [
           null
          ],
          [
           null
          ],
          [
           null
          ],
          [
           null
          ],
          [
           null
          ],
          [
           null
          ],
          [
           null
          ],
          [
           null
          ],
          [
           null
          ],
          [
           null
          ],
          [
           null
          ],
          [
           null
          ],
          [
           null
          ],
          [
           null
          ],
          [
           null
          ],
          [
           null
          ],
          [
           null
          ],
          [
           null
          ],
          [
           null
          ],
          [
           null
          ],
          [
           null
          ],
          [
           null
          ],
          [
           null
          ],
          [
           null
          ],
          [
           null
          ],
          [
           null
          ],
          [
           null
          ],
          [
           null
          ],
          [
           null
          ],
          [
           null
          ],
          [
           null
          ],
          [
           null
          ],
          [
           null
          ],
          [
           null
          ],
          [
           null
          ],
          [
           null
          ],
          [
           null
          ],
          [
           null
          ],
          [
           null
          ],
          [
           null
          ],
          [
           null
          ],
          [
           null
          ],
          [
           null
          ],
          [
           null
          ],
          [
           null
          ],
          [
           null
          ],
          [
           null
          ],
          [
           null
          ],
          [
           null
          ],
          [
           null
          ],
          [
           null
          ],
          [
           null
          ],
          [
           null
          ],
          [
           null
          ],
          [
           null
          ],
          [
           null
          ],
          [
           null
          ],
          [
           null
          ],
          [
           null
          ],
          [
           null
          ],
          [
           null
          ]
         ],
         "hovertemplate": "<b>%{hovertext}</b><br><br>Class=%{marker.color}<br>PC1=%{x}<br>PC2=%{y}<br>PC3=%{z}<br>Algorithm=%{customdata[0]}<extra></extra>",
         "hovertext": [
          null,
          null,
          null,
          null,
          null,
          null,
          null,
          null,
          null,
          null,
          null,
          null,
          null,
          null,
          null,
          null,
          null,
          null,
          null,
          null,
          null,
          null,
          null,
          null,
          null,
          null,
          null,
          null,
          null,
          null,
          null,
          null,
          null,
          null,
          null,
          null,
          null,
          null,
          null,
          null,
          null,
          null,
          null,
          null,
          null,
          null,
          null,
          null,
          null,
          null,
          null,
          null,
          null,
          null,
          null,
          null,
          null,
          null,
          null,
          null,
          null,
          null,
          null,
          null,
          null,
          null,
          null,
          null,
          null,
          null,
          null,
          null,
          null,
          null,
          null,
          null,
          null,
          null,
          null,
          null,
          null,
          null,
          null,
          null,
          null,
          null,
          null,
          null,
          null,
          null,
          null,
          null,
          null,
          null,
          null,
          null,
          null,
          null,
          null,
          null,
          null,
          null,
          null,
          null,
          null,
          null,
          null,
          null,
          null,
          null,
          null,
          null,
          null,
          null,
          null,
          null,
          null,
          null,
          null,
          null,
          null,
          null,
          null,
          null,
          null,
          null,
          null,
          null,
          null,
          null,
          null,
          null,
          null,
          null,
          null,
          null,
          null,
          null,
          null,
          null,
          null,
          null,
          null,
          null,
          null,
          null,
          null,
          null,
          null,
          null,
          null,
          null,
          null,
          null,
          null,
          null,
          null,
          null,
          null,
          null,
          null,
          null,
          null,
          null,
          null,
          null,
          null,
          null,
          null,
          null,
          null,
          null,
          null,
          null,
          null,
          null,
          null,
          null,
          null,
          null,
          null,
          null,
          null,
          null,
          null,
          null,
          null,
          null,
          null,
          null,
          null,
          null,
          null,
          null,
          null,
          null,
          null,
          null,
          null,
          null,
          null,
          null,
          null,
          null,
          null,
          null,
          null,
          null,
          null,
          null,
          null,
          null,
          null,
          null,
          null,
          null,
          null,
          null,
          null,
          null,
          null,
          null,
          null,
          null,
          null,
          null,
          null,
          null,
          null,
          null,
          null,
          null,
          null,
          null,
          null,
          null,
          null,
          null,
          null
         ],
         "legendgroup": "3.0",
         "marker": {
          "color": [
           3,
           3,
           3,
           3,
           3,
           3,
           3,
           3,
           3,
           3,
           3,
           3,
           3,
           3,
           3,
           3,
           3,
           3,
           3,
           3,
           3,
           3,
           3,
           3,
           3,
           3,
           3,
           3,
           3,
           3,
           3,
           3,
           3,
           3,
           3,
           3,
           3,
           3,
           3,
           3,
           3,
           3,
           3,
           3,
           3,
           3,
           3,
           3,
           3,
           3,
           3,
           3,
           3,
           3,
           3,
           3,
           3,
           3,
           3,
           3,
           3,
           3,
           3,
           3,
           3,
           3,
           3,
           3,
           3,
           3,
           3,
           3,
           3,
           3,
           3,
           3,
           3,
           3,
           3,
           3,
           3,
           3,
           3,
           3,
           3,
           3,
           3,
           3,
           3,
           3,
           3,
           3,
           3,
           3,
           3,
           3,
           3,
           3,
           3,
           3,
           3,
           3,
           3,
           3,
           3,
           3,
           3,
           3,
           3,
           3,
           3,
           3,
           3,
           3,
           3,
           3,
           3,
           3,
           3,
           3,
           3,
           3,
           3,
           3,
           3,
           3,
           3,
           3,
           3,
           3,
           3,
           3,
           3,
           3,
           3,
           3,
           3,
           3,
           3,
           3,
           3,
           3,
           3,
           3,
           3,
           3,
           3,
           3,
           3,
           3,
           3,
           3,
           3,
           3,
           3,
           3,
           3,
           3,
           3,
           3,
           3,
           3,
           3,
           3,
           3,
           3,
           3,
           3,
           3,
           3,
           3,
           3,
           3,
           3,
           3,
           3,
           3,
           3,
           3,
           3,
           3,
           3,
           3,
           3,
           3,
           3,
           3,
           3,
           3,
           3,
           3,
           3,
           3,
           3,
           3,
           3,
           3,
           3,
           3,
           3,
           3,
           3,
           3,
           3,
           3,
           3,
           3,
           3,
           3,
           3,
           3,
           3,
           3,
           3,
           3,
           3,
           3,
           3,
           3,
           3,
           3,
           3,
           3,
           3,
           3,
           3,
           3,
           3,
           3,
           3,
           3,
           3,
           3,
           3,
           3,
           3,
           3,
           3,
           3
          ],
          "coloraxis": "coloraxis",
          "symbol": "square"
         },
         "mode": "markers",
         "name": "3.0",
         "scene": "scene",
         "showlegend": true,
         "type": "scatter3d",
         "x": [
          -0.14444154170041473,
          -0.1556379299640661,
          -0.16201364560520318,
          -0.16111162394297962,
          -0.15407856943684273,
          -0.15167979469746784,
          0.16198327893771122,
          -0.16316046199002698,
          -0.22832372477482007,
          -0.1627767028619857,
          -0.09157432555166295,
          2.5612095153287893,
          -0.1415250664093915,
          -0.16003055242681555,
          -0.1625805120036882,
          -0.23237682336384718,
          -0.2008549948198699,
          -0.16262954496913087,
          -0.16314272381545228,
          -0.16322923757635513,
          -0.22841309790729383,
          0.18571665151960987,
          0.23359567075618176,
          0.08562498212724663,
          -0.16297543456993588,
          -0.1585783632868093,
          -0.16291466083398162,
          -0.1632862632225355,
          -0.18183287875592197,
          -0.14249687753014356,
          -0.16208080022377466,
          -0.16235830263455364,
          1.5864738514759744,
          -0.14440290199797598,
          -0.1596461202874429,
          -0.1630018872522351,
          -0.16335687495912712,
          -0.16261575344784268,
          -0.14897245020650118,
          -0.16323807151355935,
          -0.02803888608184139,
          -0.14448053088840712,
          -0.1568989086370724,
          -0.1632174548904,
          -0.16131023297887115,
          -0.16270393060099608,
          -0.13162538306880212,
          -0.143944046469551,
          -0.14423134352227196,
          -0.14421414075392758,
          -0.14480537223245757,
          -0.22858712040818263,
          -0.16293386761080075,
          -0.21000281957495048,
          -0.16003519296765562,
          -0.14401136688379967,
          3.8597943221368447,
          0.461248805377406,
          -0.16180079717576706,
          -0.14638844376731122,
          -0.16051901587625436,
          -0.16335907861611004,
          -0.16038405420710064,
          -0.1466003749683216,
          -0.13467126259395315,
          -0.12559861868426578,
          -0.18464314860337863,
          -0.163232122637623,
          -0.036091743757187135,
          -0.10776787783894115,
          -0.16336798296982122,
          -0.1445083149959899,
          0.48938735526752125,
          -0.22797400192710535,
          -0.14605856127154182,
          -0.14424795738096083,
          -0.2282590262217237,
          -0.16149030851734367,
          -0.16068216685615938,
          -0.15670555973044017,
          0.36258330978885794,
          -0.22829445551088057,
          -0.14440402461544274,
          -0.1593238751572156,
          -0.1478950464000698,
          -0.1619305924524012,
          0.2742832883248514,
          -0.22745465028621387,
          -0.16058360208042985,
          -0.16217767033922365,
          -0.16448511825453416,
          -0.16315775127747864,
          -0.228257646845362,
          -0.16336804149315737,
          -0.22840765357554568,
          -0.26410487984338393,
          0.30606849976732525,
          -0.14466422571970008,
          -0.10566057133332604,
          -0.16053311852275398,
          -0.1446228412064012,
          -0.16303122004104628,
          -0.14757939958390712,
          -0.15644761053127793,
          -0.15170141690894778,
          -0.09002846429243824,
          -0.21498548821563462,
          -0.22623430999104377,
          0.3060629151740028,
          -0.16334976491254768,
          0.3061936815290495,
          -0.14659940285016054,
          0.4874882033110165,
          -0.15987514503683975,
          -0.1633180413823326,
          -0.22113529642335183,
          -0.15171381387327515,
          -0.16145039816853185,
          -0.14631766293999995,
          -0.1623336170247647,
          -0.13421559580610362,
          -0.192461218810816,
          -0.16288015989818952,
          -0.11096937401803655,
          -0.1627020073330838,
          -0.159733230686234,
          -0.12991005264468106,
          -0.03781366408378318,
          -0.1561151728037404,
          0.34220303952116427,
          -0.22746296910211572,
          -0.16302159776066916,
          -0.16278465474265502,
          -0.22785793514928665,
          -0.22843572210576651,
          0.30645815527715664,
          -0.15174723033651913,
          3.2474306791781444,
          -0.11323635180172921,
          -0.2193004870191238,
          -0.14444070571804385,
          -0.08887352585387799,
          1.5839867209132747,
          -0.16311946519876044,
          -0.16257067058859465,
          -0.16227149770771468,
          -0.16225842551176586,
          0.30664197615361494,
          0.060763753815572856,
          -0.18280322762901022,
          -0.1865242165594119,
          -0.15155980920104184,
          -0.1593417963987496,
          -0.16144860689567075,
          -0.22397749973848474,
          -0.18636950532859622,
          -0.15481120658841338,
          -0.18646979761245003,
          -0.11582493948427536,
          1.1446124649038283,
          0.3060456400205189,
          -0.07963595272159629,
          -0.2237180545366528,
          -0.14883841455602884,
          -0.07946357071104494,
          1.088872521006757,
          -0.2284097101894568,
          -0.18652180335645832,
          -0.1795557168138728,
          -0.16237007653823407,
          -0.22833508449041195,
          -0.14442010218785645,
          -0.20629160175803096,
          8.050521123533658,
          -0.1435288672166964,
          0.30992254501717764,
          0.02976637596655918,
          -0.15884516272836105,
          -0.19555255360662147,
          -0.16294405333848927,
          0.14429355950261608,
          -0.22247231118364047,
          -0.10780874544008662,
          0.31397539450004364,
          -0.1631812116374769,
          -0.1604362276952911,
          -0.15055042450064265,
          -0.1453610495381437,
          -0.2275037513425948,
          0.3062282307637835,
          -0.19252082475620647,
          -0.14644452644619002,
          -0.1650433604622229,
          -0.14766384840375604,
          0.3101601666953353,
          0.5818039630048839,
          2.1160264956486663,
          -0.14604820997092255,
          0.3198411317418405,
          -0.20730521836378776,
          -0.15692636085750755,
          -0.2283918603858587,
          -0.16320579411934297,
          -0.14871468196741733,
          -0.15041220407138173,
          -0.12474203065643949,
          3.102512111819058,
          -0.10424887304017856,
          -0.22836320002528046,
          -0.20673243150620216,
          -0.04624454690387757,
          -0.14706110522859936,
          -0.14444074329253684,
          0.38604605714796364,
          -0.1488378008521913,
          -0.14923030067622262,
          -0.274721798252977,
          -0.13479354699569362,
          -0.1620973575380153,
          -0.14961829269679486,
          -0.15139254062989138,
          -0.18385345500317546,
          -0.14371650626773383,
          -0.10932873277132782,
          -0.14258367631699564,
          0.5333464851831926,
          -0.11165039982163172,
          -0.0996505426585656,
          -0.14675099736421107,
          -0.14423071382154595,
          0.5528813460187075,
          -0.2004157889930805,
          -0.16328273259866238,
          -0.16123710751428236,
          -0.12633366780168873,
          -0.14140829011345676,
          -0.1564807852460803,
          0.3278146208103819,
          -0.15168085190012517
         ],
         "y": [
          -1.3436813293918701,
          -2.043498455295219,
          -1.1380347885001514,
          -2.1823664408470824,
          -2.0435741476178917,
          -2.119845452394594,
          -1.835229827122948,
          -1.1380382559833035,
          -0.9018335221037309,
          -1.1380512699525307,
          -1.8327171957568056,
          -1.2813304728803943,
          -1.3436651260010992,
          -1.1380656920565457,
          -1.1380669877056035,
          -0.4253859821188558,
          -1.18373399233651,
          -1.138035357497103,
          -1.1380375721920128,
          -1.138035824260896,
          -0.9018356739862006,
          -1.8314404013076129,
          -1.3426751735849765,
          -1.1371644896977318,
          -1.138031123336265,
          -1.138041911568744,
          -1.138035894121049,
          -1.1380367911367877,
          -1.6430247453838847,
          -1.1381468023639902,
          -1.1380283236311244,
          -1.1380404733746412,
          -1.1291676506497001,
          -1.3436798398647547,
          -1.1380608449647638,
          -1.1380314963770422,
          -1.1380331201289475,
          -1.1380308383723003,
          -2.2027158345085844,
          -1.1380341342035711,
          -1.1425161643989679,
          -1.3436828323913501,
          -1.1380012316873556,
          -1.1380404530103267,
          -1.138115022635197,
          -1.1380401870480013,
          -1.3437479554054108,
          -1.343678972988992,
          -1.3436868068661254,
          -1.3437107178297818,
          -1.3436819359838121,
          -0.9018307420326201,
          -1.138030814340436,
          -1.2460129513685434,
          -1.1380758433801268,
          -1.3436802670186916,
          -2.239549583143502,
          -2.2580369923514607,
          -1.138040241411982,
          -1.1384645633325172,
          -1.1380304497923912,
          -1.138034031544324,
          -1.1380211173919776,
          -1.1380329857670464,
          -2.207264607195771,
          -1.8327354283338515,
          -1.5363008888587544,
          -1.1380296182077017,
          -1.1395931588484909,
          -2.163117873784084,
          -1.1380330759138908,
          -1.3436839034446704,
          -1.1723647484999231,
          -0.9018284475246319,
          -2.2398763575640017,
          -1.3436950523580709,
          -0.9018316747177085,
          -1.1380962521064206,
          -1.1380908112292991,
          -2.0435505446508437,
          -2.204715278797266,
          -0.9018298070499173,
          -1.3436798831406878,
          -1.138012582768917,
          -2.2790463039669366,
          -1.1380315868729332,
          -1.341511708404105,
          -0.9018414080177455,
          -2.140796434240491,
          -1.1380956604220351,
          -2.236236636648608,
          -1.1380375048004288,
          -0.9018342082929427,
          -1.1380330762104522,
          -0.9018399909226698,
          -1.7667550462149366,
          -2.2575586533098293,
          -1.3436826293830586,
          -1.8327428585503143,
          -1.13805273118244,
          -1.3436816175504713,
          -1.138039094003185,
          -2.1249367981162783,
          -2.0435466145688506,
          -2.1198462859121476,
          -1.1416723727822118,
          -0.9016297544988932,
          -0.9018874879186812,
          -2.257565982150822,
          -1.138033728309162,
          -2.257563527969918,
          -2.2398611284388483,
          -0.9388953825441144,
          -2.182438412795773,
          -1.1380329229695165,
          -0.9021901679121233,
          -2.119844177055402,
          -1.1380234227945483,
          -2.2398573811693487,
          -2.1732359180265153,
          -1.1394956249903314,
          -0.6142761755445146,
          -1.1380368407376051,
          -1.3439941439662169,
          -1.1380535640024865,
          -2.1823812071402813,
          -2.197434637070443,
          -2.2203702921564945,
          -2.1238883318962642,
          -2.257452605677915,
          -0.9018520756969044,
          -1.1380317885158782,
          -1.138058690050404,
          -0.9018414338064679,
          -0.9018371281480119,
          -2.2575720866658884,
          -2.1593950677055997,
          -1.1358867864387632,
          -1.2586760091803029,
          -0.9021841063212797,
          -1.3436812971654724,
          -1.141951194529161,
          -1.0706736625323825,
          -1.1380360289052025,
          -1.1380562613315626,
          -1.1380550754717205,
          -1.138054571549871,
          -2.2575875627290998,
          -2.125222789132123,
          -0.901229849608561,
          -1.6430057660390276,
          -2.1198408270574665,
          -2.140830244658966,
          -1.1380233537425282,
          -0.9018793856795686,
          -1.6430114424253686,
          -2.043647658254016,
          -1.643006772334482,
          -1.8327854750376849,
          -2.2801954579795662,
          -2.257561151251426,
          -2.0470355172968002,
          -0.901998721741398,
          -2.1825396711917375,
          -1.138031669020232,
          -1.315540699339028,
          -0.9018367074296576,
          -1.6430017928886396,
          -1.6430430194692418,
          -1.138035594859389,
          -0.9018359000726933,
          -1.343679963580034,
          -1.1314856196143208,
          -2.6056974849661474,
          -2.0754263829473127,
          -2.257620903241813,
          -1.1370543852853334,
          -2.1407746870143214,
          -1.2461129403576325,
          -1.1380422006746802,
          -1.1380761480733161,
          -0.9019183650499224,
          -2.0458581487180947,
          -2.257894069733034,
          -1.1380390558642686,
          -2.1009264829428003,
          -2.119833603825402,
          -2.1250314497082274,
          -0.9018536478170077,
          -2.2575579279909466,
          -0.6142608497812271,
          -2.239865686156485,
          -2.244563989399006,
          -2.124933004654229,
          -2.257782468900592,
          -2.2461208992186283,
          -2.3067703248947398,
          -2.2741139262002728,
          -2.257667950634882,
          -1.260410552873364,
          -2.16352380618012,
          -0.9018367953598646,
          -1.1380407182571763,
          -2.1830202521419375,
          -2.246552549232819,
          -0.31365287981138124,
          -2.2678432308291128,
          -1.3434763995652161,
          -0.9018382772767491,
          -1.2604388650866085,
          -2.120682257437223,
          -2.124957300938936,
          -1.3436812986139364,
          -2.259694353742554,
          -2.0930014942275807,
          -2.092964960135043,
          -0.1707448830030531,
          -2.0948931943370876,
          -1.1380612962637697,
          -2.1199223522522437,
          -2.1198407721488506,
          -1.5363351155783704,
          -1.3436811874546795,
          -0.33526827745745585,
          -1.3437047733137164,
          -1.1746149542812367,
          -1.6426887335967295,
          -2.095564198945285,
          -1.1380387921301545,
          -1.3436867825917067,
          -1.142756245564362,
          -1.1837306417639502,
          -1.13803262241353,
          -1.138068228978774,
          -1.8327655745659788,
          -2.254818833709879,
          -2.04354678267863,
          -2.2576193983855797,
          -2.119845493148842
         ],
         "z": [
          0.15094969603645758,
          0.3041373619852341,
          -0.016486105970657593,
          0.44215599200578787,
          0.30412829878505765,
          0.4300204756896075,
          0.29020180161034637,
          -0.016469928413580606,
          0.05268374848041284,
          -0.01647306190065386,
          0.29325112078123644,
          -0.030526922645170266,
          0.1509073668488067,
          -0.016508144971537415,
          -0.016473205764879855,
          0.07186978844779932,
          0.16301237780336383,
          -0.016477625811802902,
          -0.01647028000128478,
          -0.01646938283590013,
          0.052685311896001695,
          0.2892690011290229,
          0.14563893263774244,
          -0.0199989696824986,
          -0.016473595835251764,
          -0.016531749198710213,
          -0.01647365617637126,
          -0.016468450611889854,
          0.2763833657047686,
          -0.016733908986162904,
          -0.0164862312232628,
          -0.016480497253788234,
          -0.041727067462290275,
          0.15094893016033661,
          -0.01651416066911453,
          -0.016473175540598774,
          -0.016468079371062518,
          -0.016478540578777536,
          0.4047480061464327,
          -0.01646953437093646,
          -0.017590007860855388,
          0.15095046883971153,
          -0.016561167167729113,
          -0.01646879875940378,
          -0.016482780470499923,
          -0.016475835811193152,
          0.15078585535875536,
          0.15094254104444338,
          0.15094771418884864,
          0.1509513260869282,
          0.1509547490310281,
          0.052686888775804123,
          -0.016474211686441493,
          0.2607167714266086,
          -0.016506448873866413,
          0.1509436661089701,
          0.3387640205883763,
          0.38802646617595493,
          -0.016488127866039485,
          -0.016629791832442575,
          -0.016507160933575918,
          -0.016467902751080944,
          -0.01651050029464054,
          -0.016696326783276032,
          0.4714436152029582,
          0.2937174690662903,
          0.2315941697611441,
          -0.016470341816713835,
          -0.01795050740222709,
          0.2912968815106047,
          -0.016467935190672526,
          0.15095101954748358,
          -0.019836124290932216,
          0.0526781689355784,
          0.4195099825176174,
          0.15094926680185963,
          0.05268257011576486,
          -0.016483347153866387,
          -0.016495229345959952,
          0.30416028208938434,
          0.3749292753850065,
          0.052682752243462375,
          0.1509489524116961,
          -0.016526312915132915,
          0.29622793655915286,
          -0.01648775216413864,
          0.14489761238664023,
          0.05267318005820528,
          0.4551580118134182,
          -0.01647408036824684,
          0.3790737007622607,
          -0.016470086165501385,
          0.05268295886714617,
          -0.01646793434587342,
          0.052685932145013936,
          0.7221177783724375,
          0.39006309964860447,
          0.15095293813326044,
          0.2934471053496532,
          -0.01650338477684509,
          0.1509522117120816,
          -0.01647155390660023,
          0.4109814064278297,
          0.3041561366123495,
          0.43002090426266454,
          -0.0168814296532732,
          0.052469302819282845,
          0.052663971048380706,
          0.39006435459348326,
          -0.016468078381928285,
          0.39006217877033006,
          0.41951489916966156,
          0.04889588491630203,
          0.4421507280556343,
          -0.016468640003752026,
          0.0526432094346526,
          0.4300207338904884,
          -0.01649560570953663,
          0.4195104590662544,
          0.438735600722521,
          -0.016629736072537586,
          0.0019323659019397591,
          -0.016473973815622756,
          0.1505441184205004,
          -0.016473710254079985,
          0.442139593337541,
          0.1911497611885335,
          0.38290092622888305,
          0.3351431190104027,
          0.3895538840132078,
          0.05267500931294524,
          -0.01647286008876207,
          -0.016471760033860618,
          0.052678677000911424,
          0.05268585395009381,
          0.39005995331255217,
          0.5115742493090091,
          -0.06326871669172704,
          0.08778038263568243,
          0.05261724404383333,
          0.15094967946647808,
          -0.016852310151835845,
          -0.051102252787166486,
          -0.016470845032456032,
          -0.01647506519900243,
          -0.016479330725846474,
          -0.016479589829360302,
          0.3900599390520909,
          0.4279919381980894,
          0.05196664930230258,
          0.2764442094353199,
          0.4300180974615077,
          0.45514653683244016,
          -0.01649564121428993,
          0.05263192970002761,
          0.2764430153234891,
          0.3041501019681258,
          0.27644363010971745,
          0.2935924005028549,
          0.3822832643241271,
          0.3900638128082715,
          0.30367115946953527,
          0.052647591843705294,
          0.4420166942281075,
          -0.017610950955928163,
          0.12517817530872638,
          0.05268543198954855,
          0.2764435374653891,
          0.2763552899317945,
          -0.016481121626023935,
          0.05268428570987856,
          0.1509491843294946,
          0.13593990689247584,
          0.34058253680480793,
          0.33742230287048447,
          0.3900206202536702,
          -0.019255878764926022,
          0.45513083588023134,
          0.2605360405927477,
          -0.016472241404724725,
          -0.020651398689899795,
          0.05261769886127454,
          0.30386549089971177,
          0.39000936013706633,
          -0.016469517135583478,
          0.444554962661639,
          0.4300031876109561,
          0.4109664173976258,
          0.052675817656229994,
          0.3900608074195063,
          0.0019307125147360255,
          0.41951352286450594,
          0.16030069061101812,
          0.4109819464342123,
          0.3900433724856764,
          0.37125808354598633,
          0.37332717838033036,
          0.1904817027697967,
          0.38989309557547963,
          0.19602585097095915,
          0.4620574075393254,
          0.052685203016834256,
          -0.01646891491435818,
          0.44209231290374956,
          0.42589206942618324,
          0.07110364542212663,
          0.34041984648525936,
          0.15036930242350505,
          0.05268505103283317,
          0.19602260370224345,
          0.4287190377513758,
          0.4109776451735278,
          0.15094968021124064,
          0.3893173329401185,
          0.3982325755092406,
          0.3982320447123532,
          0.15782907754516456,
          0.3539551330402514,
          -0.01648070189198372,
          0.4300047674927911,
          0.43001581040857867,
          0.2315889195721412,
          0.15093979812432995,
          -0.010209770237788756,
          0.15092816273432397,
          -0.020072896361672175,
          0.27537342160302014,
          0.39797486269266485,
          -0.01669334130232072,
          0.15094770170757377,
          -0.025463601806421855,
          0.163005856803599,
          -0.01646916926015173,
          -0.016491303450772703,
          0.29373232971210833,
          0.4050254126347135,
          0.30415661549778505,
          0.3897766856941252,
          0.430020496644383
         ]
        },
        {
         "customdata": [
          [
           null
          ],
          [
           null
          ],
          [
           null
          ],
          [
           null
          ]
         ],
         "hovertemplate": "<b>%{hovertext}</b><br><br>Class=%{marker.color}<br>PC1=%{x}<br>PC2=%{y}<br>PC3=%{z}<br>Algorithm=%{customdata[0]}<extra></extra>",
         "hovertext": [
          null,
          null,
          null,
          null
         ],
         "legendgroup": "1.0",
         "marker": {
          "color": [
           1,
           1,
           1,
           1
          ],
          "coloraxis": "coloraxis",
          "symbol": "x"
         },
         "mode": "markers",
         "name": "1.0",
         "scene": "scene",
         "showlegend": true,
         "type": "scatter3d",
         "x": [
          -0.20745428351196213,
          -0.36518458541454973,
          -0.39199702103049383,
          -0.3437078740139803
         ],
         "y": [
          1.6380153494668084,
          4.169249013651682,
          2.994352592872375,
          3.247074424904576
         ],
         "z": [
          14.897906737552297,
          11.894610914211713,
          17.41702195081553,
          17.137153310571144
         ]
        },
        {
         "customdata": [
          [
           null
          ]
         ],
         "hovertemplate": "<b>%{hovertext}</b><br><br>Class=%{marker.color}<br>PC1=%{x}<br>PC2=%{y}<br>PC3=%{z}<br>Algorithm=%{customdata[0]}<extra></extra>",
         "hovertext": [
          null
         ],
         "legendgroup": "2.0",
         "marker": {
          "color": [
           2
          ],
          "coloraxis": "coloraxis",
          "symbol": "cross"
         },
         "mode": "markers",
         "name": "2.0",
         "scene": "scene",
         "showlegend": true,
         "type": "scatter3d",
         "x": [
          34.06562471291434
         ],
         "y": [
          1.8112316843993812
         ],
         "z": [
          -0.6395651516525248
         ]
        }
       ],
       "layout": {
        "coloraxis": {
         "colorbar": {
          "title": {
           "text": "Class"
          }
         },
         "colorscale": [
          [
           0,
           "#0d0887"
          ],
          [
           0.1111111111111111,
           "#46039f"
          ],
          [
           0.2222222222222222,
           "#7201a8"
          ],
          [
           0.3333333333333333,
           "#9c179e"
          ],
          [
           0.4444444444444444,
           "#bd3786"
          ],
          [
           0.5555555555555556,
           "#d8576b"
          ],
          [
           0.6666666666666666,
           "#ed7953"
          ],
          [
           0.7777777777777778,
           "#fb9f3a"
          ],
          [
           0.8888888888888888,
           "#fdca26"
          ],
          [
           1,
           "#f0f921"
          ]
         ]
        },
        "legend": {
         "title": {
          "text": "Class"
         },
         "tracegroupgap": 0,
         "x": 0,
         "y": 1
        },
        "margin": {
         "t": 60
        },
        "scene": {
         "domain": {
          "x": [
           0,
           1
          ],
          "y": [
           0,
           1
          ]
         },
         "xaxis": {
          "title": {
           "text": "PC1"
          }
         },
         "yaxis": {
          "title": {
           "text": "PC2"
          }
         },
         "zaxis": {
          "title": {
           "text": "PC3"
          }
         }
        },
        "template": {
         "data": {
          "bar": [
           {
            "error_x": {
             "color": "#2a3f5f"
            },
            "error_y": {
             "color": "#2a3f5f"
            },
            "marker": {
             "line": {
              "color": "#E5ECF6",
              "width": 0.5
             },
             "pattern": {
              "fillmode": "overlay",
              "size": 10,
              "solidity": 0.2
             }
            },
            "type": "bar"
           }
          ],
          "barpolar": [
           {
            "marker": {
             "line": {
              "color": "#E5ECF6",
              "width": 0.5
             },
             "pattern": {
              "fillmode": "overlay",
              "size": 10,
              "solidity": 0.2
             }
            },
            "type": "barpolar"
           }
          ],
          "carpet": [
           {
            "aaxis": {
             "endlinecolor": "#2a3f5f",
             "gridcolor": "white",
             "linecolor": "white",
             "minorgridcolor": "white",
             "startlinecolor": "#2a3f5f"
            },
            "baxis": {
             "endlinecolor": "#2a3f5f",
             "gridcolor": "white",
             "linecolor": "white",
             "minorgridcolor": "white",
             "startlinecolor": "#2a3f5f"
            },
            "type": "carpet"
           }
          ],
          "choropleth": [
           {
            "colorbar": {
             "outlinewidth": 0,
             "ticks": ""
            },
            "type": "choropleth"
           }
          ],
          "contour": [
           {
            "colorbar": {
             "outlinewidth": 0,
             "ticks": ""
            },
            "colorscale": [
             [
              0,
              "#0d0887"
             ],
             [
              0.1111111111111111,
              "#46039f"
             ],
             [
              0.2222222222222222,
              "#7201a8"
             ],
             [
              0.3333333333333333,
              "#9c179e"
             ],
             [
              0.4444444444444444,
              "#bd3786"
             ],
             [
              0.5555555555555556,
              "#d8576b"
             ],
             [
              0.6666666666666666,
              "#ed7953"
             ],
             [
              0.7777777777777778,
              "#fb9f3a"
             ],
             [
              0.8888888888888888,
              "#fdca26"
             ],
             [
              1,
              "#f0f921"
             ]
            ],
            "type": "contour"
           }
          ],
          "contourcarpet": [
           {
            "colorbar": {
             "outlinewidth": 0,
             "ticks": ""
            },
            "type": "contourcarpet"
           }
          ],
          "heatmap": [
           {
            "colorbar": {
             "outlinewidth": 0,
             "ticks": ""
            },
            "colorscale": [
             [
              0,
              "#0d0887"
             ],
             [
              0.1111111111111111,
              "#46039f"
             ],
             [
              0.2222222222222222,
              "#7201a8"
             ],
             [
              0.3333333333333333,
              "#9c179e"
             ],
             [
              0.4444444444444444,
              "#bd3786"
             ],
             [
              0.5555555555555556,
              "#d8576b"
             ],
             [
              0.6666666666666666,
              "#ed7953"
             ],
             [
              0.7777777777777778,
              "#fb9f3a"
             ],
             [
              0.8888888888888888,
              "#fdca26"
             ],
             [
              1,
              "#f0f921"
             ]
            ],
            "type": "heatmap"
           }
          ],
          "heatmapgl": [
           {
            "colorbar": {
             "outlinewidth": 0,
             "ticks": ""
            },
            "colorscale": [
             [
              0,
              "#0d0887"
             ],
             [
              0.1111111111111111,
              "#46039f"
             ],
             [
              0.2222222222222222,
              "#7201a8"
             ],
             [
              0.3333333333333333,
              "#9c179e"
             ],
             [
              0.4444444444444444,
              "#bd3786"
             ],
             [
              0.5555555555555556,
              "#d8576b"
             ],
             [
              0.6666666666666666,
              "#ed7953"
             ],
             [
              0.7777777777777778,
              "#fb9f3a"
             ],
             [
              0.8888888888888888,
              "#fdca26"
             ],
             [
              1,
              "#f0f921"
             ]
            ],
            "type": "heatmapgl"
           }
          ],
          "histogram": [
           {
            "marker": {
             "pattern": {
              "fillmode": "overlay",
              "size": 10,
              "solidity": 0.2
             }
            },
            "type": "histogram"
           }
          ],
          "histogram2d": [
           {
            "colorbar": {
             "outlinewidth": 0,
             "ticks": ""
            },
            "colorscale": [
             [
              0,
              "#0d0887"
             ],
             [
              0.1111111111111111,
              "#46039f"
             ],
             [
              0.2222222222222222,
              "#7201a8"
             ],
             [
              0.3333333333333333,
              "#9c179e"
             ],
             [
              0.4444444444444444,
              "#bd3786"
             ],
             [
              0.5555555555555556,
              "#d8576b"
             ],
             [
              0.6666666666666666,
              "#ed7953"
             ],
             [
              0.7777777777777778,
              "#fb9f3a"
             ],
             [
              0.8888888888888888,
              "#fdca26"
             ],
             [
              1,
              "#f0f921"
             ]
            ],
            "type": "histogram2d"
           }
          ],
          "histogram2dcontour": [
           {
            "colorbar": {
             "outlinewidth": 0,
             "ticks": ""
            },
            "colorscale": [
             [
              0,
              "#0d0887"
             ],
             [
              0.1111111111111111,
              "#46039f"
             ],
             [
              0.2222222222222222,
              "#7201a8"
             ],
             [
              0.3333333333333333,
              "#9c179e"
             ],
             [
              0.4444444444444444,
              "#bd3786"
             ],
             [
              0.5555555555555556,
              "#d8576b"
             ],
             [
              0.6666666666666666,
              "#ed7953"
             ],
             [
              0.7777777777777778,
              "#fb9f3a"
             ],
             [
              0.8888888888888888,
              "#fdca26"
             ],
             [
              1,
              "#f0f921"
             ]
            ],
            "type": "histogram2dcontour"
           }
          ],
          "mesh3d": [
           {
            "colorbar": {
             "outlinewidth": 0,
             "ticks": ""
            },
            "type": "mesh3d"
           }
          ],
          "parcoords": [
           {
            "line": {
             "colorbar": {
              "outlinewidth": 0,
              "ticks": ""
             }
            },
            "type": "parcoords"
           }
          ],
          "pie": [
           {
            "automargin": true,
            "type": "pie"
           }
          ],
          "scatter": [
           {
            "fillpattern": {
             "fillmode": "overlay",
             "size": 10,
             "solidity": 0.2
            },
            "type": "scatter"
           }
          ],
          "scatter3d": [
           {
            "line": {
             "colorbar": {
              "outlinewidth": 0,
              "ticks": ""
             }
            },
            "marker": {
             "colorbar": {
              "outlinewidth": 0,
              "ticks": ""
             }
            },
            "type": "scatter3d"
           }
          ],
          "scattercarpet": [
           {
            "marker": {
             "colorbar": {
              "outlinewidth": 0,
              "ticks": ""
             }
            },
            "type": "scattercarpet"
           }
          ],
          "scattergeo": [
           {
            "marker": {
             "colorbar": {
              "outlinewidth": 0,
              "ticks": ""
             }
            },
            "type": "scattergeo"
           }
          ],
          "scattergl": [
           {
            "marker": {
             "colorbar": {
              "outlinewidth": 0,
              "ticks": ""
             }
            },
            "type": "scattergl"
           }
          ],
          "scattermapbox": [
           {
            "marker": {
             "colorbar": {
              "outlinewidth": 0,
              "ticks": ""
             }
            },
            "type": "scattermapbox"
           }
          ],
          "scatterpolar": [
           {
            "marker": {
             "colorbar": {
              "outlinewidth": 0,
              "ticks": ""
             }
            },
            "type": "scatterpolar"
           }
          ],
          "scatterpolargl": [
           {
            "marker": {
             "colorbar": {
              "outlinewidth": 0,
              "ticks": ""
             }
            },
            "type": "scatterpolargl"
           }
          ],
          "scatterternary": [
           {
            "marker": {
             "colorbar": {
              "outlinewidth": 0,
              "ticks": ""
             }
            },
            "type": "scatterternary"
           }
          ],
          "surface": [
           {
            "colorbar": {
             "outlinewidth": 0,
             "ticks": ""
            },
            "colorscale": [
             [
              0,
              "#0d0887"
             ],
             [
              0.1111111111111111,
              "#46039f"
             ],
             [
              0.2222222222222222,
              "#7201a8"
             ],
             [
              0.3333333333333333,
              "#9c179e"
             ],
             [
              0.4444444444444444,
              "#bd3786"
             ],
             [
              0.5555555555555556,
              "#d8576b"
             ],
             [
              0.6666666666666666,
              "#ed7953"
             ],
             [
              0.7777777777777778,
              "#fb9f3a"
             ],
             [
              0.8888888888888888,
              "#fdca26"
             ],
             [
              1,
              "#f0f921"
             ]
            ],
            "type": "surface"
           }
          ],
          "table": [
           {
            "cells": {
             "fill": {
              "color": "#EBF0F8"
             },
             "line": {
              "color": "white"
             }
            },
            "header": {
             "fill": {
              "color": "#C8D4E3"
             },
             "line": {
              "color": "white"
             }
            },
            "type": "table"
           }
          ]
         },
         "layout": {
          "annotationdefaults": {
           "arrowcolor": "#2a3f5f",
           "arrowhead": 0,
           "arrowwidth": 1
          },
          "autotypenumbers": "strict",
          "coloraxis": {
           "colorbar": {
            "outlinewidth": 0,
            "ticks": ""
           }
          },
          "colorscale": {
           "diverging": [
            [
             0,
             "#8e0152"
            ],
            [
             0.1,
             "#c51b7d"
            ],
            [
             0.2,
             "#de77ae"
            ],
            [
             0.3,
             "#f1b6da"
            ],
            [
             0.4,
             "#fde0ef"
            ],
            [
             0.5,
             "#f7f7f7"
            ],
            [
             0.6,
             "#e6f5d0"
            ],
            [
             0.7,
             "#b8e186"
            ],
            [
             0.8,
             "#7fbc41"
            ],
            [
             0.9,
             "#4d9221"
            ],
            [
             1,
             "#276419"
            ]
           ],
           "sequential": [
            [
             0,
             "#0d0887"
            ],
            [
             0.1111111111111111,
             "#46039f"
            ],
            [
             0.2222222222222222,
             "#7201a8"
            ],
            [
             0.3333333333333333,
             "#9c179e"
            ],
            [
             0.4444444444444444,
             "#bd3786"
            ],
            [
             0.5555555555555556,
             "#d8576b"
            ],
            [
             0.6666666666666666,
             "#ed7953"
            ],
            [
             0.7777777777777778,
             "#fb9f3a"
            ],
            [
             0.8888888888888888,
             "#fdca26"
            ],
            [
             1,
             "#f0f921"
            ]
           ],
           "sequentialminus": [
            [
             0,
             "#0d0887"
            ],
            [
             0.1111111111111111,
             "#46039f"
            ],
            [
             0.2222222222222222,
             "#7201a8"
            ],
            [
             0.3333333333333333,
             "#9c179e"
            ],
            [
             0.4444444444444444,
             "#bd3786"
            ],
            [
             0.5555555555555556,
             "#d8576b"
            ],
            [
             0.6666666666666666,
             "#ed7953"
            ],
            [
             0.7777777777777778,
             "#fb9f3a"
            ],
            [
             0.8888888888888888,
             "#fdca26"
            ],
            [
             1,
             "#f0f921"
            ]
           ]
          },
          "colorway": [
           "#636efa",
           "#EF553B",
           "#00cc96",
           "#ab63fa",
           "#FFA15A",
           "#19d3f3",
           "#FF6692",
           "#B6E880",
           "#FF97FF",
           "#FECB52"
          ],
          "font": {
           "color": "#2a3f5f"
          },
          "geo": {
           "bgcolor": "white",
           "lakecolor": "white",
           "landcolor": "#E5ECF6",
           "showlakes": true,
           "showland": true,
           "subunitcolor": "white"
          },
          "hoverlabel": {
           "align": "left"
          },
          "hovermode": "closest",
          "mapbox": {
           "style": "light"
          },
          "paper_bgcolor": "white",
          "plot_bgcolor": "#E5ECF6",
          "polar": {
           "angularaxis": {
            "gridcolor": "white",
            "linecolor": "white",
            "ticks": ""
           },
           "bgcolor": "#E5ECF6",
           "radialaxis": {
            "gridcolor": "white",
            "linecolor": "white",
            "ticks": ""
           }
          },
          "scene": {
           "xaxis": {
            "backgroundcolor": "#E5ECF6",
            "gridcolor": "white",
            "gridwidth": 2,
            "linecolor": "white",
            "showbackground": true,
            "ticks": "",
            "zerolinecolor": "white"
           },
           "yaxis": {
            "backgroundcolor": "#E5ECF6",
            "gridcolor": "white",
            "gridwidth": 2,
            "linecolor": "white",
            "showbackground": true,
            "ticks": "",
            "zerolinecolor": "white"
           },
           "zaxis": {
            "backgroundcolor": "#E5ECF6",
            "gridcolor": "white",
            "gridwidth": 2,
            "linecolor": "white",
            "showbackground": true,
            "ticks": "",
            "zerolinecolor": "white"
           }
          },
          "shapedefaults": {
           "line": {
            "color": "#2a3f5f"
           }
          },
          "ternary": {
           "aaxis": {
            "gridcolor": "white",
            "linecolor": "white",
            "ticks": ""
           },
           "baxis": {
            "gridcolor": "white",
            "linecolor": "white",
            "ticks": ""
           },
           "bgcolor": "#E5ECF6",
           "caxis": {
            "gridcolor": "white",
            "linecolor": "white",
            "ticks": ""
           }
          },
          "title": {
           "x": 0.05
          },
          "xaxis": {
           "automargin": true,
           "gridcolor": "white",
           "linecolor": "white",
           "ticks": "",
           "title": {
            "standoff": 15
           },
           "zerolinecolor": "white",
           "zerolinewidth": 2
          },
          "yaxis": {
           "automargin": true,
           "gridcolor": "white",
           "linecolor": "white",
           "ticks": "",
           "title": {
            "standoff": 15
           },
           "zerolinecolor": "white",
           "zerolinewidth": 2
          }
         }
        },
        "width": 800
       }
      },
      "text/html": [
       "<div>                            <div id=\"0ea0a2b5-f761-4f94-a64f-79bf5221e1ae\" class=\"plotly-graph-div\" style=\"height:525px; width:800px;\"></div>            <script type=\"text/javascript\">                require([\"plotly\"], function(Plotly) {                    window.PLOTLYENV=window.PLOTLYENV || {};                                    if (document.getElementById(\"0ea0a2b5-f761-4f94-a64f-79bf5221e1ae\")) {                    Plotly.newPlot(                        \"0ea0a2b5-f761-4f94-a64f-79bf5221e1ae\",                        [{\"customdata\":[[null],[null],[null],[null],[null],[null],[null],[null],[null],[null],[null],[null],[null],[null],[null],[null],[null],[null],[null],[null],[null],[null],[null],[null],[null],[null],[null],[null],[null],[null],[null],[null],[null],[null],[null],[null],[null],[null],[null],[null],[null],[null],[null],[null],[null],[null],[null],[null],[null],[null],[null],[null],[null],[null],[null],[null],[null],[null],[null],[null],[null],[null],[null],[null],[null],[null],[null],[null],[null],[null],[null],[null],[null],[null],[null],[null],[null],[null],[null],[null],[null],[null],[null],[null],[null],[null],[null],[null],[null],[null],[null],[null],[null],[null],[null],[null],[null],[null],[null],[null],[null],[null],[null],[null],[null],[null],[null],[null],[null],[null],[null],[null],[null],[null],[null],[null],[null],[null],[null],[null],[null],[null],[null],[null],[null],[null],[null],[null],[null],[null],[null],[null],[null],[null],[null],[null],[null],[null],[null],[null],[null],[null],[null],[null],[null],[null],[null],[null],[null],[null],[null],[null],[null],[null],[null],[null],[null],[null],[null],[null],[null],[null],[null],[null],[null],[null],[null],[null],[null],[null],[null],[null],[null],[null],[null],[null],[null],[null],[null],[null],[null],[null],[null],[null],[null],[null],[null],[null],[null],[null],[null],[null],[null],[null],[null],[null],[null],[null],[null],[null],[null],[null],[null],[null],[null],[null],[null],[null],[null],[null],[null],[null],[null],[null],[null],[null],[null],[null],[null],[null],[null],[null],[null],[null],[null],[null],[null],[null],[null],[null],[null],[null],[null],[null],[null],[null],[null],[null],[null],[null],[null],[null],[null],[null],[null],[null],[null],[null],[null],[null],[null],[null],[null],[null],[null],[null],[null],[null],[null],[null],[null],[null],[null],[null],[null],[null],[null],[null],[null],[null],[null],[null],[null],[null],[null],[null],[null],[null],[null],[null],[null],[null],[null],[null],[null],[null],[null],[null]],\"hovertemplate\":\"<b>%{hovertext}</b><br><br>Class=%{marker.color}<br>PC1=%{x}<br>PC2=%{y}<br>PC3=%{z}<br>Algorithm=%{customdata[0]}<extra></extra>\",\"hovertext\":[null,null,null,null,null,null,null,null,null,null,null,null,null,null,null,null,null,null,null,null,null,null,null,null,null,null,null,null,null,null,null,null,null,null,null,null,null,null,null,null,null,null,null,null,null,null,null,null,null,null,null,null,null,null,null,null,null,null,null,null,null,null,null,null,null,null,null,null,null,null,null,null,null,null,null,null,null,null,null,null,null,null,null,null,null,null,null,null,null,null,null,null,null,null,null,null,null,null,null,null,null,null,null,null,null,null,null,null,null,null,null,null,null,null,null,null,null,null,null,null,null,null,null,null,null,null,null,null,null,null,null,null,null,null,null,null,null,null,null,null,null,null,null,null,null,null,null,null,null,null,null,null,null,null,null,null,null,null,null,null,null,null,null,null,null,null,null,null,null,null,null,null,null,null,null,null,null,null,null,null,null,null,null,null,null,null,null,null,null,null,null,null,null,null,null,null,null,null,null,null,null,null,null,null,null,null,null,null,null,null,null,null,null,null,null,null,null,null,null,null,null,null,null,null,null,null,null,null,null,null,null,null,null,null,null,null,null,null,null,null,null,null,null,null,null,null,null,null,null,null,null,null,null,null,null,null,null,null,null,null,null,null,null,null,null,null,null,null,null,null,null,null,null,null,null,null,null,null,null,null,null,null,null,null,null,null,null,null],\"legendgroup\":\"0.0\",\"marker\":{\"color\":[0.0,0.0,0.0,0.0,0.0,0.0,0.0,0.0,0.0,0.0,0.0,0.0,0.0,0.0,0.0,0.0,0.0,0.0,0.0,0.0,0.0,0.0,0.0,0.0,0.0,0.0,0.0,0.0,0.0,0.0,0.0,0.0,0.0,0.0,0.0,0.0,0.0,0.0,0.0,0.0,0.0,0.0,0.0,0.0,0.0,0.0,0.0,0.0,0.0,0.0,0.0,0.0,0.0,0.0,0.0,0.0,0.0,0.0,0.0,0.0,0.0,0.0,0.0,0.0,0.0,0.0,0.0,0.0,0.0,0.0,0.0,0.0,0.0,0.0,0.0,0.0,0.0,0.0,0.0,0.0,0.0,0.0,0.0,0.0,0.0,0.0,0.0,0.0,0.0,0.0,0.0,0.0,0.0,0.0,0.0,0.0,0.0,0.0,0.0,0.0,0.0,0.0,0.0,0.0,0.0,0.0,0.0,0.0,0.0,0.0,0.0,0.0,0.0,0.0,0.0,0.0,0.0,0.0,0.0,0.0,0.0,0.0,0.0,0.0,0.0,0.0,0.0,0.0,0.0,0.0,0.0,0.0,0.0,0.0,0.0,0.0,0.0,0.0,0.0,0.0,0.0,0.0,0.0,0.0,0.0,0.0,0.0,0.0,0.0,0.0,0.0,0.0,0.0,0.0,0.0,0.0,0.0,0.0,0.0,0.0,0.0,0.0,0.0,0.0,0.0,0.0,0.0,0.0,0.0,0.0,0.0,0.0,0.0,0.0,0.0,0.0,0.0,0.0,0.0,0.0,0.0,0.0,0.0,0.0,0.0,0.0,0.0,0.0,0.0,0.0,0.0,0.0,0.0,0.0,0.0,0.0,0.0,0.0,0.0,0.0,0.0,0.0,0.0,0.0,0.0,0.0,0.0,0.0,0.0,0.0,0.0,0.0,0.0,0.0,0.0,0.0,0.0,0.0,0.0,0.0,0.0,0.0,0.0,0.0,0.0,0.0,0.0,0.0,0.0,0.0,0.0,0.0,0.0,0.0,0.0,0.0,0.0,0.0,0.0,0.0,0.0,0.0,0.0,0.0,0.0,0.0,0.0,0.0,0.0,0.0,0.0,0.0,0.0,0.0,0.0,0.0,0.0,0.0,0.0,0.0,0.0,0.0,0.0,0.0,0.0,0.0,0.0,0.0,0.0,0.0,0.0,0.0,0.0,0.0,0.0,0.0,0.0,0.0,0.0,0.0,0.0,0.0,0.0,0.0,0.0,0.0,0.0,0.0],\"coloraxis\":\"coloraxis\",\"symbol\":\"diamond\"},\"mode\":\"markers\",\"name\":\"0.0\",\"scene\":\"scene\",\"showlegend\":true,\"x\":[-0.33099627309971347,-0.3143279114402013,2.308720708362958,-0.39595174610553585,-0.30900742310790974,-0.31225408169222735,-0.26828679315695997,-0.23665607913678122,-0.33065569694169994,-0.32323180857200723,-0.3294925268002937,-0.3309922059749786,-0.3309764812985873,0.6394684909633368,-0.3696013200556626,-0.3590670409281611,-0.2507147577617034,-0.32905405603583704,-0.3318039112668776,-0.39584641997982345,-0.43011942091490096,-0.026894535145183564,-0.27554098955670175,-0.2867798955263468,-0.2761667178488118,-0.276789058151668,-0.3543169175584035,-0.32529528381859085,-0.32939720190992394,0.027220823643036695,-0.35169471673574837,-0.39621817742221505,-0.2484164600669589,-0.3348318206805567,-0.3961297497643927,-0.3062153343800506,-0.3296729039117851,-0.27670614704550467,-0.396094240212414,-0.24888478432283326,-0.27656987530636223,-0.3220926447328,-0.07976802194743128,-0.3247013767682834,-0.31146540606470025,-0.3690227821907036,-0.28676022954826497,-0.2768644024101279,-0.2814107022231229,-0.33097833785191383,-0.27681658750154686,-0.3521395578189559,-0.33071256608092664,-0.39619970242473396,-0.45101479083416873,-0.4045833746272206,-0.33685316457171155,-0.2851609430391971,-0.2763379291970826,-0.3048044793692724,-0.23909961564623267,-0.08471995268252032,-0.3122249895054064,-0.07347055035847781,-0.31228875331928635,-0.237501510161795,-0.3305883131692573,-0.28502937180634963,-0.3933664393930879,0.8671051891026463,-0.31208863053312547,-0.09163891453835535,-0.3587501505684624,-0.3940418789582002,-0.31083102111621336,-0.30849729357541833,-0.358885320238935,-0.39493395220026073,-0.33789190602018604,-0.306870246094633,-0.33062640755061984,-0.3290648106716628,-0.2315902376510396,-0.339624617785253,-0.39567325427671823,-0.3298302440183396,-0.3122696502759657,-0.39618887715757256,-0.33081572293647227,-0.33097256973344313,-0.28502002188205805,-0.23137750314142772,0.028391093699195052,-0.3577067473223517,-0.33058664525565334,-0.3823410732989009,-0.3570354101084943,-0.23302210242328683,-0.41649753383845706,-0.35678302974741993,-0.2862618592556112,3.713931078649404,-0.39578120314479254,0.8555928558931712,-0.3961437733094642,-0.358170711596684,-0.3305139978665833,-0.3306683397012381,-0.3587501505684624,-0.3957183166865599,-0.3121322991287607,-0.3305147607477055,-0.39848657542433963,-0.3306622067338239,-0.3262462898556001,-0.39617276772647003,-0.32987218072248153,0.35678474658679643,-0.33086159761960826,-0.33093223066529853,-0.3607784866489054,-0.3514085325899459,-0.32715579017752655,-0.31224605899944896,-0.396082679131922,-0.33070991440923875,-0.3308368849147791,-0.28666645316512596,-0.2588347619130544,-0.23278984923238924,-0.31168164151830235,-0.28640762906227185,-0.39534783019087594,-0.4263469612859596,-0.39408588640777764,-0.35699589662200426,-0.39524569388514325,-0.35139322166674497,-0.39118388395900583,-0.33078016299638513,-0.3307793169884618,-0.32389487917941073,0.2648529233362165,-0.39572456441648174,-0.2692954733880132,-0.3587844035372307,-0.3299902788238937,0.8959508008565922,-0.2669760188586379,-0.33666967710608303,0.5754380301243518,-0.3604216809375227,-0.3589230600702869,-0.41803744297241946,-0.27650151827671715,0.1342911317929911,-0.2765723593474124,-0.3418295160265922,-0.41754222410060493,-0.3959971539170864,-0.2867408532059777,4.388445679420481,-0.35865049651574754,-0.3304151512037635,-0.3309151524548759,-0.36710077895670024,0.6495152454511058,-0.3959378843900618,-0.34931318454261023,-0.33087070239221217,-0.3344730401669499,0.438528978110671,-0.310591597812516,-0.34517954659592853,-0.41435140656082153,-0.33082100514037677,-0.40312297176085177,-0.3324691085398588,-0.330691407256748,-0.09469036797206937,-0.3947297159534137,3.7187899304075085,0.19933402678580087,-0.27324158317159813,-0.3281501978169848,-0.3162812120620261,-0.3606643421612746,0.08378330670316853,-0.32982910155093653,-0.39531143523399387,-0.3598284177640814,-0.3173886051182973,-0.33093728958357854,-0.35211147653801145,-0.3381739231353054,-0.280634967489912,-0.27598794630612283,-0.3264804996854193,-0.22458006079760484,-0.3739420211087171,-0.3960143273409292,-0.2935977144614586,-0.28590014205949604,-0.3115009277522204,-0.3600203625160074,-0.330964654913589,-0.3309463523414163,-0.28027856060104767,-0.3258014613471819,-0.3582447405180049,-0.3306626820688641,3.9036192492375887,-0.4017907201979124,-0.35843348803514063,-0.33090050344462313,-0.27749668139304745,-0.23438529059992524,-0.28643495691782045,-0.13398702350617478,-0.28668698011556637,-0.35162671260437334,-0.33013634013243637,-0.19453904561934124,2.247179361473078,-0.3563683099705567,-0.2671042577574856,1.013630559753262,-0.37414060262881965,-0.36077789304602914,-0.40480842376068393,-0.16731126178992808,-0.37830504062181103,-0.3594967724637167,-0.3238349579134511,-0.35168862975409676,-0.39548743157054767,-0.2839308280314101,-0.35753246189354626,-0.34105880281350476,-0.3515497590128628,-0.1903291958072509,-0.41744822152581784,-0.2496869852896723,0.581539272594965,-0.1420202956297742,-0.4041026666197058,-0.33066670091595707,-0.4045590515197336,-0.36089493149009166,0.5764011057470844,-0.3521658092602665,-0.33014920480134424,-0.2880500180229437,-0.30631301628337865,-0.3930497539735482,-0.3957148136305685,3.7310366415630543,0.10452550513866066,-0.39325410165381053,-0.32953399523493043,-0.3303598794890346,-0.26831938786817217,-0.33087858693295996,-0.38733859987219454,-0.24451186938917024,-0.09186609143972192,-0.3830836154770002,-0.3301566837949707,-0.3232176764404794,-0.39228183895030555,-0.3285948366049007,-0.3590258925218214,-0.3741927028345626,-0.31076842930965226,3.7143231458274752,-0.09388040119777431,-0.32578834487431496,-0.3539424200983151,-0.27697168738527594,3.7241923971675703,3.725436788128807,-0.24920742699085613,-0.4289897044752818,-0.35896174764963235,-0.38806639978607804,2.4685492805684843,-0.3290400050074849,-0.28708374292126143],\"y\":[1.0105051587504186,1.0108036720882432,1.7098867586907849,1.2467030289666938,1.2980522628091131,0.8048487553309847,0.6054480940583354,1.9793774895732477,1.0105074436644796,1.010804472170641,1.010563126897028,1.0105049922180982,1.01050527504715,0.44864376967652636,0.9648122316987945,1.484694651410401,0.30138998429117975,1.0105024270958216,1.0480883938931127,1.2467070891977565,1.8176118285292877,0.8211263120444368,0.8047137746086989,0.8110974927433664,1.8133013802450546,1.8132773895645613,0.5055407526919122,1.0104533183393207,1.010503426238618,1.024314118081251,1.0473216205432794,1.2467069847426497,0.1163634353196017,1.6112888279564062,1.246703927326576,1.0104257429353924,1.0104915047903655,0.2402161179908506,1.2467082062817225,0.11641005054953066,1.8132858388737048,1.0102016987015296,0.8731808696524989,1.7822278101994184,0.8048494104809023,0.9648373663233407,0.8111087142495198,1.8132667248615528,0.8109915902767896,1.010505850165875,1.8132698614594303,1.0472915385592079,1.0105031616928148,1.246707697584513,1.7477399520811665,1.908827573562972,1.227510706488808,0.8111056966364277,1.813262445833137,0.8045034709278378,1.9794926273101061,0.8524063574638422,0.8048498768096289,1.2419790808224338,0.80485485567312,1.539018523833999,1.0104937244156091,0.8110324853999823,1.2465685895202607,0.7915671905594527,0.8048434929595912,0.4449389511407144,1.4846939335147296,1.2467423782693752,0.8047738067873135,0.804668292577378,1.5342810810722267,1.246666601633333,1.624426856471046,1.010141821755145,1.0104907469734494,1.0105149462589107,1.613788721805308,1.0473620388967015,1.2466956573428623,1.0104919063378208,0.8048488018627951,1.2467061748274508,1.0104985383979905,1.010506072521854,0.8111757977501708,0.2554402496614069,1.9233980739027652,1.4846992346960628,1.0105209495767358,1.2462719048777782,1.4847471015975655,1.6138612453082586,1.9056244637606694,1.484588045204023,1.9193481851705727,1.578758549382966,1.246704429752349,1.8563800489374296,1.246707361706242,1.4846968697685106,1.0104988267441464,1.010490639462006,1.4846939335147296,1.2466874533534316,0.8048547433179929,1.010502379983104,0.8711164789728523,1.0104999295040962,1.0102674931059081,1.2467055024575888,1.0104553686026423,0.8148898343678382,1.0105019434666265,1.0105054832795763,1.523712330195989,0.6122192277911113,1.0103298624480952,0.8048497112861037,1.2467061596187161,1.0105032639124651,1.0104971190474759,0.8110767614492448,0.375832704333376,1.6138624222299762,1.0106030338723149,0.8111000435645188,1.2466758677974543,1.889997307694369,1.2467180477665007,1.4847031690761352,1.2466798050637162,1.4847317956068338,1.246577709423834,1.0104997720269833,1.010495026992703,1.0101322241221333,0.5775067089262351,1.2467001462538458,0.8104885909964886,1.484686146219905,1.0104760368257102,1.9650629933891703,0.6053773149635753,1.6244309676366115,1.7678947559836589,1.534273590675896,1.5342602256168643,1.9922769944793148,1.813269073360585,0.996107223369291,1.8132735218990885,1.641246318847098,1.9922960847385724,1.246709357423387,0.8110982050228452,3.0061117830582473,1.484670872925318,1.0104963565709464,1.0105055698218397,1.2980821571487828,1.5918303870205224,1.2467003298875872,0.5054774053835216,1.0104998248739148,0.7031256844553196,1.0240025104986852,0.8048624010413806,1.5340916039463122,1.81077370187987,1.0104983347735972,1.7230620555248788,1.767436995123834,1.0105073477026567,0.606327984468709,1.2466712413277814,1.578703346197698,1.5364575385207113,1.81327833733479,1.0104790681960285,1.3348620050371556,1.523713496931028,0.9941601903897819,1.0104531491439512,1.2467096051540685,1.523681052368657,1.0104477040857514,1.0105048457921215,1.0472919743810545,1.6244214817967635,-0.09441997540489333,0.3045781515423055,1.0105292064955935,1.6136709457108127,1.0170537278975051,1.246698676452437,1.834934642394305,0.8110616806594331,1.6622430700345399,1.534263193663997,1.0105044375695642,1.010503849743394,0.8110352333572768,1.723672868910809,1.4846694419021111,1.010498617805841,1.5226104286419366,1.7231134126705372,1.4846673393465484,0.688708184870311,1.0092552212238979,1.8157577021229536,0.811104439359637,1.0115034850315554,0.8110830837128062,1.9216177923730857,1.0104839867208255,1.7800674977258315,0.3059199481461438,1.5234716922893972,0.6054369250763582,1.536620827134893,0.8881187413082469,1.523708472955366,1.7231230891717895,0.8047972878806514,0.902519273908726,1.5237067707531886,1.0101345340351175,1.047286287392409,1.2467028206474913,0.8110496465462109,1.4846180037826262,0.8905381407712996,1.047262539813142,1.0042873824624516,0.9690095372054773,1.6355321241507288,2.2293232804926517,1.055404388156552,1.7231187054737809,1.010504283068011,1.723123723004209,1.5237088954482765,0.9971123367414074,1.0472907205950215,1.0104834907989642,1.834863958904524,1.920195828655304,1.2465575167283234,1.2467069890107103,1.578852102697146,1.0046600929521703,1.2468212479469616,1.0104321908747342,1.0104946044605474,0.6054413407187808,1.010509695477539,1.2467259418000909,1.007048841626451,0.8132358783120727,1.2465666241439401,1.0105278239104776,1.0105463420520917,1.2467242168853987,1.0104942621177648,1.4846904174606312,0.7080822830786683,0.8048523509038347,1.578751081949561,0.8120714784430767,1.0105119137320062,0.5055187172838489,1.8132702717630682,1.5792349502443994,1.579282920439842,0.6055449834653838,3.9923219582336857,1.4846931267869814,1.217488442815786,0.6477780820736712,1.010418899408314,0.8110955964015054],\"z\":[-0.5211852520055079,-0.5214602947624921,-0.5335146460290117,-0.4520333011807211,-0.32455283338941887,-0.3537638003100874,-0.12123540308728455,-0.5397502955819892,-0.5211902582391437,-0.5213391511749831,-0.5212150577098277,-0.5211852806127094,-0.5211855402794469,-0.5509811912019488,-0.34169099635352324,-0.19277913499785418,-0.28128103617343075,-0.5212112658642084,-0.21990620210943204,-0.45203538884597433,-0.6949385252811144,-0.29381198189885427,-0.3542421252504867,-0.28865912066139643,-0.5149429056726144,-0.5149305702884186,-0.22827220061614956,-0.5212545614535463,-0.521206752888211,-0.528285459876095,-0.21951194718765502,-0.45203030865711374,0.0215232921794814,-0.148330509229731,-0.4520310212526084,-0.5215099973028473,-0.5212010801630235,-0.3852435557126041,-0.45203219318957183,0.021522172518560524,-0.5149349147035135,-0.5212577075121513,-0.8395771634596041,-0.29722575778538823,-0.3537746475632058,-0.3417029191518966,-0.2886611935519574,-0.5149278286168023,-0.2887152148421762,-0.521185607503759,-0.514928984400317,-0.21950104954920133,-0.5211887948964866,-0.45203067495337984,-0.741266529272684,-0.7622681821142124,-0.16215177786018453,-0.2886824906521551,-0.5149343109494289,-0.35380972412148176,-0.5397355347839642,-0.3689597824534335,-0.3537643769452503,-0.4556656672642675,-0.3537643093494003,-0.5052197179981773,-0.5211889692031467,-0.2886725062643108,-0.4520468881283439,-0.3012336417280235,-0.3537652072976411,-0.5404274701024763,-0.19278333561024297,-0.45206564336869987,-0.3537711267271711,-0.35378593990622514,-0.5028044119054924,-0.4520413041466754,-0.2104059116754622,-0.5214554071269865,-0.5211879714155495,-0.5212131331567139,-0.2824047903994541,-0.2196828450712529,-0.4520359085133467,-0.5211990017604458,-0.353763595748751,-0.45203057745163994,-0.521186646205269,-0.5211857218334226,-0.2886956861439435,-0.3916282155814284,-0.6903930040062499,-0.19279839962619846,-0.5211933712282666,-0.45214933184935485,-0.19281524296853825,-0.28239695398768994,-0.6413365541501449,-0.1927930953800778,-0.6854559426308795,-0.12159714100645783,-0.45203584932255814,-0.5372870509138935,-0.4520313826877493,-0.19279169995911874,-0.5211908021235568,-0.521187383000207,-0.19278333561024297,-0.45203397510310933,-0.3537664222037628,-0.5211913632898676,-0.15137824051651005,-0.5211889608833504,-0.521211717673077,-0.45203068871010516,-0.5211925532932659,-0.29803457600783084,-0.5211865691087645,-0.5211861764743274,-0.20024824734275024,-0.2731319855759467,-0.5212093625866236,-0.35376406335057303,-0.45203202143672905,-0.5211888474551734,-0.5211861296663904,-0.28865733102588903,-0.2791285725336819,-0.2824003066215495,-0.5214640636229876,-0.28866460129382665,-0.45203715758278845,-0.5662239316182897,-0.4520611302941098,-0.19280871437438996,-0.45203918202273863,-0.1928896282915684,-0.45207808181260123,-0.52118732897207,-0.5211865772315185,-0.5212219854896377,-0.12400232199070547,-0.4520359317268311,-0.2887993158652715,-0.192781616453539,-0.521194269371656,-0.552873993978295,-0.12124187082746854,-0.2104232199010473,-0.635548470766134,-0.5027822815957177,-0.5028005431760685,-0.5881777066864277,-0.5149331489160598,-0.5252065471417304,-0.5149328996214968,-0.0956543420106607,-0.5881875224014261,-0.45203370068515175,-0.28865976699692425,3.6464584869397245,-0.1927809834969172,-0.5211917510883635,-0.5211864230026372,-0.3237664026735616,-0.08536039006187242,-0.45203305581833475,-0.22833016239550402,-0.5211861043139383,-0.011461297390785165,-0.5338374089577539,-0.35378863854875986,-0.5029606080236196,-0.3803882253876561,-0.5211865415068999,-0.43279055405810263,-0.12954554156377826,-0.5211897564238606,-0.12374134483173371,-0.4520448321908574,-0.12165443950776651,-0.51075752945029,-0.5149790398318648,-0.5212198191357816,-0.27025448587184364,-0.2002499896814946,-0.5242054334029684,-0.5211927830260128,-0.45204308011525096,-0.20025615620942017,-0.5213613484066294,-0.521186005028023,-0.2195015021242482,-0.2104012060200136,0.031976144878721906,-0.29753274262961454,-0.5212506256551607,-0.2824813250640131,-0.3687772875266474,-0.4520317486913992,-0.43360488228043736,-0.28866534246393516,-0.06595127859283989,-0.5027860751938621,-0.5211855666438131,-0.5211857213724467,-0.2887376549795226,-0.257149563017269,-0.19278627976108192,-0.5211887434157769,-0.022124693557940237,-0.4328169605672083,-0.1927833707874026,-0.07616093387753575,-0.5217128647778001,-0.1437273838152633,-0.2886649361711021,-0.524029130611557,-0.28865806841482117,-0.6849307425266467,-0.5211935587785782,-0.307211282281015,-0.3605497268932854,-0.20026960669515195,-0.12124971279109945,-0.15683528793385565,-0.3087008272062833,-0.20024763497060705,-0.4327774155512101,-0.2892728791121505,-0.2439903997168842,-0.2002648101984358,-0.5212231731868406,-0.21950634657319315,-0.4520395916983535,-0.28869022903840164,-0.19278770700498468,-0.4162258060233092,-0.21950441809060672,-0.522100995191021,-0.5463556833901059,-0.20107541600806877,-0.22194683773398044,-0.2236678961572013,-0.4327863229185727,-0.5211895999652428,-0.43278091399012847,-0.20024610885131605,-0.5313898225491511,-0.21950056042724683,-0.5211933037884502,-0.43366907285258266,-0.6853191909929028,-0.45204942031082523,-0.4520371652266719,-0.12184516962437304,-0.5261769085626249,-0.45208905959764895,-0.5211934311680569,-0.5211922220605889,-0.1212338728333234,-0.5211875846630457,-0.45215429904670157,-0.5218072148204385,-0.35811462667678956,-0.4521866254418645,-0.5212003331337164,-0.5212978220925271,-0.45208669399949086,-0.5212162071161253,-0.19277901439201295,-0.3021729330473961,-0.353784613463239,-0.12160127983925864,-0.2914431085357531,-0.5212572712670148,-0.2282737568129769,-0.5149269379183545,-0.12181353309585864,-0.12183819812321747,-0.12151085180061666,5.485538883051625,-0.19278032386301075,-0.22826154189143288,-0.08652580230770796,-0.5211980213807761,-0.2886546771823319],\"type\":\"scatter3d\"},{\"customdata\":[[null],[null],[null],[null],[null],[null],[null],[null],[null],[null],[null],[null],[null],[null],[null],[null],[null],[null],[null],[null],[null],[null],[null],[null],[null],[null],[null],[null],[null],[null],[null],[null],[null],[null],[null],[null],[null],[null],[null],[null],[null],[null],[null],[null],[null],[null],[null],[null],[null],[null],[null],[null],[null],[null],[null],[null],[null],[null],[null],[null],[null],[null],[null],[null],[null],[null],[null],[null],[null],[null],[null],[null],[null],[null],[null],[null],[null],[null],[null],[null],[null],[null],[null],[null],[null],[null],[null],[null],[null],[null],[null],[null],[null],[null],[null],[null],[null],[null],[null],[null],[null],[null],[null],[null],[null],[null],[null],[null],[null],[null],[null],[null],[null],[null],[null],[null],[null],[null],[null],[null],[null],[null],[null],[null],[null],[null],[null],[null],[null],[null],[null],[null],[null],[null],[null],[null],[null],[null],[null],[null],[null],[null],[null],[null],[null],[null],[null],[null],[null],[null],[null],[null],[null],[null],[null],[null],[null],[null],[null],[null],[null],[null],[null],[null],[null],[null],[null],[null],[null],[null],[null],[null],[null],[null],[null],[null],[null],[null],[null],[null],[null],[null],[null],[null],[null],[null],[null],[null],[null],[null],[null],[null],[null],[null],[null],[null],[null],[null],[null],[null],[null],[null],[null],[null],[null],[null],[null],[null],[null],[null],[null],[null],[null],[null],[null],[null],[null],[null],[null],[null],[null],[null],[null],[null],[null],[null],[null],[null],[null],[null],[null],[null],[null],[null],[null],[null],[null],[null],[null]],\"hovertemplate\":\"<b>%{hovertext}</b><br><br>Class=%{marker.color}<br>PC1=%{x}<br>PC2=%{y}<br>PC3=%{z}<br>Algorithm=%{customdata[0]}<extra></extra>\",\"hovertext\":[null,null,null,null,null,null,null,null,null,null,null,null,null,null,null,null,null,null,null,null,null,null,null,null,null,null,null,null,null,null,null,null,null,null,null,null,null,null,null,null,null,null,null,null,null,null,null,null,null,null,null,null,null,null,null,null,null,null,null,null,null,null,null,null,null,null,null,null,null,null,null,null,null,null,null,null,null,null,null,null,null,null,null,null,null,null,null,null,null,null,null,null,null,null,null,null,null,null,null,null,null,null,null,null,null,null,null,null,null,null,null,null,null,null,null,null,null,null,null,null,null,null,null,null,null,null,null,null,null,null,null,null,null,null,null,null,null,null,null,null,null,null,null,null,null,null,null,null,null,null,null,null,null,null,null,null,null,null,null,null,null,null,null,null,null,null,null,null,null,null,null,null,null,null,null,null,null,null,null,null,null,null,null,null,null,null,null,null,null,null,null,null,null,null,null,null,null,null,null,null,null,null,null,null,null,null,null,null,null,null,null,null,null,null,null,null,null,null,null,null,null,null,null,null,null,null,null,null,null,null,null,null,null,null,null,null,null,null,null],\"legendgroup\":\"3.0\",\"marker\":{\"color\":[3.0,3.0,3.0,3.0,3.0,3.0,3.0,3.0,3.0,3.0,3.0,3.0,3.0,3.0,3.0,3.0,3.0,3.0,3.0,3.0,3.0,3.0,3.0,3.0,3.0,3.0,3.0,3.0,3.0,3.0,3.0,3.0,3.0,3.0,3.0,3.0,3.0,3.0,3.0,3.0,3.0,3.0,3.0,3.0,3.0,3.0,3.0,3.0,3.0,3.0,3.0,3.0,3.0,3.0,3.0,3.0,3.0,3.0,3.0,3.0,3.0,3.0,3.0,3.0,3.0,3.0,3.0,3.0,3.0,3.0,3.0,3.0,3.0,3.0,3.0,3.0,3.0,3.0,3.0,3.0,3.0,3.0,3.0,3.0,3.0,3.0,3.0,3.0,3.0,3.0,3.0,3.0,3.0,3.0,3.0,3.0,3.0,3.0,3.0,3.0,3.0,3.0,3.0,3.0,3.0,3.0,3.0,3.0,3.0,3.0,3.0,3.0,3.0,3.0,3.0,3.0,3.0,3.0,3.0,3.0,3.0,3.0,3.0,3.0,3.0,3.0,3.0,3.0,3.0,3.0,3.0,3.0,3.0,3.0,3.0,3.0,3.0,3.0,3.0,3.0,3.0,3.0,3.0,3.0,3.0,3.0,3.0,3.0,3.0,3.0,3.0,3.0,3.0,3.0,3.0,3.0,3.0,3.0,3.0,3.0,3.0,3.0,3.0,3.0,3.0,3.0,3.0,3.0,3.0,3.0,3.0,3.0,3.0,3.0,3.0,3.0,3.0,3.0,3.0,3.0,3.0,3.0,3.0,3.0,3.0,3.0,3.0,3.0,3.0,3.0,3.0,3.0,3.0,3.0,3.0,3.0,3.0,3.0,3.0,3.0,3.0,3.0,3.0,3.0,3.0,3.0,3.0,3.0,3.0,3.0,3.0,3.0,3.0,3.0,3.0,3.0,3.0,3.0,3.0,3.0,3.0,3.0,3.0,3.0,3.0,3.0,3.0,3.0,3.0,3.0,3.0,3.0,3.0,3.0,3.0,3.0,3.0,3.0,3.0],\"coloraxis\":\"coloraxis\",\"symbol\":\"square\"},\"mode\":\"markers\",\"name\":\"3.0\",\"scene\":\"scene\",\"showlegend\":true,\"x\":[-0.14444154170041473,-0.1556379299640661,-0.16201364560520318,-0.16111162394297962,-0.15407856943684273,-0.15167979469746784,0.16198327893771122,-0.16316046199002698,-0.22832372477482007,-0.1627767028619857,-0.09157432555166295,2.5612095153287893,-0.1415250664093915,-0.16003055242681555,-0.1625805120036882,-0.23237682336384718,-0.2008549948198699,-0.16262954496913087,-0.16314272381545228,-0.16322923757635513,-0.22841309790729383,0.18571665151960987,0.23359567075618176,0.08562498212724663,-0.16297543456993588,-0.1585783632868093,-0.16291466083398162,-0.1632862632225355,-0.18183287875592197,-0.14249687753014356,-0.16208080022377466,-0.16235830263455364,1.5864738514759744,-0.14440290199797598,-0.1596461202874429,-0.1630018872522351,-0.16335687495912712,-0.16261575344784268,-0.14897245020650118,-0.16323807151355935,-0.02803888608184139,-0.14448053088840712,-0.1568989086370724,-0.1632174548904,-0.16131023297887115,-0.16270393060099608,-0.13162538306880212,-0.143944046469551,-0.14423134352227196,-0.14421414075392758,-0.14480537223245757,-0.22858712040818263,-0.16293386761080075,-0.21000281957495048,-0.16003519296765562,-0.14401136688379967,3.8597943221368447,0.461248805377406,-0.16180079717576706,-0.14638844376731122,-0.16051901587625436,-0.16335907861611004,-0.16038405420710064,-0.1466003749683216,-0.13467126259395315,-0.12559861868426578,-0.18464314860337863,-0.163232122637623,-0.036091743757187135,-0.10776787783894115,-0.16336798296982122,-0.1445083149959899,0.48938735526752125,-0.22797400192710535,-0.14605856127154182,-0.14424795738096083,-0.2282590262217237,-0.16149030851734367,-0.16068216685615938,-0.15670555973044017,0.36258330978885794,-0.22829445551088057,-0.14440402461544274,-0.1593238751572156,-0.1478950464000698,-0.1619305924524012,0.2742832883248514,-0.22745465028621387,-0.16058360208042985,-0.16217767033922365,-0.16448511825453416,-0.16315775127747864,-0.228257646845362,-0.16336804149315737,-0.22840765357554568,-0.26410487984338393,0.30606849976732525,-0.14466422571970008,-0.10566057133332604,-0.16053311852275398,-0.1446228412064012,-0.16303122004104628,-0.14757939958390712,-0.15644761053127793,-0.15170141690894778,-0.09002846429243824,-0.21498548821563462,-0.22623430999104377,0.3060629151740028,-0.16334976491254768,0.3061936815290495,-0.14659940285016054,0.4874882033110165,-0.15987514503683975,-0.1633180413823326,-0.22113529642335183,-0.15171381387327515,-0.16145039816853185,-0.14631766293999995,-0.1623336170247647,-0.13421559580610362,-0.192461218810816,-0.16288015989818952,-0.11096937401803655,-0.1627020073330838,-0.159733230686234,-0.12991005264468106,-0.03781366408378318,-0.1561151728037404,0.34220303952116427,-0.22746296910211572,-0.16302159776066916,-0.16278465474265502,-0.22785793514928665,-0.22843572210576651,0.30645815527715664,-0.15174723033651913,3.2474306791781444,-0.11323635180172921,-0.2193004870191238,-0.14444070571804385,-0.08887352585387799,1.5839867209132747,-0.16311946519876044,-0.16257067058859465,-0.16227149770771468,-0.16225842551176586,0.30664197615361494,0.060763753815572856,-0.18280322762901022,-0.1865242165594119,-0.15155980920104184,-0.1593417963987496,-0.16144860689567075,-0.22397749973848474,-0.18636950532859622,-0.15481120658841338,-0.18646979761245003,-0.11582493948427536,1.1446124649038283,0.3060456400205189,-0.07963595272159629,-0.2237180545366528,-0.14883841455602884,-0.07946357071104494,1.088872521006757,-0.2284097101894568,-0.18652180335645832,-0.1795557168138728,-0.16237007653823407,-0.22833508449041195,-0.14442010218785645,-0.20629160175803096,8.050521123533658,-0.1435288672166964,0.30992254501717764,0.02976637596655918,-0.15884516272836105,-0.19555255360662147,-0.16294405333848927,0.14429355950261608,-0.22247231118364047,-0.10780874544008662,0.31397539450004364,-0.1631812116374769,-0.1604362276952911,-0.15055042450064265,-0.1453610495381437,-0.2275037513425948,0.3062282307637835,-0.19252082475620647,-0.14644452644619002,-0.1650433604622229,-0.14766384840375604,0.3101601666953353,0.5818039630048839,2.1160264956486663,-0.14604820997092255,0.3198411317418405,-0.20730521836378776,-0.15692636085750755,-0.2283918603858587,-0.16320579411934297,-0.14871468196741733,-0.15041220407138173,-0.12474203065643949,3.102512111819058,-0.10424887304017856,-0.22836320002528046,-0.20673243150620216,-0.04624454690387757,-0.14706110522859936,-0.14444074329253684,0.38604605714796364,-0.1488378008521913,-0.14923030067622262,-0.274721798252977,-0.13479354699569362,-0.1620973575380153,-0.14961829269679486,-0.15139254062989138,-0.18385345500317546,-0.14371650626773383,-0.10932873277132782,-0.14258367631699564,0.5333464851831926,-0.11165039982163172,-0.0996505426585656,-0.14675099736421107,-0.14423071382154595,0.5528813460187075,-0.2004157889930805,-0.16328273259866238,-0.16123710751428236,-0.12633366780168873,-0.14140829011345676,-0.1564807852460803,0.3278146208103819,-0.15168085190012517],\"y\":[-1.3436813293918701,-2.043498455295219,-1.1380347885001514,-2.1823664408470824,-2.0435741476178917,-2.119845452394594,-1.835229827122948,-1.1380382559833035,-0.9018335221037309,-1.1380512699525307,-1.8327171957568056,-1.2813304728803943,-1.3436651260010992,-1.1380656920565457,-1.1380669877056035,-0.4253859821188558,-1.18373399233651,-1.138035357497103,-1.1380375721920128,-1.138035824260896,-0.9018356739862006,-1.8314404013076129,-1.3426751735849765,-1.1371644896977318,-1.138031123336265,-1.138041911568744,-1.138035894121049,-1.1380367911367877,-1.6430247453838847,-1.1381468023639902,-1.1380283236311244,-1.1380404733746412,-1.1291676506497001,-1.3436798398647547,-1.1380608449647638,-1.1380314963770422,-1.1380331201289475,-1.1380308383723003,-2.2027158345085844,-1.1380341342035711,-1.1425161643989679,-1.3436828323913501,-1.1380012316873556,-1.1380404530103267,-1.138115022635197,-1.1380401870480013,-1.3437479554054108,-1.343678972988992,-1.3436868068661254,-1.3437107178297818,-1.3436819359838121,-0.9018307420326201,-1.138030814340436,-1.2460129513685434,-1.1380758433801268,-1.3436802670186916,-2.239549583143502,-2.2580369923514607,-1.138040241411982,-1.1384645633325172,-1.1380304497923912,-1.138034031544324,-1.1380211173919776,-1.1380329857670464,-2.207264607195771,-1.8327354283338515,-1.5363008888587544,-1.1380296182077017,-1.1395931588484909,-2.163117873784084,-1.1380330759138908,-1.3436839034446704,-1.1723647484999231,-0.9018284475246319,-2.2398763575640017,-1.3436950523580709,-0.9018316747177085,-1.1380962521064206,-1.1380908112292991,-2.0435505446508437,-2.204715278797266,-0.9018298070499173,-1.3436798831406878,-1.138012582768917,-2.2790463039669366,-1.1380315868729332,-1.341511708404105,-0.9018414080177455,-2.140796434240491,-1.1380956604220351,-2.236236636648608,-1.1380375048004288,-0.9018342082929427,-1.1380330762104522,-0.9018399909226698,-1.7667550462149366,-2.2575586533098293,-1.3436826293830586,-1.8327428585503143,-1.13805273118244,-1.3436816175504713,-1.138039094003185,-2.1249367981162783,-2.0435466145688506,-2.1198462859121476,-1.1416723727822118,-0.9016297544988932,-0.9018874879186812,-2.257565982150822,-1.138033728309162,-2.257563527969918,-2.2398611284388483,-0.9388953825441144,-2.182438412795773,-1.1380329229695165,-0.9021901679121233,-2.119844177055402,-1.1380234227945483,-2.2398573811693487,-2.1732359180265153,-1.1394956249903314,-0.6142761755445146,-1.1380368407376051,-1.3439941439662169,-1.1380535640024865,-2.1823812071402813,-2.197434637070443,-2.2203702921564945,-2.1238883318962642,-2.257452605677915,-0.9018520756969044,-1.1380317885158782,-1.138058690050404,-0.9018414338064679,-0.9018371281480119,-2.2575720866658884,-2.1593950677055997,-1.1358867864387632,-1.2586760091803029,-0.9021841063212797,-1.3436812971654724,-1.141951194529161,-1.0706736625323825,-1.1380360289052025,-1.1380562613315626,-1.1380550754717205,-1.138054571549871,-2.2575875627290998,-2.125222789132123,-0.901229849608561,-1.6430057660390276,-2.1198408270574665,-2.140830244658966,-1.1380233537425282,-0.9018793856795686,-1.6430114424253686,-2.043647658254016,-1.643006772334482,-1.8327854750376849,-2.2801954579795662,-2.257561151251426,-2.0470355172968002,-0.901998721741398,-2.1825396711917375,-1.138031669020232,-1.315540699339028,-0.9018367074296576,-1.6430017928886396,-1.6430430194692418,-1.138035594859389,-0.9018359000726933,-1.343679963580034,-1.1314856196143208,-2.6056974849661474,-2.0754263829473127,-2.257620903241813,-1.1370543852853334,-2.1407746870143214,-1.2461129403576325,-1.1380422006746802,-1.1380761480733161,-0.9019183650499224,-2.0458581487180947,-2.257894069733034,-1.1380390558642686,-2.1009264829428003,-2.119833603825402,-2.1250314497082274,-0.9018536478170077,-2.2575579279909466,-0.6142608497812271,-2.239865686156485,-2.244563989399006,-2.124933004654229,-2.257782468900592,-2.2461208992186283,-2.3067703248947398,-2.2741139262002728,-2.257667950634882,-1.260410552873364,-2.16352380618012,-0.9018367953598646,-1.1380407182571763,-2.1830202521419375,-2.246552549232819,-0.31365287981138124,-2.2678432308291128,-1.3434763995652161,-0.9018382772767491,-1.2604388650866085,-2.120682257437223,-2.124957300938936,-1.3436812986139364,-2.259694353742554,-2.0930014942275807,-2.092964960135043,-0.1707448830030531,-2.0948931943370876,-1.1380612962637697,-2.1199223522522437,-2.1198407721488506,-1.5363351155783704,-1.3436811874546795,-0.33526827745745585,-1.3437047733137164,-1.1746149542812367,-1.6426887335967295,-2.095564198945285,-1.1380387921301545,-1.3436867825917067,-1.142756245564362,-1.1837306417639502,-1.13803262241353,-1.138068228978774,-1.8327655745659788,-2.254818833709879,-2.04354678267863,-2.2576193983855797,-2.119845493148842],\"z\":[0.15094969603645758,0.3041373619852341,-0.016486105970657593,0.44215599200578787,0.30412829878505765,0.4300204756896075,0.29020180161034637,-0.016469928413580606,0.05268374848041284,-0.01647306190065386,0.29325112078123644,-0.030526922645170266,0.1509073668488067,-0.016508144971537415,-0.016473205764879855,0.07186978844779932,0.16301237780336383,-0.016477625811802902,-0.01647028000128478,-0.01646938283590013,0.052685311896001695,0.2892690011290229,0.14563893263774244,-0.0199989696824986,-0.016473595835251764,-0.016531749198710213,-0.01647365617637126,-0.016468450611889854,0.2763833657047686,-0.016733908986162904,-0.0164862312232628,-0.016480497253788234,-0.041727067462290275,0.15094893016033661,-0.01651416066911453,-0.016473175540598774,-0.016468079371062518,-0.016478540578777536,0.4047480061464327,-0.01646953437093646,-0.017590007860855388,0.15095046883971153,-0.016561167167729113,-0.01646879875940378,-0.016482780470499923,-0.016475835811193152,0.15078585535875536,0.15094254104444338,0.15094771418884864,0.1509513260869282,0.1509547490310281,0.052686888775804123,-0.016474211686441493,0.2607167714266086,-0.016506448873866413,0.1509436661089701,0.3387640205883763,0.38802646617595493,-0.016488127866039485,-0.016629791832442575,-0.016507160933575918,-0.016467902751080944,-0.01651050029464054,-0.016696326783276032,0.4714436152029582,0.2937174690662903,0.2315941697611441,-0.016470341816713835,-0.01795050740222709,0.2912968815106047,-0.016467935190672526,0.15095101954748358,-0.019836124290932216,0.0526781689355784,0.4195099825176174,0.15094926680185963,0.05268257011576486,-0.016483347153866387,-0.016495229345959952,0.30416028208938434,0.3749292753850065,0.052682752243462375,0.1509489524116961,-0.016526312915132915,0.29622793655915286,-0.01648775216413864,0.14489761238664023,0.05267318005820528,0.4551580118134182,-0.01647408036824684,0.3790737007622607,-0.016470086165501385,0.05268295886714617,-0.01646793434587342,0.052685932145013936,0.7221177783724375,0.39006309964860447,0.15095293813326044,0.2934471053496532,-0.01650338477684509,0.1509522117120816,-0.01647155390660023,0.4109814064278297,0.3041561366123495,0.43002090426266454,-0.0168814296532732,0.052469302819282845,0.052663971048380706,0.39006435459348326,-0.016468078381928285,0.39006217877033006,0.41951489916966156,0.04889588491630203,0.4421507280556343,-0.016468640003752026,0.0526432094346526,0.4300207338904884,-0.01649560570953663,0.4195104590662544,0.438735600722521,-0.016629736072537586,0.0019323659019397591,-0.016473973815622756,0.1505441184205004,-0.016473710254079985,0.442139593337541,0.1911497611885335,0.38290092622888305,0.3351431190104027,0.3895538840132078,0.05267500931294524,-0.01647286008876207,-0.016471760033860618,0.052678677000911424,0.05268585395009381,0.39005995331255217,0.5115742493090091,-0.06326871669172704,0.08778038263568243,0.05261724404383333,0.15094967946647808,-0.016852310151835845,-0.051102252787166486,-0.016470845032456032,-0.01647506519900243,-0.016479330725846474,-0.016479589829360302,0.3900599390520909,0.4279919381980894,0.05196664930230258,0.2764442094353199,0.4300180974615077,0.45514653683244016,-0.01649564121428993,0.05263192970002761,0.2764430153234891,0.3041501019681258,0.27644363010971745,0.2935924005028549,0.3822832643241271,0.3900638128082715,0.30367115946953527,0.052647591843705294,0.4420166942281075,-0.017610950955928163,0.12517817530872638,0.05268543198954855,0.2764435374653891,0.2763552899317945,-0.016481121626023935,0.05268428570987856,0.1509491843294946,0.13593990689247584,0.34058253680480793,0.33742230287048447,0.3900206202536702,-0.019255878764926022,0.45513083588023134,0.2605360405927477,-0.016472241404724725,-0.020651398689899795,0.05261769886127454,0.30386549089971177,0.39000936013706633,-0.016469517135583478,0.444554962661639,0.4300031876109561,0.4109664173976258,0.052675817656229994,0.3900608074195063,0.0019307125147360255,0.41951352286450594,0.16030069061101812,0.4109819464342123,0.3900433724856764,0.37125808354598633,0.37332717838033036,0.1904817027697967,0.38989309557547963,0.19602585097095915,0.4620574075393254,0.052685203016834256,-0.01646891491435818,0.44209231290374956,0.42589206942618324,0.07110364542212663,0.34041984648525936,0.15036930242350505,0.05268505103283317,0.19602260370224345,0.4287190377513758,0.4109776451735278,0.15094968021124064,0.3893173329401185,0.3982325755092406,0.3982320447123532,0.15782907754516456,0.3539551330402514,-0.01648070189198372,0.4300047674927911,0.43001581040857867,0.2315889195721412,0.15093979812432995,-0.010209770237788756,0.15092816273432397,-0.020072896361672175,0.27537342160302014,0.39797486269266485,-0.01669334130232072,0.15094770170757377,-0.025463601806421855,0.163005856803599,-0.01646916926015173,-0.016491303450772703,0.29373232971210833,0.4050254126347135,0.30415661549778505,0.3897766856941252,0.430020496644383],\"type\":\"scatter3d\"},{\"customdata\":[[null],[null],[null],[null]],\"hovertemplate\":\"<b>%{hovertext}</b><br><br>Class=%{marker.color}<br>PC1=%{x}<br>PC2=%{y}<br>PC3=%{z}<br>Algorithm=%{customdata[0]}<extra></extra>\",\"hovertext\":[null,null,null,null],\"legendgroup\":\"1.0\",\"marker\":{\"color\":[1.0,1.0,1.0,1.0],\"coloraxis\":\"coloraxis\",\"symbol\":\"x\"},\"mode\":\"markers\",\"name\":\"1.0\",\"scene\":\"scene\",\"showlegend\":true,\"x\":[-0.20745428351196213,-0.36518458541454973,-0.39199702103049383,-0.3437078740139803],\"y\":[1.6380153494668084,4.169249013651682,2.994352592872375,3.247074424904576],\"z\":[14.897906737552297,11.894610914211713,17.41702195081553,17.137153310571144],\"type\":\"scatter3d\"},{\"customdata\":[[null]],\"hovertemplate\":\"<b>%{hovertext}</b><br><br>Class=%{marker.color}<br>PC1=%{x}<br>PC2=%{y}<br>PC3=%{z}<br>Algorithm=%{customdata[0]}<extra></extra>\",\"hovertext\":[null],\"legendgroup\":\"2.0\",\"marker\":{\"color\":[2.0],\"coloraxis\":\"coloraxis\",\"symbol\":\"cross\"},\"mode\":\"markers\",\"name\":\"2.0\",\"scene\":\"scene\",\"showlegend\":true,\"x\":[34.06562471291434],\"y\":[1.8112316843993812],\"z\":[-0.6395651516525248],\"type\":\"scatter3d\"}],                        {\"template\":{\"data\":{\"histogram2dcontour\":[{\"type\":\"histogram2dcontour\",\"colorbar\":{\"outlinewidth\":0,\"ticks\":\"\"},\"colorscale\":[[0.0,\"#0d0887\"],[0.1111111111111111,\"#46039f\"],[0.2222222222222222,\"#7201a8\"],[0.3333333333333333,\"#9c179e\"],[0.4444444444444444,\"#bd3786\"],[0.5555555555555556,\"#d8576b\"],[0.6666666666666666,\"#ed7953\"],[0.7777777777777778,\"#fb9f3a\"],[0.8888888888888888,\"#fdca26\"],[1.0,\"#f0f921\"]]}],\"choropleth\":[{\"type\":\"choropleth\",\"colorbar\":{\"outlinewidth\":0,\"ticks\":\"\"}}],\"histogram2d\":[{\"type\":\"histogram2d\",\"colorbar\":{\"outlinewidth\":0,\"ticks\":\"\"},\"colorscale\":[[0.0,\"#0d0887\"],[0.1111111111111111,\"#46039f\"],[0.2222222222222222,\"#7201a8\"],[0.3333333333333333,\"#9c179e\"],[0.4444444444444444,\"#bd3786\"],[0.5555555555555556,\"#d8576b\"],[0.6666666666666666,\"#ed7953\"],[0.7777777777777778,\"#fb9f3a\"],[0.8888888888888888,\"#fdca26\"],[1.0,\"#f0f921\"]]}],\"heatmap\":[{\"type\":\"heatmap\",\"colorbar\":{\"outlinewidth\":0,\"ticks\":\"\"},\"colorscale\":[[0.0,\"#0d0887\"],[0.1111111111111111,\"#46039f\"],[0.2222222222222222,\"#7201a8\"],[0.3333333333333333,\"#9c179e\"],[0.4444444444444444,\"#bd3786\"],[0.5555555555555556,\"#d8576b\"],[0.6666666666666666,\"#ed7953\"],[0.7777777777777778,\"#fb9f3a\"],[0.8888888888888888,\"#fdca26\"],[1.0,\"#f0f921\"]]}],\"heatmapgl\":[{\"type\":\"heatmapgl\",\"colorbar\":{\"outlinewidth\":0,\"ticks\":\"\"},\"colorscale\":[[0.0,\"#0d0887\"],[0.1111111111111111,\"#46039f\"],[0.2222222222222222,\"#7201a8\"],[0.3333333333333333,\"#9c179e\"],[0.4444444444444444,\"#bd3786\"],[0.5555555555555556,\"#d8576b\"],[0.6666666666666666,\"#ed7953\"],[0.7777777777777778,\"#fb9f3a\"],[0.8888888888888888,\"#fdca26\"],[1.0,\"#f0f921\"]]}],\"contourcarpet\":[{\"type\":\"contourcarpet\",\"colorbar\":{\"outlinewidth\":0,\"ticks\":\"\"}}],\"contour\":[{\"type\":\"contour\",\"colorbar\":{\"outlinewidth\":0,\"ticks\":\"\"},\"colorscale\":[[0.0,\"#0d0887\"],[0.1111111111111111,\"#46039f\"],[0.2222222222222222,\"#7201a8\"],[0.3333333333333333,\"#9c179e\"],[0.4444444444444444,\"#bd3786\"],[0.5555555555555556,\"#d8576b\"],[0.6666666666666666,\"#ed7953\"],[0.7777777777777778,\"#fb9f3a\"],[0.8888888888888888,\"#fdca26\"],[1.0,\"#f0f921\"]]}],\"surface\":[{\"type\":\"surface\",\"colorbar\":{\"outlinewidth\":0,\"ticks\":\"\"},\"colorscale\":[[0.0,\"#0d0887\"],[0.1111111111111111,\"#46039f\"],[0.2222222222222222,\"#7201a8\"],[0.3333333333333333,\"#9c179e\"],[0.4444444444444444,\"#bd3786\"],[0.5555555555555556,\"#d8576b\"],[0.6666666666666666,\"#ed7953\"],[0.7777777777777778,\"#fb9f3a\"],[0.8888888888888888,\"#fdca26\"],[1.0,\"#f0f921\"]]}],\"mesh3d\":[{\"type\":\"mesh3d\",\"colorbar\":{\"outlinewidth\":0,\"ticks\":\"\"}}],\"scatter\":[{\"fillpattern\":{\"fillmode\":\"overlay\",\"size\":10,\"solidity\":0.2},\"type\":\"scatter\"}],\"parcoords\":[{\"type\":\"parcoords\",\"line\":{\"colorbar\":{\"outlinewidth\":0,\"ticks\":\"\"}}}],\"scatterpolargl\":[{\"type\":\"scatterpolargl\",\"marker\":{\"colorbar\":{\"outlinewidth\":0,\"ticks\":\"\"}}}],\"bar\":[{\"error_x\":{\"color\":\"#2a3f5f\"},\"error_y\":{\"color\":\"#2a3f5f\"},\"marker\":{\"line\":{\"color\":\"#E5ECF6\",\"width\":0.5},\"pattern\":{\"fillmode\":\"overlay\",\"size\":10,\"solidity\":0.2}},\"type\":\"bar\"}],\"scattergeo\":[{\"type\":\"scattergeo\",\"marker\":{\"colorbar\":{\"outlinewidth\":0,\"ticks\":\"\"}}}],\"scatterpolar\":[{\"type\":\"scatterpolar\",\"marker\":{\"colorbar\":{\"outlinewidth\":0,\"ticks\":\"\"}}}],\"histogram\":[{\"marker\":{\"pattern\":{\"fillmode\":\"overlay\",\"size\":10,\"solidity\":0.2}},\"type\":\"histogram\"}],\"scattergl\":[{\"type\":\"scattergl\",\"marker\":{\"colorbar\":{\"outlinewidth\":0,\"ticks\":\"\"}}}],\"scatter3d\":[{\"type\":\"scatter3d\",\"line\":{\"colorbar\":{\"outlinewidth\":0,\"ticks\":\"\"}},\"marker\":{\"colorbar\":{\"outlinewidth\":0,\"ticks\":\"\"}}}],\"scattermapbox\":[{\"type\":\"scattermapbox\",\"marker\":{\"colorbar\":{\"outlinewidth\":0,\"ticks\":\"\"}}}],\"scatterternary\":[{\"type\":\"scatterternary\",\"marker\":{\"colorbar\":{\"outlinewidth\":0,\"ticks\":\"\"}}}],\"scattercarpet\":[{\"type\":\"scattercarpet\",\"marker\":{\"colorbar\":{\"outlinewidth\":0,\"ticks\":\"\"}}}],\"carpet\":[{\"aaxis\":{\"endlinecolor\":\"#2a3f5f\",\"gridcolor\":\"white\",\"linecolor\":\"white\",\"minorgridcolor\":\"white\",\"startlinecolor\":\"#2a3f5f\"},\"baxis\":{\"endlinecolor\":\"#2a3f5f\",\"gridcolor\":\"white\",\"linecolor\":\"white\",\"minorgridcolor\":\"white\",\"startlinecolor\":\"#2a3f5f\"},\"type\":\"carpet\"}],\"table\":[{\"cells\":{\"fill\":{\"color\":\"#EBF0F8\"},\"line\":{\"color\":\"white\"}},\"header\":{\"fill\":{\"color\":\"#C8D4E3\"},\"line\":{\"color\":\"white\"}},\"type\":\"table\"}],\"barpolar\":[{\"marker\":{\"line\":{\"color\":\"#E5ECF6\",\"width\":0.5},\"pattern\":{\"fillmode\":\"overlay\",\"size\":10,\"solidity\":0.2}},\"type\":\"barpolar\"}],\"pie\":[{\"automargin\":true,\"type\":\"pie\"}]},\"layout\":{\"autotypenumbers\":\"strict\",\"colorway\":[\"#636efa\",\"#EF553B\",\"#00cc96\",\"#ab63fa\",\"#FFA15A\",\"#19d3f3\",\"#FF6692\",\"#B6E880\",\"#FF97FF\",\"#FECB52\"],\"font\":{\"color\":\"#2a3f5f\"},\"hovermode\":\"closest\",\"hoverlabel\":{\"align\":\"left\"},\"paper_bgcolor\":\"white\",\"plot_bgcolor\":\"#E5ECF6\",\"polar\":{\"bgcolor\":\"#E5ECF6\",\"angularaxis\":{\"gridcolor\":\"white\",\"linecolor\":\"white\",\"ticks\":\"\"},\"radialaxis\":{\"gridcolor\":\"white\",\"linecolor\":\"white\",\"ticks\":\"\"}},\"ternary\":{\"bgcolor\":\"#E5ECF6\",\"aaxis\":{\"gridcolor\":\"white\",\"linecolor\":\"white\",\"ticks\":\"\"},\"baxis\":{\"gridcolor\":\"white\",\"linecolor\":\"white\",\"ticks\":\"\"},\"caxis\":{\"gridcolor\":\"white\",\"linecolor\":\"white\",\"ticks\":\"\"}},\"coloraxis\":{\"colorbar\":{\"outlinewidth\":0,\"ticks\":\"\"}},\"colorscale\":{\"sequential\":[[0.0,\"#0d0887\"],[0.1111111111111111,\"#46039f\"],[0.2222222222222222,\"#7201a8\"],[0.3333333333333333,\"#9c179e\"],[0.4444444444444444,\"#bd3786\"],[0.5555555555555556,\"#d8576b\"],[0.6666666666666666,\"#ed7953\"],[0.7777777777777778,\"#fb9f3a\"],[0.8888888888888888,\"#fdca26\"],[1.0,\"#f0f921\"]],\"sequentialminus\":[[0.0,\"#0d0887\"],[0.1111111111111111,\"#46039f\"],[0.2222222222222222,\"#7201a8\"],[0.3333333333333333,\"#9c179e\"],[0.4444444444444444,\"#bd3786\"],[0.5555555555555556,\"#d8576b\"],[0.6666666666666666,\"#ed7953\"],[0.7777777777777778,\"#fb9f3a\"],[0.8888888888888888,\"#fdca26\"],[1.0,\"#f0f921\"]],\"diverging\":[[0,\"#8e0152\"],[0.1,\"#c51b7d\"],[0.2,\"#de77ae\"],[0.3,\"#f1b6da\"],[0.4,\"#fde0ef\"],[0.5,\"#f7f7f7\"],[0.6,\"#e6f5d0\"],[0.7,\"#b8e186\"],[0.8,\"#7fbc41\"],[0.9,\"#4d9221\"],[1,\"#276419\"]]},\"xaxis\":{\"gridcolor\":\"white\",\"linecolor\":\"white\",\"ticks\":\"\",\"title\":{\"standoff\":15},\"zerolinecolor\":\"white\",\"automargin\":true,\"zerolinewidth\":2},\"yaxis\":{\"gridcolor\":\"white\",\"linecolor\":\"white\",\"ticks\":\"\",\"title\":{\"standoff\":15},\"zerolinecolor\":\"white\",\"automargin\":true,\"zerolinewidth\":2},\"scene\":{\"xaxis\":{\"backgroundcolor\":\"#E5ECF6\",\"gridcolor\":\"white\",\"linecolor\":\"white\",\"showbackground\":true,\"ticks\":\"\",\"zerolinecolor\":\"white\",\"gridwidth\":2},\"yaxis\":{\"backgroundcolor\":\"#E5ECF6\",\"gridcolor\":\"white\",\"linecolor\":\"white\",\"showbackground\":true,\"ticks\":\"\",\"zerolinecolor\":\"white\",\"gridwidth\":2},\"zaxis\":{\"backgroundcolor\":\"#E5ECF6\",\"gridcolor\":\"white\",\"linecolor\":\"white\",\"showbackground\":true,\"ticks\":\"\",\"zerolinecolor\":\"white\",\"gridwidth\":2}},\"shapedefaults\":{\"line\":{\"color\":\"#2a3f5f\"}},\"annotationdefaults\":{\"arrowcolor\":\"#2a3f5f\",\"arrowhead\":0,\"arrowwidth\":1},\"geo\":{\"bgcolor\":\"white\",\"landcolor\":\"#E5ECF6\",\"subunitcolor\":\"white\",\"showland\":true,\"showlakes\":true,\"lakecolor\":\"white\"},\"title\":{\"x\":0.05},\"mapbox\":{\"style\":\"light\"}}},\"scene\":{\"domain\":{\"x\":[0.0,1.0],\"y\":[0.0,1.0]},\"xaxis\":{\"title\":{\"text\":\"PC1\"}},\"yaxis\":{\"title\":{\"text\":\"PC2\"}},\"zaxis\":{\"title\":{\"text\":\"PC3\"}}},\"coloraxis\":{\"colorbar\":{\"title\":{\"text\":\"Class\"}},\"colorscale\":[[0.0,\"#0d0887\"],[0.1111111111111111,\"#46039f\"],[0.2222222222222222,\"#7201a8\"],[0.3333333333333333,\"#9c179e\"],[0.4444444444444444,\"#bd3786\"],[0.5555555555555556,\"#d8576b\"],[0.6666666666666666,\"#ed7953\"],[0.7777777777777778,\"#fb9f3a\"],[0.8888888888888888,\"#fdca26\"],[1.0,\"#f0f921\"]]},\"legend\":{\"title\":{\"text\":\"Class\"},\"tracegroupgap\":0,\"x\":0,\"y\":1},\"margin\":{\"t\":60},\"width\":800},                        {\"responsive\": true}                    ).then(function(){\n",
       "                            \n",
       "var gd = document.getElementById('0ea0a2b5-f761-4f94-a64f-79bf5221e1ae');\n",
       "var x = new MutationObserver(function (mutations, observer) {{\n",
       "        var display = window.getComputedStyle(gd).display;\n",
       "        if (!display || display === 'none') {{\n",
       "            console.log([gd, 'removed!']);\n",
       "            Plotly.purge(gd);\n",
       "            observer.disconnect();\n",
       "        }}\n",
       "}});\n",
       "\n",
       "// Listen for the removal of the full notebook cells\n",
       "var notebookContainer = gd.closest('#notebook-container');\n",
       "if (notebookContainer) {{\n",
       "    x.observe(notebookContainer, {childList: true});\n",
       "}}\n",
       "\n",
       "// Listen for the clearing of the current output cell\n",
       "var outputEl = gd.closest('.output');\n",
       "if (outputEl) {{\n",
       "    x.observe(outputEl, {childList: true});\n",
       "}}\n",
       "\n",
       "                        })                };                });            </script>        </div>"
      ]
     },
     "metadata": {},
     "output_type": "display_data"
    }
   ],
   "source": [
    "# Creating a 3D-Scatter with the PCA data and the clusters\n",
    "# YOUR CODE HERE\n",
    "fig = px.scatter_3d(\n",
    "    clustered_df3,\n",
    "    x=\"PC1\",\n",
    "    y=\"PC2\",\n",
    "    z=\"PC3\",\n",
    "    color=\"Class\",\n",
    "    symbol=\"Class\",\n",
    "    width=800,\n",
    "    hover_name=\"CoinName\",\n",
    "    hover_data=[\"Algorithm\"]\n",
    ")\n",
    "fig.update_layout(legend=dict(x=0, y=1))\n",
    "fig.show()"
   ]
  },
  {
   "cell_type": "code",
   "execution_count": null,
   "metadata": {},
   "outputs": [],
   "source": [
    "# Create a table with tradable cryptocurrencies.\n",
    "\n",
    "# ###### I don't know the parameters to use to identify\n",
    "# \"tradable\" cryptocurrencies.\n",
    "clustered_df3.hvplot.table(columns=['CoinName', 'Algorithm', 'ProofType', 'TotalCoinSupply', 'TotalCoinsMined', 'Class'], sortable=True, selectable=True)"
   ]
  },
  {
   "cell_type": "code",
   "execution_count": null,
   "metadata": {},
   "outputs": [],
   "source": [
    "# Print the total number of tradable cryptocurrencies.\n",
    "print(len(clustered_df3))"
   ]
  },
  {
   "cell_type": "code",
   "execution_count": null,
   "metadata": {},
   "outputs": [],
   "source": [
    "# Scaling data to create the scatter plot with \n",
    "# tradable cryptocurrencies.\n",
    "# YOUR CODE HERE\n",
    "\n",
    "\n",
    "# ###### Not enough time to finish this Challenge.\n",
    "# I might be able to re-visit later.\n",
    "\n",
    "\n",
    "\n",
    "\n",
    "\n"
   ]
  },
  {
   "cell_type": "code",
   "execution_count": null,
   "metadata": {},
   "outputs": [],
   "source": [
    "# Create a new DataFrame that has the scaled data with the clustered_df DataFrame index.\n",
    "# YOUR CODE HERE\n",
    "\n",
    "# Add the \"CoinName\" column from the clustered_df DataFrame to the new DataFrame.\n",
    "# YOUR CODE HERE\n",
    "\n",
    "# Add the \"Class\" column from the clustered_df DataFrame to the new DataFrame. \n",
    "# YOUR CODE HERE\n",
    "\n",
    "plot_df.head(10)"
   ]
  },
  {
   "cell_type": "code",
   "execution_count": null,
   "metadata": {},
   "outputs": [],
   "source": [
    "# Create a hvplot.scatter plot using x=\"TotalCoinsMined\" and y=\"TotalCoinSupply\".\n",
    "# YOUR CODE HERE\n"
   ]
  },
  {
   "cell_type": "code",
   "execution_count": null,
   "metadata": {},
   "outputs": [],
   "source": []
  }
 ],
 "metadata": {
  "file_extension": ".py",
  "kernelspec": {
   "display_name": "mlenv",
   "language": "python",
   "name": "mlenv"
  },
  "language_info": {
   "codemirror_mode": {
    "name": "ipython",
    "version": 3
   },
   "file_extension": ".py",
   "mimetype": "text/x-python",
   "name": "python",
   "nbconvert_exporter": "python",
   "pygments_lexer": "ipython3",
   "version": "3.7.13"
  },
  "latex_envs": {
   "LaTeX_envs_menu_present": true,
   "autoclose": false,
   "autocomplete": true,
   "bibliofile": "biblio.bib",
   "cite_by": "apalike",
   "current_citInitial": 1,
   "eqLabelWithNumbers": true,
   "eqNumInitial": 1,
   "hotkeys": {
    "equation": "Ctrl-E",
    "itemize": "Ctrl-I"
   },
   "labels_anchors": false,
   "latex_user_defs": false,
   "report_style_numbering": false,
   "user_envs_cfg": false
  },
  "mimetype": "text/x-python",
  "name": "python",
  "npconvert_exporter": "python",
  "pygments_lexer": "ipython3",
  "version": 3
 },
 "nbformat": 4,
 "nbformat_minor": 2
}
