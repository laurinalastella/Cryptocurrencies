{
 "cells": [
  {
   "cell_type": "markdown",
   "metadata": {},
   "source": [
    "# Clustering Crypto"
   ]
  },
  {
   "cell_type": "code",
   "execution_count": 31,
   "metadata": {},
   "outputs": [],
   "source": [
    "# Initial imports\n",
    "import pandas as pd\n",
    "import hvplot.pandas\n",
    "from path import Path\n",
    "import plotly.express as px\n",
    "from sklearn.preprocessing import StandardScaler, MinMaxScaler\n",
    "from sklearn.decomposition import PCA\n",
    "from sklearn.cluster import KMeans"
   ]
  },
  {
   "cell_type": "markdown",
   "metadata": {},
   "source": [
    "### Deliverable 1: Preprocessing the Data for PCA"
   ]
  },
  {
   "cell_type": "markdown",
   "metadata": {},
   "source": [
    "#### _crypto_data.csv originally started with an unnamed column. I was getting errors while trying to import it. After some troubleshooting, I named it \"mystery\" in Excel. Then I was able to import it as the index."
   ]
  },
  {
   "cell_type": "code",
   "execution_count": 32,
   "metadata": {},
   "outputs": [
    {
     "data": {
      "text/html": [
       "<div>\n",
       "<style scoped>\n",
       "    .dataframe tbody tr th:only-of-type {\n",
       "        vertical-align: middle;\n",
       "    }\n",
       "\n",
       "    .dataframe tbody tr th {\n",
       "        vertical-align: top;\n",
       "    }\n",
       "\n",
       "    .dataframe thead th {\n",
       "        text-align: right;\n",
       "    }\n",
       "</style>\n",
       "<table border=\"1\" class=\"dataframe\">\n",
       "  <thead>\n",
       "    <tr style=\"text-align: right;\">\n",
       "      <th></th>\n",
       "      <th>CoinName</th>\n",
       "      <th>Algorithm</th>\n",
       "      <th>IsTrading</th>\n",
       "      <th>ProofType</th>\n",
       "      <th>TotalCoinsMined</th>\n",
       "      <th>TotalCoinSupply</th>\n",
       "    </tr>\n",
       "    <tr>\n",
       "      <th>mystery</th>\n",
       "      <th></th>\n",
       "      <th></th>\n",
       "      <th></th>\n",
       "      <th></th>\n",
       "      <th></th>\n",
       "      <th></th>\n",
       "    </tr>\n",
       "  </thead>\n",
       "  <tbody>\n",
       "    <tr>\n",
       "      <th>42</th>\n",
       "      <td>42 Coin</td>\n",
       "      <td>Scrypt</td>\n",
       "      <td>True</td>\n",
       "      <td>PoW/PoS</td>\n",
       "      <td>4.199995e+01</td>\n",
       "      <td>42</td>\n",
       "    </tr>\n",
       "    <tr>\n",
       "      <th>365</th>\n",
       "      <td>365Coin</td>\n",
       "      <td>X11</td>\n",
       "      <td>True</td>\n",
       "      <td>PoW/PoS</td>\n",
       "      <td>NaN</td>\n",
       "      <td>2300000000</td>\n",
       "    </tr>\n",
       "    <tr>\n",
       "      <th>404</th>\n",
       "      <td>404Coin</td>\n",
       "      <td>Scrypt</td>\n",
       "      <td>True</td>\n",
       "      <td>PoW/PoS</td>\n",
       "      <td>1.055185e+09</td>\n",
       "      <td>532000000</td>\n",
       "    </tr>\n",
       "    <tr>\n",
       "      <th>611</th>\n",
       "      <td>SixEleven</td>\n",
       "      <td>SHA-256</td>\n",
       "      <td>True</td>\n",
       "      <td>PoW</td>\n",
       "      <td>NaN</td>\n",
       "      <td>611000</td>\n",
       "    </tr>\n",
       "    <tr>\n",
       "      <th>808</th>\n",
       "      <td>808</td>\n",
       "      <td>SHA-256</td>\n",
       "      <td>True</td>\n",
       "      <td>PoW/PoS</td>\n",
       "      <td>0.000000e+00</td>\n",
       "      <td>0</td>\n",
       "    </tr>\n",
       "  </tbody>\n",
       "</table>\n",
       "</div>"
      ],
      "text/plain": [
       "          CoinName Algorithm  IsTrading ProofType  TotalCoinsMined  \\\n",
       "mystery                                                              \n",
       "42         42 Coin    Scrypt       True   PoW/PoS     4.199995e+01   \n",
       "365        365Coin       X11       True   PoW/PoS              NaN   \n",
       "404        404Coin    Scrypt       True   PoW/PoS     1.055185e+09   \n",
       "611      SixEleven   SHA-256       True       PoW              NaN   \n",
       "808            808   SHA-256       True   PoW/PoS     0.000000e+00   \n",
       "\n",
       "        TotalCoinSupply  \n",
       "mystery                  \n",
       "42                   42  \n",
       "365          2300000000  \n",
       "404           532000000  \n",
       "611              611000  \n",
       "808                   0  "
      ]
     },
     "execution_count": 32,
     "metadata": {},
     "output_type": "execute_result"
    }
   ],
   "source": [
    "# Load the crypto_data.csv dataset.\n",
    "file_path =\"../Resources/crypto_data.csv\"\n",
    "# Added name to index col in Excel.\n",
    "crypto_df1 = pd.read_csv(file_path, index_col=\"mystery\")\n",
    "crypto_df1.head()"
   ]
  },
  {
   "cell_type": "code",
   "execution_count": 3,
   "metadata": {},
   "outputs": [
    {
     "name": "stdout",
     "output_type": "stream",
     "text": [
      "<class 'pandas.core.frame.DataFrame'>\n",
      "Index: 1252 entries, 42 to PUNK\n",
      "Data columns (total 6 columns):\n",
      " #   Column           Non-Null Count  Dtype  \n",
      "---  ------           --------------  -----  \n",
      " 0   CoinName         1252 non-null   object \n",
      " 1   Algorithm        1252 non-null   object \n",
      " 2   IsTrading        1252 non-null   bool   \n",
      " 3   ProofType        1252 non-null   object \n",
      " 4   TotalCoinsMined  744 non-null    float64\n",
      " 5   TotalCoinSupply  1252 non-null   object \n",
      "dtypes: bool(1), float64(1), object(4)\n",
      "memory usage: 59.9+ KB\n"
     ]
    }
   ],
   "source": [
    "# Current col names and row count.\n",
    "crypto_df1.info()"
   ]
  },
  {
   "cell_type": "code",
   "execution_count": 4,
   "metadata": {},
   "outputs": [
    {
     "data": {
      "text/plain": [
       "array([ True, False])"
      ]
     },
     "execution_count": 4,
     "metadata": {},
     "output_type": "execute_result"
    }
   ],
   "source": [
    "# Verify that the col only has True and False values.\n",
    "crypto_df1['IsTrading'].unique()"
   ]
  },
  {
   "cell_type": "code",
   "execution_count": 5,
   "metadata": {},
   "outputs": [],
   "source": [
    "# Keep all the cryptocurrencies that are being traded.\n",
    "crypto_df2 = crypto_df1[crypto_df1['IsTrading'] == True]"
   ]
  },
  {
   "cell_type": "code",
   "execution_count": 6,
   "metadata": {},
   "outputs": [
    {
     "data": {
      "text/plain": [
       "array([ True])"
      ]
     },
     "execution_count": 6,
     "metadata": {},
     "output_type": "execute_result"
    }
   ],
   "source": [
    "# Verify values are updated.\n",
    "crypto_df2['IsTrading'].unique()"
   ]
  },
  {
   "cell_type": "code",
   "execution_count": 7,
   "metadata": {},
   "outputs": [
    {
     "name": "stdout",
     "output_type": "stream",
     "text": [
      "<class 'pandas.core.frame.DataFrame'>\n",
      "Index: 1144 entries, 42 to XBC\n",
      "Data columns (total 6 columns):\n",
      " #   Column           Non-Null Count  Dtype  \n",
      "---  ------           --------------  -----  \n",
      " 0   CoinName         1144 non-null   object \n",
      " 1   Algorithm        1144 non-null   object \n",
      " 2   IsTrading        1144 non-null   bool   \n",
      " 3   ProofType        1144 non-null   object \n",
      " 4   TotalCoinsMined  685 non-null    float64\n",
      " 5   TotalCoinSupply  1144 non-null   object \n",
      "dtypes: bool(1), float64(1), object(4)\n",
      "memory usage: 54.7+ KB\n"
     ]
    }
   ],
   "source": [
    "# Current col names and row count.\n",
    "crypto_df2.info()"
   ]
  },
  {
   "cell_type": "code",
   "execution_count": 8,
   "metadata": {},
   "outputs": [],
   "source": [
    "# Keep all the cryptocurrencies that have a working algorithm.\n",
    "# YOUR CODE HERE"
   ]
  },
  {
   "cell_type": "markdown",
   "metadata": {},
   "source": [
    "This statement isn't explained, and it's not \n",
    "in the instructions. I don't know what's expected.\n",
    "I'm skipping it."
   ]
  },
  {
   "cell_type": "code",
   "execution_count": 9,
   "metadata": {
    "scrolled": true
   },
   "outputs": [],
   "source": [
    "# Remove the \"IsTrading\" column. \n",
    "crypto_df3 = crypto_df2.drop(columns=[\"IsTrading\"], axis=1)"
   ]
  },
  {
   "cell_type": "code",
   "execution_count": 10,
   "metadata": {},
   "outputs": [
    {
     "name": "stdout",
     "output_type": "stream",
     "text": [
      "<class 'pandas.core.frame.DataFrame'>\n",
      "Index: 1144 entries, 42 to XBC\n",
      "Data columns (total 5 columns):\n",
      " #   Column           Non-Null Count  Dtype  \n",
      "---  ------           --------------  -----  \n",
      " 0   CoinName         1144 non-null   object \n",
      " 1   Algorithm        1144 non-null   object \n",
      " 2   ProofType        1144 non-null   object \n",
      " 3   TotalCoinsMined  685 non-null    float64\n",
      " 4   TotalCoinSupply  1144 non-null   object \n",
      "dtypes: float64(1), object(4)\n",
      "memory usage: 53.6+ KB\n"
     ]
    }
   ],
   "source": [
    "# Current col names and row count.\n",
    "crypto_df3.info()"
   ]
  },
  {
   "cell_type": "code",
   "execution_count": 11,
   "metadata": {},
   "outputs": [],
   "source": [
    "# Remove rows that have at least 1 null value.\n",
    "crypto_df4 = crypto_df3.dropna()"
   ]
  },
  {
   "cell_type": "code",
   "execution_count": 12,
   "metadata": {},
   "outputs": [
    {
     "name": "stdout",
     "output_type": "stream",
     "text": [
      "<class 'pandas.core.frame.DataFrame'>\n",
      "Index: 685 entries, 42 to XBC\n",
      "Data columns (total 5 columns):\n",
      " #   Column           Non-Null Count  Dtype  \n",
      "---  ------           --------------  -----  \n",
      " 0   CoinName         685 non-null    object \n",
      " 1   Algorithm        685 non-null    object \n",
      " 2   ProofType        685 non-null    object \n",
      " 3   TotalCoinsMined  685 non-null    float64\n",
      " 4   TotalCoinSupply  685 non-null    object \n",
      "dtypes: float64(1), object(4)\n",
      "memory usage: 32.1+ KB\n"
     ]
    }
   ],
   "source": [
    "# Current col names and row count.\n",
    "crypto_df4.info()"
   ]
  },
  {
   "cell_type": "code",
   "execution_count": 13,
   "metadata": {},
   "outputs": [],
   "source": [
    "# Keep the rows where coins are mined.\n",
    "crypto_df5 = crypto_df4[crypto_df4['TotalCoinsMined'] > 0]"
   ]
  },
  {
   "cell_type": "code",
   "execution_count": 14,
   "metadata": {},
   "outputs": [
    {
     "name": "stdout",
     "output_type": "stream",
     "text": [
      "<class 'pandas.core.frame.DataFrame'>\n",
      "Index: 532 entries, 42 to XBC\n",
      "Data columns (total 5 columns):\n",
      " #   Column           Non-Null Count  Dtype  \n",
      "---  ------           --------------  -----  \n",
      " 0   CoinName         532 non-null    object \n",
      " 1   Algorithm        532 non-null    object \n",
      " 2   ProofType        532 non-null    object \n",
      " 3   TotalCoinsMined  532 non-null    float64\n",
      " 4   TotalCoinSupply  532 non-null    object \n",
      "dtypes: float64(1), object(4)\n",
      "memory usage: 24.9+ KB\n"
     ]
    }
   ],
   "source": [
    "# Current col names and row count.\n",
    "crypto_df5.info()"
   ]
  },
  {
   "cell_type": "code",
   "execution_count": 15,
   "metadata": {},
   "outputs": [
    {
     "data": {
      "text/html": [
       "<div>\n",
       "<style scoped>\n",
       "    .dataframe tbody tr th:only-of-type {\n",
       "        vertical-align: middle;\n",
       "    }\n",
       "\n",
       "    .dataframe tbody tr th {\n",
       "        vertical-align: top;\n",
       "    }\n",
       "\n",
       "    .dataframe thead th {\n",
       "        text-align: right;\n",
       "    }\n",
       "</style>\n",
       "<table border=\"1\" class=\"dataframe\">\n",
       "  <thead>\n",
       "    <tr style=\"text-align: right;\">\n",
       "      <th></th>\n",
       "      <th>TotalCoinsMined</th>\n",
       "    </tr>\n",
       "  </thead>\n",
       "  <tbody>\n",
       "    <tr>\n",
       "      <th>count</th>\n",
       "      <td>5.320000e+02</td>\n",
       "    </tr>\n",
       "    <tr>\n",
       "      <th>mean</th>\n",
       "      <td>5.340457e+09</td>\n",
       "    </tr>\n",
       "    <tr>\n",
       "      <th>std</th>\n",
       "      <td>4.564569e+10</td>\n",
       "    </tr>\n",
       "    <tr>\n",
       "      <th>min</th>\n",
       "      <td>4.199995e+01</td>\n",
       "    </tr>\n",
       "    <tr>\n",
       "      <th>25%</th>\n",
       "      <td>8.359849e+06</td>\n",
       "    </tr>\n",
       "    <tr>\n",
       "      <th>50%</th>\n",
       "      <td>2.474397e+07</td>\n",
       "    </tr>\n",
       "    <tr>\n",
       "      <th>75%</th>\n",
       "      <td>1.867250e+08</td>\n",
       "    </tr>\n",
       "    <tr>\n",
       "      <th>max</th>\n",
       "      <td>9.899890e+11</td>\n",
       "    </tr>\n",
       "  </tbody>\n",
       "</table>\n",
       "</div>"
      ],
      "text/plain": [
       "       TotalCoinsMined\n",
       "count     5.320000e+02\n",
       "mean      5.340457e+09\n",
       "std       4.564569e+10\n",
       "min       4.199995e+01\n",
       "25%       8.359849e+06\n",
       "50%       2.474397e+07\n",
       "75%       1.867250e+08\n",
       "max       9.899890e+11"
      ]
     },
     "execution_count": 15,
     "metadata": {},
     "output_type": "execute_result"
    }
   ],
   "source": [
    "# Verify no zero values.\n",
    "crypto_df5.describe()"
   ]
  },
  {
   "cell_type": "code",
   "execution_count": 16,
   "metadata": {},
   "outputs": [],
   "source": [
    "# Create a new DataFrame that holds only the cryptocurrencies names.\n",
    "crypto_df_coinname = crypto_df5[['CoinName']].copy()"
   ]
  },
  {
   "cell_type": "code",
   "execution_count": 17,
   "metadata": {},
   "outputs": [
    {
     "data": {
      "text/html": [
       "<div>\n",
       "<style scoped>\n",
       "    .dataframe tbody tr th:only-of-type {\n",
       "        vertical-align: middle;\n",
       "    }\n",
       "\n",
       "    .dataframe tbody tr th {\n",
       "        vertical-align: top;\n",
       "    }\n",
       "\n",
       "    .dataframe thead th {\n",
       "        text-align: right;\n",
       "    }\n",
       "</style>\n",
       "<table border=\"1\" class=\"dataframe\">\n",
       "  <thead>\n",
       "    <tr style=\"text-align: right;\">\n",
       "      <th></th>\n",
       "      <th>CoinName</th>\n",
       "    </tr>\n",
       "    <tr>\n",
       "      <th>mystery</th>\n",
       "      <th></th>\n",
       "    </tr>\n",
       "  </thead>\n",
       "  <tbody>\n",
       "    <tr>\n",
       "      <th>42</th>\n",
       "      <td>42 Coin</td>\n",
       "    </tr>\n",
       "    <tr>\n",
       "      <th>404</th>\n",
       "      <td>404Coin</td>\n",
       "    </tr>\n",
       "    <tr>\n",
       "      <th>1337</th>\n",
       "      <td>EliteCoin</td>\n",
       "    </tr>\n",
       "    <tr>\n",
       "      <th>BTC</th>\n",
       "      <td>Bitcoin</td>\n",
       "    </tr>\n",
       "    <tr>\n",
       "      <th>ETH</th>\n",
       "      <td>Ethereum</td>\n",
       "    </tr>\n",
       "  </tbody>\n",
       "</table>\n",
       "</div>"
      ],
      "text/plain": [
       "          CoinName\n",
       "mystery           \n",
       "42         42 Coin\n",
       "404        404Coin\n",
       "1337     EliteCoin\n",
       "BTC        Bitcoin\n",
       "ETH       Ethereum"
      ]
     },
     "execution_count": 17,
     "metadata": {},
     "output_type": "execute_result"
    }
   ],
   "source": [
    "# Verify df contains only required cols.\n",
    "crypto_df_coinname.head()"
   ]
  },
  {
   "cell_type": "code",
   "execution_count": 18,
   "metadata": {},
   "outputs": [],
   "source": [
    "# Drop the 'CoinName' column since it's not going to be used on the clustering algorithm.\n",
    "crypto_df6 = crypto_df5.drop(columns=[\"CoinName\"], axis=1)"
   ]
  },
  {
   "cell_type": "code",
   "execution_count": 19,
   "metadata": {},
   "outputs": [
    {
     "name": "stdout",
     "output_type": "stream",
     "text": [
      "<class 'pandas.core.frame.DataFrame'>\n",
      "Index: 532 entries, 42 to XBC\n",
      "Data columns (total 4 columns):\n",
      " #   Column           Non-Null Count  Dtype  \n",
      "---  ------           --------------  -----  \n",
      " 0   Algorithm        532 non-null    object \n",
      " 1   ProofType        532 non-null    object \n",
      " 2   TotalCoinsMined  532 non-null    float64\n",
      " 3   TotalCoinSupply  532 non-null    object \n",
      "dtypes: float64(1), object(3)\n",
      "memory usage: 20.8+ KB\n"
     ]
    }
   ],
   "source": [
    "# Current col names and row count.\n",
    "crypto_df6.info()"
   ]
  },
  {
   "cell_type": "code",
   "execution_count": 20,
   "metadata": {},
   "outputs": [
    {
     "data": {
      "text/html": [
       "<div>\n",
       "<style scoped>\n",
       "    .dataframe tbody tr th:only-of-type {\n",
       "        vertical-align: middle;\n",
       "    }\n",
       "\n",
       "    .dataframe tbody tr th {\n",
       "        vertical-align: top;\n",
       "    }\n",
       "\n",
       "    .dataframe thead th {\n",
       "        text-align: right;\n",
       "    }\n",
       "</style>\n",
       "<table border=\"1\" class=\"dataframe\">\n",
       "  <thead>\n",
       "    <tr style=\"text-align: right;\">\n",
       "      <th></th>\n",
       "      <th>Algorithm</th>\n",
       "      <th>ProofType</th>\n",
       "      <th>TotalCoinsMined</th>\n",
       "      <th>TotalCoinSupply</th>\n",
       "    </tr>\n",
       "    <tr>\n",
       "      <th>mystery</th>\n",
       "      <th></th>\n",
       "      <th></th>\n",
       "      <th></th>\n",
       "      <th></th>\n",
       "    </tr>\n",
       "  </thead>\n",
       "  <tbody>\n",
       "    <tr>\n",
       "      <th>42</th>\n",
       "      <td>Scrypt</td>\n",
       "      <td>PoW/PoS</td>\n",
       "      <td>4.199995e+01</td>\n",
       "      <td>42</td>\n",
       "    </tr>\n",
       "    <tr>\n",
       "      <th>404</th>\n",
       "      <td>Scrypt</td>\n",
       "      <td>PoW/PoS</td>\n",
       "      <td>1.055185e+09</td>\n",
       "      <td>532000000</td>\n",
       "    </tr>\n",
       "    <tr>\n",
       "      <th>1337</th>\n",
       "      <td>X13</td>\n",
       "      <td>PoW/PoS</td>\n",
       "      <td>2.927942e+10</td>\n",
       "      <td>3.14159E+11</td>\n",
       "    </tr>\n",
       "    <tr>\n",
       "      <th>BTC</th>\n",
       "      <td>SHA-256</td>\n",
       "      <td>PoW</td>\n",
       "      <td>1.792718e+07</td>\n",
       "      <td>21000000</td>\n",
       "    </tr>\n",
       "    <tr>\n",
       "      <th>ETH</th>\n",
       "      <td>Ethash</td>\n",
       "      <td>PoW</td>\n",
       "      <td>1.076842e+08</td>\n",
       "      <td>0</td>\n",
       "    </tr>\n",
       "    <tr>\n",
       "      <th>LTC</th>\n",
       "      <td>Scrypt</td>\n",
       "      <td>PoW</td>\n",
       "      <td>6.303924e+07</td>\n",
       "      <td>84000000</td>\n",
       "    </tr>\n",
       "    <tr>\n",
       "      <th>DASH</th>\n",
       "      <td>X11</td>\n",
       "      <td>PoW/PoS</td>\n",
       "      <td>9.031294e+06</td>\n",
       "      <td>22000000</td>\n",
       "    </tr>\n",
       "    <tr>\n",
       "      <th>XMR</th>\n",
       "      <td>CryptoNight-V7</td>\n",
       "      <td>PoW</td>\n",
       "      <td>1.720114e+07</td>\n",
       "      <td>0</td>\n",
       "    </tr>\n",
       "    <tr>\n",
       "      <th>ETC</th>\n",
       "      <td>Ethash</td>\n",
       "      <td>PoW</td>\n",
       "      <td>1.133597e+08</td>\n",
       "      <td>210000000</td>\n",
       "    </tr>\n",
       "    <tr>\n",
       "      <th>ZEC</th>\n",
       "      <td>Equihash</td>\n",
       "      <td>PoW</td>\n",
       "      <td>7.383056e+06</td>\n",
       "      <td>21000000</td>\n",
       "    </tr>\n",
       "  </tbody>\n",
       "</table>\n",
       "</div>"
      ],
      "text/plain": [
       "              Algorithm ProofType  TotalCoinsMined TotalCoinSupply\n",
       "mystery                                                           \n",
       "42               Scrypt   PoW/PoS     4.199995e+01              42\n",
       "404              Scrypt   PoW/PoS     1.055185e+09       532000000\n",
       "1337                X13   PoW/PoS     2.927942e+10     3.14159E+11\n",
       "BTC             SHA-256       PoW     1.792718e+07        21000000\n",
       "ETH              Ethash       PoW     1.076842e+08               0\n",
       "LTC              Scrypt       PoW     6.303924e+07        84000000\n",
       "DASH                X11   PoW/PoS     9.031294e+06        22000000\n",
       "XMR      CryptoNight-V7       PoW     1.720114e+07               0\n",
       "ETC              Ethash       PoW     1.133597e+08       210000000\n",
       "ZEC            Equihash       PoW     7.383056e+06        21000000"
      ]
     },
     "execution_count": 20,
     "metadata": {},
     "output_type": "execute_result"
    }
   ],
   "source": [
    "# Compare to instructions for Deliverable 1.\n",
    "crypto_df6.head(10)"
   ]
  },
  {
   "cell_type": "code",
   "execution_count": 21,
   "metadata": {},
   "outputs": [],
   "source": [
    "# Use get_dummies() to create variables for text features.\n",
    "X1 = pd.get_dummies(crypto_df6, columns=[\n",
    "    \"Algorithm\",\n",
    "    \"ProofType\"\n",
    "])"
   ]
  },
  {
   "cell_type": "code",
   "execution_count": 22,
   "metadata": {},
   "outputs": [
    {
     "name": "stdout",
     "output_type": "stream",
     "text": [
      "<class 'pandas.core.frame.DataFrame'>\n",
      "Index: 532 entries, 42 to XBC\n",
      "Data columns (total 98 columns):\n",
      " #   Column                            Non-Null Count  Dtype  \n",
      "---  ------                            --------------  -----  \n",
      " 0   TotalCoinsMined                   532 non-null    float64\n",
      " 1   TotalCoinSupply                   532 non-null    object \n",
      " 2   Algorithm_1GB AES Pattern Search  532 non-null    uint8  \n",
      " 3   Algorithm_536                     532 non-null    uint8  \n",
      " 4   Algorithm_Argon2d                 532 non-null    uint8  \n",
      " 5   Algorithm_BLAKE256                532 non-null    uint8  \n",
      " 6   Algorithm_Blake                   532 non-null    uint8  \n",
      " 7   Algorithm_Blake2S                 532 non-null    uint8  \n",
      " 8   Algorithm_Blake2b                 532 non-null    uint8  \n",
      " 9   Algorithm_C11                     532 non-null    uint8  \n",
      " 10  Algorithm_Cloverhash              532 non-null    uint8  \n",
      " 11  Algorithm_Counterparty            532 non-null    uint8  \n",
      " 12  Algorithm_CryptoNight             532 non-null    uint8  \n",
      " 13  Algorithm_CryptoNight Heavy       532 non-null    uint8  \n",
      " 14  Algorithm_CryptoNight-V7          532 non-null    uint8  \n",
      " 15  Algorithm_Cryptonight-GPU         532 non-null    uint8  \n",
      " 16  Algorithm_DPoS                    532 non-null    uint8  \n",
      " 17  Algorithm_Dagger                  532 non-null    uint8  \n",
      " 18  Algorithm_Dagger-Hashimoto        532 non-null    uint8  \n",
      " 19  Algorithm_ECC 256K1               532 non-null    uint8  \n",
      " 20  Algorithm_Equihash                532 non-null    uint8  \n",
      " 21  Algorithm_Equihash+Scrypt         532 non-null    uint8  \n",
      " 22  Algorithm_Ethash                  532 non-null    uint8  \n",
      " 23  Algorithm_Exosis                  532 non-null    uint8  \n",
      " 24  Algorithm_Green Protocol          532 non-null    uint8  \n",
      " 25  Algorithm_Groestl                 532 non-null    uint8  \n",
      " 26  Algorithm_HMQ1725                 532 non-null    uint8  \n",
      " 27  Algorithm_HybridScryptHash256     532 non-null    uint8  \n",
      " 28  Algorithm_IMesh                   532 non-null    uint8  \n",
      " 29  Algorithm_Jump Consistent Hash    532 non-null    uint8  \n",
      " 30  Algorithm_Keccak                  532 non-null    uint8  \n",
      " 31  Algorithm_Leased POS              532 non-null    uint8  \n",
      " 32  Algorithm_Lyra2RE                 532 non-null    uint8  \n",
      " 33  Algorithm_Lyra2REv2               532 non-null    uint8  \n",
      " 34  Algorithm_Lyra2Z                  532 non-null    uint8  \n",
      " 35  Algorithm_M7 POW                  532 non-null    uint8  \n",
      " 36  Algorithm_Multiple                532 non-null    uint8  \n",
      " 37  Algorithm_NIST5                   532 non-null    uint8  \n",
      " 38  Algorithm_NeoScrypt               532 non-null    uint8  \n",
      " 39  Algorithm_Ouroboros               532 non-null    uint8  \n",
      " 40  Algorithm_PHI1612                 532 non-null    uint8  \n",
      " 41  Algorithm_POS 2.0                 532 non-null    uint8  \n",
      " 42  Algorithm_POS 3.0                 532 non-null    uint8  \n",
      " 43  Algorithm_PoS                     532 non-null    uint8  \n",
      " 44  Algorithm_Proof-of-Authority      532 non-null    uint8  \n",
      " 45  Algorithm_Proof-of-BibleHash      532 non-null    uint8  \n",
      " 46  Algorithm_QUAIT                   532 non-null    uint8  \n",
      " 47  Algorithm_QuBit                   532 non-null    uint8  \n",
      " 48  Algorithm_Quark                   532 non-null    uint8  \n",
      " 49  Algorithm_SHA-256                 532 non-null    uint8  \n",
      " 50  Algorithm_SHA-256 + Hive          532 non-null    uint8  \n",
      " 51  Algorithm_SHA-256D                532 non-null    uint8  \n",
      " 52  Algorithm_SHA-512                 532 non-null    uint8  \n",
      " 53  Algorithm_SHA3                    532 non-null    uint8  \n",
      " 54  Algorithm_Scrypt                  532 non-null    uint8  \n",
      " 55  Algorithm_Semux BFT consensus     532 non-null    uint8  \n",
      " 56  Algorithm_Shabal256               532 non-null    uint8  \n",
      " 57  Algorithm_Skein                   532 non-null    uint8  \n",
      " 58  Algorithm_SkunkHash               532 non-null    uint8  \n",
      " 59  Algorithm_SkunkHash v2 Raptor     532 non-null    uint8  \n",
      " 60  Algorithm_Stanford Folding        532 non-null    uint8  \n",
      " 61  Algorithm_TRC10                   532 non-null    uint8  \n",
      " 62  Algorithm_Time Travel             532 non-null    uint8  \n",
      " 63  Algorithm_Tribus                  532 non-null    uint8  \n",
      " 64  Algorithm_VBFT                    532 non-null    uint8  \n",
      " 65  Algorithm_VeChainThor Authority   532 non-null    uint8  \n",
      " 66  Algorithm_X11                     532 non-null    uint8  \n",
      " 67  Algorithm_X11GOST                 532 non-null    uint8  \n",
      " 68  Algorithm_X13                     532 non-null    uint8  \n",
      " 69  Algorithm_X14                     532 non-null    uint8  \n",
      " 70  Algorithm_X15                     532 non-null    uint8  \n",
      " 71  Algorithm_X16R                    532 non-null    uint8  \n",
      " 72  Algorithm_XEVAN                   532 non-null    uint8  \n",
      " 73  ProofType_DPOS                    532 non-null    uint8  \n",
      " 74  ProofType_DPoS                    532 non-null    uint8  \n",
      " 75  ProofType_HPoW                    532 non-null    uint8  \n",
      " 76  ProofType_LPoS                    532 non-null    uint8  \n",
      " 77  ProofType_POBh                    532 non-null    uint8  \n",
      " 78  ProofType_PoA                     532 non-null    uint8  \n",
      " 79  ProofType_PoC                     532 non-null    uint8  \n",
      " 80  ProofType_PoS                     532 non-null    uint8  \n",
      " 81  ProofType_PoS/LPoS                532 non-null    uint8  \n",
      " 82  ProofType_PoS/PoW                 532 non-null    uint8  \n",
      " 83  ProofType_PoS/PoW/PoT             532 non-null    uint8  \n",
      " 84  ProofType_PoST                    532 non-null    uint8  \n",
      " 85  ProofType_PoW                     532 non-null    uint8  \n",
      " 86  ProofType_PoW + Hive              532 non-null    uint8  \n",
      " 87  ProofType_PoW and PoS             532 non-null    uint8  \n",
      " 88  ProofType_PoW/PoS                 532 non-null    uint8  \n",
      " 89  ProofType_PoW/PoS                 532 non-null    uint8  \n",
      " 90  ProofType_PoW/PoW                 532 non-null    uint8  \n",
      " 91  ProofType_PoW/nPoS                532 non-null    uint8  \n",
      " 92  ProofType_Pos                     532 non-null    uint8  \n",
      " 93  ProofType_Proof of Authority      532 non-null    uint8  \n",
      " 94  ProofType_Proof of Trust          532 non-null    uint8  \n",
      " 95  ProofType_TPoS                    532 non-null    uint8  \n",
      " 96  ProofType_Zero-Knowledge Proof    532 non-null    uint8  \n",
      " 97  ProofType_dPoW/PoW                532 non-null    uint8  \n",
      "dtypes: float64(1), object(1), uint8(96)\n",
      "memory usage: 62.3+ KB\n"
     ]
    }
   ],
   "source": [
    "# Current col names and row count.\n",
    "X1.info()"
   ]
  },
  {
   "cell_type": "code",
   "execution_count": 57,
   "metadata": {},
   "outputs": [],
   "source": [
    "# Standardize the data with StandardScaler().\n",
    "X2 = StandardScaler().fit_transform(X1)\n"
   ]
  },
  {
   "cell_type": "code",
   "execution_count": 58,
   "metadata": {},
   "outputs": [
    {
     "data": {
      "text/plain": [
       "dtype('float64')"
      ]
     },
     "execution_count": 58,
     "metadata": {},
     "output_type": "execute_result"
    }
   ],
   "source": [
    "X2.dtype"
   ]
  },
  {
   "cell_type": "code",
   "execution_count": 59,
   "metadata": {},
   "outputs": [
    {
     "data": {
      "text/plain": [
       "(532, 98)"
      ]
     },
     "execution_count": 59,
     "metadata": {},
     "output_type": "execute_result"
    }
   ],
   "source": [
    "X2.shape"
   ]
  },
  {
   "cell_type": "code",
   "execution_count": 60,
   "metadata": {},
   "outputs": [
    {
     "data": {
      "text/plain": [
       "52136"
      ]
     },
     "execution_count": 60,
     "metadata": {},
     "output_type": "execute_result"
    }
   ],
   "source": [
    "X2.size"
   ]
  },
  {
   "cell_type": "code",
   "execution_count": 61,
   "metadata": {},
   "outputs": [
    {
     "data": {
      "text/plain": [
       "<function ndarray.view>"
      ]
     },
     "execution_count": 61,
     "metadata": {},
     "output_type": "execute_result"
    }
   ],
   "source": [
    "X2.view"
   ]
  },
  {
   "cell_type": "markdown",
   "metadata": {},
   "source": [
    "### Deliverable 2: Reducing Data Dimensions Using PCA"
   ]
  },
  {
   "cell_type": "code",
   "execution_count": 62,
   "metadata": {},
   "outputs": [],
   "source": [
    "# Using PCA to reduce dimension to three principal components.\n",
    "pca = PCA(n_components=3)\n",
    "X3 = pca.fit_transform(X2)"
   ]
  },
  {
   "cell_type": "code",
   "execution_count": 63,
   "metadata": {},
   "outputs": [
    {
     "data": {
      "text/plain": [
       "array([[-0.33000592,  0.98891678, -0.59329991],\n",
       "       [-0.31332278,  0.98853736, -0.59372205],\n",
       "       [ 2.31799094,  1.46640742, -0.6826739 ],\n",
       "       ...,\n",
       "       [ 0.32404176, -2.14233753,  0.45161529],\n",
       "       [-0.14362667, -2.08327672,  0.37187161],\n",
       "       [-0.28830217,  0.74968137, -0.27792608]])"
      ]
     },
     "execution_count": 63,
     "metadata": {},
     "output_type": "execute_result"
    }
   ],
   "source": [
    "X3"
   ]
  },
  {
   "cell_type": "code",
   "execution_count": 69,
   "metadata": {},
   "outputs": [
    {
     "data": {
      "text/html": [
       "<div>\n",
       "<style scoped>\n",
       "    .dataframe tbody tr th:only-of-type {\n",
       "        vertical-align: middle;\n",
       "    }\n",
       "\n",
       "    .dataframe tbody tr th {\n",
       "        vertical-align: top;\n",
       "    }\n",
       "\n",
       "    .dataframe thead th {\n",
       "        text-align: right;\n",
       "    }\n",
       "</style>\n",
       "<table border=\"1\" class=\"dataframe\">\n",
       "  <thead>\n",
       "    <tr style=\"text-align: right;\">\n",
       "      <th></th>\n",
       "      <th>PC1</th>\n",
       "      <th>PC2</th>\n",
       "      <th>PC3</th>\n",
       "    </tr>\n",
       "    <tr>\n",
       "      <th>mystery</th>\n",
       "      <th></th>\n",
       "      <th></th>\n",
       "      <th></th>\n",
       "    </tr>\n",
       "  </thead>\n",
       "  <tbody>\n",
       "    <tr>\n",
       "      <th>42</th>\n",
       "      <td>-0.330006</td>\n",
       "      <td>0.988917</td>\n",
       "      <td>-0.593300</td>\n",
       "    </tr>\n",
       "    <tr>\n",
       "      <th>404</th>\n",
       "      <td>-0.313323</td>\n",
       "      <td>0.988537</td>\n",
       "      <td>-0.593722</td>\n",
       "    </tr>\n",
       "    <tr>\n",
       "      <th>1337</th>\n",
       "      <td>2.317991</td>\n",
       "      <td>1.466407</td>\n",
       "      <td>-0.682674</td>\n",
       "    </tr>\n",
       "    <tr>\n",
       "      <th>BTC</th>\n",
       "      <td>-0.145685</td>\n",
       "      <td>-1.213853</td>\n",
       "      <td>0.167308</td>\n",
       "    </tr>\n",
       "    <tr>\n",
       "      <th>ETH</th>\n",
       "      <td>-0.162282</td>\n",
       "      <td>-1.965664</td>\n",
       "      <td>0.450790</td>\n",
       "    </tr>\n",
       "    <tr>\n",
       "      <th>LTC</th>\n",
       "      <td>-0.166444</td>\n",
       "      <td>-1.023535</td>\n",
       "      <td>-0.004298</td>\n",
       "    </tr>\n",
       "    <tr>\n",
       "      <th>DASH</th>\n",
       "      <td>-0.396652</td>\n",
       "      <td>1.022213</td>\n",
       "      <td>-0.498802</td>\n",
       "    </tr>\n",
       "    <tr>\n",
       "      <th>XMR</th>\n",
       "      <td>-0.166262</td>\n",
       "      <td>-2.110359</td>\n",
       "      <td>0.444620</td>\n",
       "    </tr>\n",
       "    <tr>\n",
       "      <th>ETC</th>\n",
       "      <td>-0.160722</td>\n",
       "      <td>-1.965805</td>\n",
       "      <td>0.450770</td>\n",
       "    </tr>\n",
       "    <tr>\n",
       "      <th>ZEC</th>\n",
       "      <td>-0.143626</td>\n",
       "      <td>-2.083277</td>\n",
       "      <td>0.371872</td>\n",
       "    </tr>\n",
       "  </tbody>\n",
       "</table>\n",
       "</div>"
      ],
      "text/plain": [
       "              PC1       PC2       PC3\n",
       "mystery                              \n",
       "42      -0.330006  0.988917 -0.593300\n",
       "404     -0.313323  0.988537 -0.593722\n",
       "1337     2.317991  1.466407 -0.682674\n",
       "BTC     -0.145685 -1.213853  0.167308\n",
       "ETH     -0.162282 -1.965664  0.450790\n",
       "LTC     -0.166444 -1.023535 -0.004298\n",
       "DASH    -0.396652  1.022213 -0.498802\n",
       "XMR     -0.166262 -2.110359  0.444620\n",
       "ETC     -0.160722 -1.965805  0.450770\n",
       "ZEC     -0.143626 -2.083277  0.371872"
      ]
     },
     "execution_count": 69,
     "metadata": {},
     "output_type": "execute_result"
    }
   ],
   "source": [
    "# Create a DataFrame with the three principal components.\n",
    "# Transform PCA data to a df\n",
    "pcs_df = pd.DataFrame(\n",
    "    # (Different from instructions. I don't use spaces in col names unless forced to.\n",
    "    data = X3, columns = [\"PC1\", \"PC2\", \"PC3\"],\n",
    "    index=crypto_df6.index\n",
    ")\n",
    "pcs_df.head(10)"
   ]
  },
  {
   "cell_type": "markdown",
   "metadata": {},
   "source": [
    "### Deliverable 3: Clustering Crytocurrencies Using K-Means\n",
    "\n",
    "#### Finding the Best Value for `k` Using the Elbow Curve"
   ]
  },
  {
   "cell_type": "code",
   "execution_count": 28,
   "metadata": {},
   "outputs": [],
   "source": [
    "# Create an elbow curve to find the best value for K.\n",
    "# YOUR CODE HERE\n"
   ]
  },
  {
   "cell_type": "markdown",
   "metadata": {},
   "source": [
    "Running K-Means with `k=4`"
   ]
  },
  {
   "cell_type": "code",
   "execution_count": 29,
   "metadata": {},
   "outputs": [],
   "source": [
    "# Initialize the K-Means model.\n",
    "# YOUR CODE HERE\n",
    "\n",
    "# Fit the model\n",
    "# YOUR CODE HERE\n",
    "\n",
    "# Predict clusters\n",
    "# YOUR CODE HERE"
   ]
  },
  {
   "cell_type": "code",
   "execution_count": 30,
   "metadata": {},
   "outputs": [
    {
     "ename": "NameError",
     "evalue": "name 'clustered_df' is not defined",
     "output_type": "error",
     "traceback": [
      "\u001b[1;31m---------------------------------------------------------------------------\u001b[0m",
      "\u001b[1;31mNameError\u001b[0m                                 Traceback (most recent call last)",
      "\u001b[1;32m~\\AppData\\Local\\Temp\\ipykernel_5360\\3159908722.py\u001b[0m in \u001b[0;36m<module>\u001b[1;34m\u001b[0m\n\u001b[0;32m     10\u001b[0m \u001b[1;33m\u001b[0m\u001b[0m\n\u001b[0;32m     11\u001b[0m \u001b[1;31m# Print the shape of the clustered_df\u001b[0m\u001b[1;33m\u001b[0m\u001b[1;33m\u001b[0m\u001b[1;33m\u001b[0m\u001b[0m\n\u001b[1;32m---> 12\u001b[1;33m \u001b[0mprint\u001b[0m\u001b[1;33m(\u001b[0m\u001b[0mclustered_df\u001b[0m\u001b[1;33m.\u001b[0m\u001b[0mshape\u001b[0m\u001b[1;33m)\u001b[0m\u001b[1;33m\u001b[0m\u001b[1;33m\u001b[0m\u001b[0m\n\u001b[0m\u001b[0;32m     13\u001b[0m \u001b[0mclustered_df\u001b[0m\u001b[1;33m.\u001b[0m\u001b[0mhead\u001b[0m\u001b[1;33m(\u001b[0m\u001b[1;36m10\u001b[0m\u001b[1;33m)\u001b[0m\u001b[1;33m\u001b[0m\u001b[1;33m\u001b[0m\u001b[0m\n",
      "\u001b[1;31mNameError\u001b[0m: name 'clustered_df' is not defined"
     ]
    }
   ],
   "source": [
    "# Create a new DataFrame including predicted clusters and cryptocurrencies features.\n",
    "# Concatentate the crypto_df and pcs_df DataFrames on the same columns.\n",
    "# YOUR CODE HERE\n",
    "\n",
    "#  Add a new column, \"CoinName\" to the clustered_df DataFrame that holds the names of the cryptocurrencies. \n",
    "# YOUR CODE HERE\n",
    "\n",
    "#  Add a new column, \"Class\" to the clustered_df DataFrame that holds the predictions.\n",
    "# YOUR CODE HERE\n",
    "\n",
    "# Print the shape of the clustered_df\n",
    "print(clustered_df.shape)\n",
    "clustered_df.head(10)"
   ]
  },
  {
   "cell_type": "markdown",
   "metadata": {},
   "source": [
    "### Deliverable 4: Visualizing Cryptocurrencies Results\n",
    "\n",
    "#### 3D-Scatter with Clusters"
   ]
  },
  {
   "cell_type": "code",
   "execution_count": null,
   "metadata": {},
   "outputs": [],
   "source": [
    "# Creating a 3D-Scatter with the PCA data and the clusters\n",
    "# YOUR CODE HERE\n"
   ]
  },
  {
   "cell_type": "code",
   "execution_count": null,
   "metadata": {},
   "outputs": [],
   "source": [
    "# Create a table with tradable cryptocurrencies.\n",
    "# YOUR CODE HERE"
   ]
  },
  {
   "cell_type": "code",
   "execution_count": null,
   "metadata": {},
   "outputs": [],
   "source": [
    "# Print the total number of tradable cryptocurrencies.\n",
    "# YOUR CODE HERE"
   ]
  },
  {
   "cell_type": "code",
   "execution_count": null,
   "metadata": {},
   "outputs": [],
   "source": [
    "# Scaling data to create the scatter plot with tradable cryptocurrencies.\n",
    "# YOUR CODE HERE"
   ]
  },
  {
   "cell_type": "code",
   "execution_count": null,
   "metadata": {},
   "outputs": [],
   "source": [
    "# Create a new DataFrame that has the scaled data with the clustered_df DataFrame index.\n",
    "# YOUR CODE HERE\n",
    "\n",
    "# Add the \"CoinName\" column from the clustered_df DataFrame to the new DataFrame.\n",
    "# YOUR CODE HERE\n",
    "\n",
    "# Add the \"Class\" column from the clustered_df DataFrame to the new DataFrame. \n",
    "# YOUR CODE HERE\n",
    "\n",
    "plot_df.head(10)"
   ]
  },
  {
   "cell_type": "code",
   "execution_count": null,
   "metadata": {},
   "outputs": [],
   "source": [
    "# Create a hvplot.scatter plot using x=\"TotalCoinsMined\" and y=\"TotalCoinSupply\".\n",
    "# YOUR CODE HERE\n"
   ]
  },
  {
   "cell_type": "code",
   "execution_count": null,
   "metadata": {},
   "outputs": [],
   "source": []
  }
 ],
 "metadata": {
  "file_extension": ".py",
  "kernelspec": {
   "display_name": "mlenv",
   "language": "python",
   "name": "mlenv"
  },
  "language_info": {
   "codemirror_mode": {
    "name": "ipython",
    "version": 3
   },
   "file_extension": ".py",
   "mimetype": "text/x-python",
   "name": "python",
   "nbconvert_exporter": "python",
   "pygments_lexer": "ipython3",
   "version": "3.7.13"
  },
  "latex_envs": {
   "LaTeX_envs_menu_present": true,
   "autoclose": false,
   "autocomplete": true,
   "bibliofile": "biblio.bib",
   "cite_by": "apalike",
   "current_citInitial": 1,
   "eqLabelWithNumbers": true,
   "eqNumInitial": 1,
   "hotkeys": {
    "equation": "Ctrl-E",
    "itemize": "Ctrl-I"
   },
   "labels_anchors": false,
   "latex_user_defs": false,
   "report_style_numbering": false,
   "user_envs_cfg": false
  },
  "mimetype": "text/x-python",
  "name": "python",
  "npconvert_exporter": "python",
  "pygments_lexer": "ipython3",
  "version": 3
 },
 "nbformat": 4,
 "nbformat_minor": 2
}
